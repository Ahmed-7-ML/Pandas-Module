{
 "cells": [
  {
   "cell_type": "code",
   "execution_count": 59,
   "id": "2b8a6cd6",
   "metadata": {},
   "outputs": [],
   "source": [
    "import pandas as pd"
   ]
  },
  {
   "cell_type": "code",
   "execution_count": 60,
   "id": "9d57535d",
   "metadata": {},
   "outputs": [],
   "source": [
    "persons = {\n",
    "    \"first\": \"Ahmed\",\n",
    "    \"last\": \"Akram\",\n",
    "    \"email\": \"AAA3@sss.com\"\n",
    "}"
   ]
  },
  {
   "cell_type": "code",
   "execution_count": 61,
   "id": "b45c3bf5",
   "metadata": {},
   "outputs": [],
   "source": [
    "people = {\n",
    "    \"first\": [\"Ahmed\"] ,\n",
    "    \"last\": [\"Akram\"],\n",
    "    \"email\": [\"AAA3@sss.com\"]\n",
    "}"
   ]
  },
  {
   "cell_type": "code",
   "execution_count": 62,
   "id": "68aaa6e8",
   "metadata": {},
   "outputs": [],
   "source": [
    "people = {\n",
    "    \"first\": [\"Ahmed\", \"Ammar\", \"Ebrahim\"],\n",
    "    \"last\": [\"Akram\", \"Mohamed\", \"Ali\"],\n",
    "    \"email\": [\"AAA3@sss.com\", \"BBB4@sss.com\", \"CCC5@sss.vom\"]\n",
    "}"
   ]
  },
  {
   "cell_type": "code",
   "execution_count": 63,
   "id": "e2e76bfc",
   "metadata": {},
   "outputs": [
    {
     "data": {
      "text/plain": [
       "['AAA3@sss.com', 'BBB4@sss.com', 'CCC5@sss.vom']"
      ]
     },
     "execution_count": 63,
     "metadata": {},
     "output_type": "execute_result"
    }
   ],
   "source": [
    "# Access a Key of Dictionary\n",
    "people[\"email\"]"
   ]
  },
  {
   "cell_type": "code",
   "execution_count": 64,
   "id": "66e686b5",
   "metadata": {},
   "outputs": [],
   "source": [
    "# Define a DataFrame\n",
    "# Data Frame -> 2D Data Structure Like a Table of Rows and Columns\n",
    "df = pd.DataFrame(people)"
   ]
  },
  {
   "cell_type": "code",
   "execution_count": 65,
   "id": "2e170c00",
   "metadata": {},
   "outputs": [
    {
     "data": {
      "text/html": [
       "<div>\n",
       "<style scoped>\n",
       "    .dataframe tbody tr th:only-of-type {\n",
       "        vertical-align: middle;\n",
       "    }\n",
       "\n",
       "    .dataframe tbody tr th {\n",
       "        vertical-align: top;\n",
       "    }\n",
       "\n",
       "    .dataframe thead th {\n",
       "        text-align: right;\n",
       "    }\n",
       "</style>\n",
       "<table border=\"1\" class=\"dataframe\">\n",
       "  <thead>\n",
       "    <tr style=\"text-align: right;\">\n",
       "      <th></th>\n",
       "      <th>first</th>\n",
       "      <th>last</th>\n",
       "      <th>email</th>\n",
       "    </tr>\n",
       "  </thead>\n",
       "  <tbody>\n",
       "    <tr>\n",
       "      <th>0</th>\n",
       "      <td>Ahmed</td>\n",
       "      <td>Akram</td>\n",
       "      <td>AAA3@sss.com</td>\n",
       "    </tr>\n",
       "    <tr>\n",
       "      <th>1</th>\n",
       "      <td>Ammar</td>\n",
       "      <td>Mohamed</td>\n",
       "      <td>BBB4@sss.com</td>\n",
       "    </tr>\n",
       "    <tr>\n",
       "      <th>2</th>\n",
       "      <td>Ebrahim</td>\n",
       "      <td>Ali</td>\n",
       "      <td>CCC5@sss.vom</td>\n",
       "    </tr>\n",
       "  </tbody>\n",
       "</table>\n",
       "</div>"
      ],
      "text/plain": [
       "     first     last         email\n",
       "0    Ahmed    Akram  AAA3@sss.com\n",
       "1    Ammar  Mohamed  BBB4@sss.com\n",
       "2  Ebrahim      Ali  CCC5@sss.vom"
      ]
     },
     "execution_count": 65,
     "metadata": {},
     "output_type": "execute_result"
    }
   ],
   "source": [
    "df"
   ]
  },
  {
   "cell_type": "code",
   "execution_count": 66,
   "id": "b637c727",
   "metadata": {},
   "outputs": [
    {
     "data": {
      "text/plain": [
       "0      Ahmed\n",
       "1      Ammar\n",
       "2    Ebrahim\n",
       "Name: first, dtype: object"
      ]
     },
     "execution_count": 66,
     "metadata": {},
     "output_type": "execute_result"
    }
   ],
   "source": [
    "# Access a Single Column -> Return a Pandas Series\n",
    "# 1st Way -> df[\"name of column\"]\n",
    "# 2nd Way -> df.column_name\n",
    "df[\"first\"]"
   ]
  },
  {
   "cell_type": "code",
   "execution_count": 67,
   "id": "f257e142",
   "metadata": {},
   "outputs": [
    {
     "data": {
      "text/plain": [
       "<bound method NDFrame.first of      first     last         email\n",
       "0    Ahmed    Akram  AAA3@sss.com\n",
       "1    Ammar  Mohamed  BBB4@sss.com\n",
       "2  Ebrahim      Ali  CCC5@sss.vom>"
      ]
     },
     "execution_count": 67,
     "metadata": {},
     "output_type": "execute_result"
    }
   ],
   "source": [
    "df.first"
   ]
  },
  {
   "cell_type": "code",
   "execution_count": 68,
   "id": "c0617495",
   "metadata": {},
   "outputs": [
    {
     "data": {
      "text/plain": [
       "0      Akram\n",
       "1    Mohamed\n",
       "2        Ali\n",
       "Name: last, dtype: object"
      ]
     },
     "execution_count": 68,
     "metadata": {},
     "output_type": "execute_result"
    }
   ],
   "source": [
    "df[\"last\"]"
   ]
  },
  {
   "cell_type": "code",
   "execution_count": 69,
   "id": "9a61f13a",
   "metadata": {},
   "outputs": [
    {
     "data": {
      "text/plain": [
       "<bound method NDFrame.last of      first     last         email\n",
       "0    Ahmed    Akram  AAA3@sss.com\n",
       "1    Ammar  Mohamed  BBB4@sss.com\n",
       "2  Ebrahim      Ali  CCC5@sss.vom>"
      ]
     },
     "execution_count": 69,
     "metadata": {},
     "output_type": "execute_result"
    }
   ],
   "source": [
    "df.last"
   ]
  },
  {
   "cell_type": "code",
   "execution_count": 70,
   "id": "13a86989",
   "metadata": {},
   "outputs": [
    {
     "data": {
      "text/plain": [
       "0    AAA3@sss.com\n",
       "1    BBB4@sss.com\n",
       "2    CCC5@sss.vom\n",
       "Name: email, dtype: object"
      ]
     },
     "execution_count": 70,
     "metadata": {},
     "output_type": "execute_result"
    }
   ],
   "source": [
    "df[\"email\"]"
   ]
  },
  {
   "cell_type": "code",
   "execution_count": 71,
   "id": "35727c4e",
   "metadata": {},
   "outputs": [
    {
     "data": {
      "text/plain": [
       "0    AAA3@sss.com\n",
       "1    BBB4@sss.com\n",
       "2    CCC5@sss.vom\n",
       "Name: email, dtype: object"
      ]
     },
     "execution_count": 71,
     "metadata": {},
     "output_type": "execute_result"
    }
   ],
   "source": [
    "df.email"
   ]
  },
  {
   "cell_type": "code",
   "execution_count": 72,
   "id": "957b4ad1",
   "metadata": {},
   "outputs": [
    {
     "data": {
      "text/plain": [
       "pandas.core.series.Series"
      ]
     },
     "execution_count": 72,
     "metadata": {},
     "output_type": "execute_result"
    }
   ],
   "source": [
    "type(df[\"email\"]) # Series -> Like a Column [List of Data], 1D Data Structure"
   ]
  },
  {
   "cell_type": "code",
   "execution_count": 73,
   "id": "ab4e6049",
   "metadata": {},
   "outputs": [
    {
     "data": {
      "text/html": [
       "<div>\n",
       "<style scoped>\n",
       "    .dataframe tbody tr th:only-of-type {\n",
       "        vertical-align: middle;\n",
       "    }\n",
       "\n",
       "    .dataframe tbody tr th {\n",
       "        vertical-align: top;\n",
       "    }\n",
       "\n",
       "    .dataframe thead th {\n",
       "        text-align: right;\n",
       "    }\n",
       "</style>\n",
       "<table border=\"1\" class=\"dataframe\">\n",
       "  <thead>\n",
       "    <tr style=\"text-align: right;\">\n",
       "      <th></th>\n",
       "      <th>last</th>\n",
       "      <th>first</th>\n",
       "    </tr>\n",
       "  </thead>\n",
       "  <tbody>\n",
       "    <tr>\n",
       "      <th>0</th>\n",
       "      <td>Akram</td>\n",
       "      <td>Ahmed</td>\n",
       "    </tr>\n",
       "    <tr>\n",
       "      <th>1</th>\n",
       "      <td>Mohamed</td>\n",
       "      <td>Ammar</td>\n",
       "    </tr>\n",
       "    <tr>\n",
       "      <th>2</th>\n",
       "      <td>Ali</td>\n",
       "      <td>Ebrahim</td>\n",
       "    </tr>\n",
       "  </tbody>\n",
       "</table>\n",
       "</div>"
      ],
      "text/plain": [
       "      last    first\n",
       "0    Akram    Ahmed\n",
       "1  Mohamed    Ammar\n",
       "2      Ali  Ebrahim"
      ]
     },
     "execution_count": 73,
     "metadata": {},
     "output_type": "execute_result"
    }
   ],
   "source": [
    "# Access More Than 1 Column -> List of Columns\n",
    "df[ ['last', 'first'] ]"
   ]
  },
  {
   "cell_type": "code",
   "execution_count": 74,
   "id": "ba057f5c",
   "metadata": {},
   "outputs": [
    {
     "data": {
      "text/html": [
       "<div>\n",
       "<style scoped>\n",
       "    .dataframe tbody tr th:only-of-type {\n",
       "        vertical-align: middle;\n",
       "    }\n",
       "\n",
       "    .dataframe tbody tr th {\n",
       "        vertical-align: top;\n",
       "    }\n",
       "\n",
       "    .dataframe thead th {\n",
       "        text-align: right;\n",
       "    }\n",
       "</style>\n",
       "<table border=\"1\" class=\"dataframe\">\n",
       "  <thead>\n",
       "    <tr style=\"text-align: right;\">\n",
       "      <th></th>\n",
       "      <th>first</th>\n",
       "      <th>email</th>\n",
       "    </tr>\n",
       "  </thead>\n",
       "  <tbody>\n",
       "    <tr>\n",
       "      <th>0</th>\n",
       "      <td>Ahmed</td>\n",
       "      <td>AAA3@sss.com</td>\n",
       "    </tr>\n",
       "    <tr>\n",
       "      <th>1</th>\n",
       "      <td>Ammar</td>\n",
       "      <td>BBB4@sss.com</td>\n",
       "    </tr>\n",
       "    <tr>\n",
       "      <th>2</th>\n",
       "      <td>Ebrahim</td>\n",
       "      <td>CCC5@sss.vom</td>\n",
       "    </tr>\n",
       "  </tbody>\n",
       "</table>\n",
       "</div>"
      ],
      "text/plain": [
       "     first         email\n",
       "0    Ahmed  AAA3@sss.com\n",
       "1    Ammar  BBB4@sss.com\n",
       "2  Ebrahim  CCC5@sss.vom"
      ]
     },
     "execution_count": 74,
     "metadata": {},
     "output_type": "execute_result"
    }
   ],
   "source": [
    "df[ ['first', 'email'] ]"
   ]
  },
  {
   "cell_type": "code",
   "execution_count": 75,
   "id": "9e96fe74",
   "metadata": {},
   "outputs": [
    {
     "data": {
      "text/plain": [
       "Index(['first', 'last', 'email'], dtype='object')"
      ]
     },
     "execution_count": 75,
     "metadata": {},
     "output_type": "execute_result"
    }
   ],
   "source": [
    "# Get All Column names of DF\n",
    "df.columns"
   ]
  },
  {
   "cell_type": "code",
   "execution_count": 76,
   "id": "b349848c",
   "metadata": {},
   "outputs": [
    {
     "data": {
      "text/plain": [
       "first           Ahmed\n",
       "last            Akram\n",
       "email    AAA3@sss.com\n",
       "Name: 0, dtype: object"
      ]
     },
     "execution_count": 76,
     "metadata": {},
     "output_type": "execute_result"
    }
   ],
   "source": [
    "# loc vs. iloc\n",
    "# iloc -> Access Rows by Index Integer Location\n",
    "# df.iloc[ : ,  :] -> df.iloc[Rows , Columns]\n",
    "df.iloc[0] # First Row"
   ]
  },
  {
   "cell_type": "code",
   "execution_count": 77,
   "id": "c61144c2",
   "metadata": {},
   "outputs": [
    {
     "data": {
      "text/plain": [
       "first           Ammar\n",
       "last          Mohamed\n",
       "email    BBB4@sss.com\n",
       "Name: 1, dtype: object"
      ]
     },
     "execution_count": 77,
     "metadata": {},
     "output_type": "execute_result"
    }
   ],
   "source": [
    "df.iloc[1] # Second Row"
   ]
  },
  {
   "cell_type": "code",
   "execution_count": 78,
   "id": "0609842d",
   "metadata": {},
   "outputs": [
    {
     "data": {
      "text/html": [
       "<div>\n",
       "<style scoped>\n",
       "    .dataframe tbody tr th:only-of-type {\n",
       "        vertical-align: middle;\n",
       "    }\n",
       "\n",
       "    .dataframe tbody tr th {\n",
       "        vertical-align: top;\n",
       "    }\n",
       "\n",
       "    .dataframe thead th {\n",
       "        text-align: right;\n",
       "    }\n",
       "</style>\n",
       "<table border=\"1\" class=\"dataframe\">\n",
       "  <thead>\n",
       "    <tr style=\"text-align: right;\">\n",
       "      <th></th>\n",
       "      <th>first</th>\n",
       "      <th>last</th>\n",
       "      <th>email</th>\n",
       "    </tr>\n",
       "  </thead>\n",
       "  <tbody>\n",
       "    <tr>\n",
       "      <th>1</th>\n",
       "      <td>Ammar</td>\n",
       "      <td>Mohamed</td>\n",
       "      <td>BBB4@sss.com</td>\n",
       "    </tr>\n",
       "  </tbody>\n",
       "</table>\n",
       "</div>"
      ],
      "text/plain": [
       "   first     last         email\n",
       "1  Ammar  Mohamed  BBB4@sss.com"
      ]
     },
     "execution_count": 78,
     "metadata": {},
     "output_type": "execute_result"
    }
   ],
   "source": [
    "df.iloc[[1]]"
   ]
  },
  {
   "cell_type": "code",
   "execution_count": 79,
   "id": "14ba545e",
   "metadata": {},
   "outputs": [
    {
     "data": {
      "text/html": [
       "<div>\n",
       "<style scoped>\n",
       "    .dataframe tbody tr th:only-of-type {\n",
       "        vertical-align: middle;\n",
       "    }\n",
       "\n",
       "    .dataframe tbody tr th {\n",
       "        vertical-align: top;\n",
       "    }\n",
       "\n",
       "    .dataframe thead th {\n",
       "        text-align: right;\n",
       "    }\n",
       "</style>\n",
       "<table border=\"1\" class=\"dataframe\">\n",
       "  <thead>\n",
       "    <tr style=\"text-align: right;\">\n",
       "      <th></th>\n",
       "      <th>first</th>\n",
       "      <th>last</th>\n",
       "      <th>email</th>\n",
       "    </tr>\n",
       "  </thead>\n",
       "  <tbody>\n",
       "    <tr>\n",
       "      <th>0</th>\n",
       "      <td>Ahmed</td>\n",
       "      <td>Akram</td>\n",
       "      <td>AAA3@sss.com</td>\n",
       "    </tr>\n",
       "    <tr>\n",
       "      <th>1</th>\n",
       "      <td>Ammar</td>\n",
       "      <td>Mohamed</td>\n",
       "      <td>BBB4@sss.com</td>\n",
       "    </tr>\n",
       "  </tbody>\n",
       "</table>\n",
       "</div>"
      ],
      "text/plain": [
       "   first     last         email\n",
       "0  Ahmed    Akram  AAA3@sss.com\n",
       "1  Ammar  Mohamed  BBB4@sss.com"
      ]
     },
     "execution_count": 79,
     "metadata": {},
     "output_type": "execute_result"
    }
   ],
   "source": [
    "################################################## IMPORTANT\n",
    "df.iloc[0:2] # First & Second Rows\n",
    "# End is Not Included"
   ]
  },
  {
   "cell_type": "code",
   "execution_count": 80,
   "id": "9badd8d8",
   "metadata": {},
   "outputs": [
    {
     "data": {
      "text/html": [
       "<div>\n",
       "<style scoped>\n",
       "    .dataframe tbody tr th:only-of-type {\n",
       "        vertical-align: middle;\n",
       "    }\n",
       "\n",
       "    .dataframe tbody tr th {\n",
       "        vertical-align: top;\n",
       "    }\n",
       "\n",
       "    .dataframe thead th {\n",
       "        text-align: right;\n",
       "    }\n",
       "</style>\n",
       "<table border=\"1\" class=\"dataframe\">\n",
       "  <thead>\n",
       "    <tr style=\"text-align: right;\">\n",
       "      <th></th>\n",
       "      <th>first</th>\n",
       "      <th>last</th>\n",
       "      <th>email</th>\n",
       "    </tr>\n",
       "  </thead>\n",
       "  <tbody>\n",
       "    <tr>\n",
       "      <th>0</th>\n",
       "      <td>Ahmed</td>\n",
       "      <td>Akram</td>\n",
       "      <td>AAA3@sss.com</td>\n",
       "    </tr>\n",
       "    <tr>\n",
       "      <th>1</th>\n",
       "      <td>Ammar</td>\n",
       "      <td>Mohamed</td>\n",
       "      <td>BBB4@sss.com</td>\n",
       "    </tr>\n",
       "  </tbody>\n",
       "</table>\n",
       "</div>"
      ],
      "text/plain": [
       "   first     last         email\n",
       "0  Ahmed    Akram  AAA3@sss.com\n",
       "1  Ammar  Mohamed  BBB4@sss.com"
      ]
     },
     "execution_count": 80,
     "metadata": {},
     "output_type": "execute_result"
    }
   ],
   "source": [
    "df.iloc[[0, 1]]"
   ]
  },
  {
   "cell_type": "code",
   "execution_count": 81,
   "id": "50a54e45",
   "metadata": {},
   "outputs": [
    {
     "data": {
      "text/plain": [
       "0      Ahmed\n",
       "1      Ammar\n",
       "2    Ebrahim\n",
       "Name: first, dtype: object"
      ]
     },
     "execution_count": 81,
     "metadata": {},
     "output_type": "execute_result"
    }
   ],
   "source": [
    "df.iloc[:, 0] # Access First Column and All Rows"
   ]
  },
  {
   "cell_type": "code",
   "execution_count": 82,
   "id": "fb5414aa",
   "metadata": {},
   "outputs": [
    {
     "data": {
      "text/plain": [
       "0    AAA3@sss.com\n",
       "1    BBB4@sss.com\n",
       "2    CCC5@sss.vom\n",
       "Name: email, dtype: object"
      ]
     },
     "execution_count": 82,
     "metadata": {},
     "output_type": "execute_result"
    }
   ],
   "source": [
    "df.iloc[:, 2] # Access Third Column and All Rows"
   ]
  },
  {
   "cell_type": "code",
   "execution_count": 83,
   "id": "e5ef2b5c",
   "metadata": {},
   "outputs": [
    {
     "data": {
      "text/plain": [
       "0    AAA3@sss.com\n",
       "1    BBB4@sss.com\n",
       "Name: email, dtype: object"
      ]
     },
     "execution_count": 83,
     "metadata": {},
     "output_type": "execute_result"
    }
   ],
   "source": [
    "df.iloc[[0, 1], 2] # Access 1st and 2nd Rows with Third Column"
   ]
  },
  {
   "cell_type": "code",
   "execution_count": 84,
   "id": "80e8703a",
   "metadata": {},
   "outputs": [
    {
     "data": {
      "text/plain": [
       "0    AAA3@sss.com\n",
       "1    BBB4@sss.com\n",
       "Name: email, dtype: object"
      ]
     },
     "execution_count": 84,
     "metadata": {},
     "output_type": "execute_result"
    }
   ],
   "source": [
    "df.iloc[0:2, 2] # Anthor Way"
   ]
  },
  {
   "cell_type": "code",
   "execution_count": 85,
   "id": "0855624f",
   "metadata": {},
   "outputs": [
    {
     "data": {
      "text/html": [
       "<div>\n",
       "<style scoped>\n",
       "    .dataframe tbody tr th:only-of-type {\n",
       "        vertical-align: middle;\n",
       "    }\n",
       "\n",
       "    .dataframe tbody tr th {\n",
       "        vertical-align: top;\n",
       "    }\n",
       "\n",
       "    .dataframe thead th {\n",
       "        text-align: right;\n",
       "    }\n",
       "</style>\n",
       "<table border=\"1\" class=\"dataframe\">\n",
       "  <thead>\n",
       "    <tr style=\"text-align: right;\">\n",
       "      <th></th>\n",
       "      <th>first</th>\n",
       "      <th>last</th>\n",
       "      <th>email</th>\n",
       "    </tr>\n",
       "  </thead>\n",
       "  <tbody>\n",
       "    <tr>\n",
       "      <th>0</th>\n",
       "      <td>Ahmed</td>\n",
       "      <td>Akram</td>\n",
       "      <td>AAA3@sss.com</td>\n",
       "    </tr>\n",
       "    <tr>\n",
       "      <th>1</th>\n",
       "      <td>Ammar</td>\n",
       "      <td>Mohamed</td>\n",
       "      <td>BBB4@sss.com</td>\n",
       "    </tr>\n",
       "    <tr>\n",
       "      <th>2</th>\n",
       "      <td>Ebrahim</td>\n",
       "      <td>Ali</td>\n",
       "      <td>CCC5@sss.vom</td>\n",
       "    </tr>\n",
       "  </tbody>\n",
       "</table>\n",
       "</div>"
      ],
      "text/plain": [
       "     first     last         email\n",
       "0    Ahmed    Akram  AAA3@sss.com\n",
       "1    Ammar  Mohamed  BBB4@sss.com\n",
       "2  Ebrahim      Ali  CCC5@sss.vom"
      ]
     },
     "execution_count": 85,
     "metadata": {},
     "output_type": "execute_result"
    }
   ],
   "source": [
    "# loc -> Location by Labels\n",
    "df"
   ]
  },
  {
   "cell_type": "code",
   "execution_count": 86,
   "id": "558e1c46",
   "metadata": {},
   "outputs": [],
   "source": [
    "# Row Labels -> 0, 1, 2\n",
    "# Column Labels -> \"first\", \"last\", \"email\""
   ]
  },
  {
   "cell_type": "code",
   "execution_count": 87,
   "id": "4c73b43f",
   "metadata": {},
   "outputs": [
    {
     "data": {
      "text/plain": [
       "first           Ahmed\n",
       "last            Akram\n",
       "email    AAA3@sss.com\n",
       "Name: 0, dtype: object"
      ]
     },
     "execution_count": 87,
     "metadata": {},
     "output_type": "execute_result"
    }
   ],
   "source": [
    "df.loc[0]"
   ]
  },
  {
   "cell_type": "code",
   "execution_count": 88,
   "id": "71d9e574",
   "metadata": {},
   "outputs": [
    {
     "data": {
      "text/html": [
       "<div>\n",
       "<style scoped>\n",
       "    .dataframe tbody tr th:only-of-type {\n",
       "        vertical-align: middle;\n",
       "    }\n",
       "\n",
       "    .dataframe tbody tr th {\n",
       "        vertical-align: top;\n",
       "    }\n",
       "\n",
       "    .dataframe thead th {\n",
       "        text-align: right;\n",
       "    }\n",
       "</style>\n",
       "<table border=\"1\" class=\"dataframe\">\n",
       "  <thead>\n",
       "    <tr style=\"text-align: right;\">\n",
       "      <th></th>\n",
       "      <th>first</th>\n",
       "      <th>last</th>\n",
       "      <th>email</th>\n",
       "    </tr>\n",
       "  </thead>\n",
       "  <tbody>\n",
       "    <tr>\n",
       "      <th>0</th>\n",
       "      <td>Ahmed</td>\n",
       "      <td>Akram</td>\n",
       "      <td>AAA3@sss.com</td>\n",
       "    </tr>\n",
       "    <tr>\n",
       "      <th>1</th>\n",
       "      <td>Ammar</td>\n",
       "      <td>Mohamed</td>\n",
       "      <td>BBB4@sss.com</td>\n",
       "    </tr>\n",
       "  </tbody>\n",
       "</table>\n",
       "</div>"
      ],
      "text/plain": [
       "   first     last         email\n",
       "0  Ahmed    Akram  AAA3@sss.com\n",
       "1  Ammar  Mohamed  BBB4@sss.com"
      ]
     },
     "execution_count": 88,
     "metadata": {},
     "output_type": "execute_result"
    }
   ],
   "source": [
    "df.loc[[0,1]]"
   ]
  },
  {
   "cell_type": "code",
   "execution_count": 89,
   "id": "43a2949d",
   "metadata": {},
   "outputs": [
    {
     "data": {
      "text/html": [
       "<div>\n",
       "<style scoped>\n",
       "    .dataframe tbody tr th:only-of-type {\n",
       "        vertical-align: middle;\n",
       "    }\n",
       "\n",
       "    .dataframe tbody tr th {\n",
       "        vertical-align: top;\n",
       "    }\n",
       "\n",
       "    .dataframe thead th {\n",
       "        text-align: right;\n",
       "    }\n",
       "</style>\n",
       "<table border=\"1\" class=\"dataframe\">\n",
       "  <thead>\n",
       "    <tr style=\"text-align: right;\">\n",
       "      <th></th>\n",
       "      <th>first</th>\n",
       "      <th>last</th>\n",
       "      <th>email</th>\n",
       "    </tr>\n",
       "  </thead>\n",
       "  <tbody>\n",
       "    <tr>\n",
       "      <th>0</th>\n",
       "      <td>Ahmed</td>\n",
       "      <td>Akram</td>\n",
       "      <td>AAA3@sss.com</td>\n",
       "    </tr>\n",
       "    <tr>\n",
       "      <th>1</th>\n",
       "      <td>Ammar</td>\n",
       "      <td>Mohamed</td>\n",
       "      <td>BBB4@sss.com</td>\n",
       "    </tr>\n",
       "  </tbody>\n",
       "</table>\n",
       "</div>"
      ],
      "text/plain": [
       "   first     last         email\n",
       "0  Ahmed    Akram  AAA3@sss.com\n",
       "1  Ammar  Mohamed  BBB4@sss.com"
      ]
     },
     "execution_count": 89,
     "metadata": {},
     "output_type": "execute_result"
    }
   ],
   "source": [
    "################################################## IMPORTANT\n",
    "df.loc[0:1] # End is Included"
   ]
  },
  {
   "cell_type": "code",
   "execution_count": 90,
   "id": "fb08f787",
   "metadata": {},
   "outputs": [
    {
     "data": {
      "text/plain": [
       "0    AAA3@sss.com\n",
       "1    BBB4@sss.com\n",
       "2    CCC5@sss.vom\n",
       "Name: email, dtype: object"
      ]
     },
     "execution_count": 90,
     "metadata": {},
     "output_type": "execute_result"
    }
   ],
   "source": [
    "df.loc[:, \"email\"]"
   ]
  },
  {
   "cell_type": "code",
   "execution_count": 91,
   "id": "ea467c19",
   "metadata": {},
   "outputs": [
    {
     "data": {
      "text/plain": [
       "0    AAA3@sss.com\n",
       "1    BBB4@sss.com\n",
       "Name: email, dtype: object"
      ]
     },
     "execution_count": 91,
     "metadata": {},
     "output_type": "execute_result"
    }
   ],
   "source": [
    "df.loc[[0,1], \"email\"]"
   ]
  },
  {
   "cell_type": "code",
   "execution_count": 92,
   "id": "75f3aa5e",
   "metadata": {},
   "outputs": [
    {
     "data": {
      "text/html": [
       "<div>\n",
       "<style scoped>\n",
       "    .dataframe tbody tr th:only-of-type {\n",
       "        vertical-align: middle;\n",
       "    }\n",
       "\n",
       "    .dataframe tbody tr th {\n",
       "        vertical-align: top;\n",
       "    }\n",
       "\n",
       "    .dataframe thead th {\n",
       "        text-align: right;\n",
       "    }\n",
       "</style>\n",
       "<table border=\"1\" class=\"dataframe\">\n",
       "  <thead>\n",
       "    <tr style=\"text-align: right;\">\n",
       "      <th></th>\n",
       "      <th>email</th>\n",
       "      <th>first</th>\n",
       "    </tr>\n",
       "  </thead>\n",
       "  <tbody>\n",
       "    <tr>\n",
       "      <th>0</th>\n",
       "      <td>AAA3@sss.com</td>\n",
       "      <td>Ahmed</td>\n",
       "    </tr>\n",
       "    <tr>\n",
       "      <th>1</th>\n",
       "      <td>BBB4@sss.com</td>\n",
       "      <td>Ammar</td>\n",
       "    </tr>\n",
       "  </tbody>\n",
       "</table>\n",
       "</div>"
      ],
      "text/plain": [
       "          email  first\n",
       "0  AAA3@sss.com  Ahmed\n",
       "1  BBB4@sss.com  Ammar"
      ]
     },
     "execution_count": 92,
     "metadata": {},
     "output_type": "execute_result"
    }
   ],
   "source": [
    "df.loc[[0,1], [\"email\", \"first\"]]"
   ]
  },
  {
   "cell_type": "code",
   "execution_count": 93,
   "id": "3bd84cd5",
   "metadata": {},
   "outputs": [
    {
     "data": {
      "text/html": [
       "<div>\n",
       "<style scoped>\n",
       "    .dataframe tbody tr th:only-of-type {\n",
       "        vertical-align: middle;\n",
       "    }\n",
       "\n",
       "    .dataframe tbody tr th {\n",
       "        vertical-align: top;\n",
       "    }\n",
       "\n",
       "    .dataframe thead th {\n",
       "        text-align: right;\n",
       "    }\n",
       "</style>\n",
       "<table border=\"1\" class=\"dataframe\">\n",
       "  <thead>\n",
       "    <tr style=\"text-align: right;\">\n",
       "      <th></th>\n",
       "      <th>first</th>\n",
       "      <th>last</th>\n",
       "      <th>email</th>\n",
       "      <th>Liked</th>\n",
       "    </tr>\n",
       "  </thead>\n",
       "  <tbody>\n",
       "    <tr>\n",
       "      <th>0</th>\n",
       "      <td>Ahmed</td>\n",
       "      <td>Akram</td>\n",
       "      <td>AAA3@sss.com</td>\n",
       "      <td>Yes</td>\n",
       "    </tr>\n",
       "    <tr>\n",
       "      <th>1</th>\n",
       "      <td>Ammar</td>\n",
       "      <td>Mohamed</td>\n",
       "      <td>BBB4@sss.com</td>\n",
       "      <td>No</td>\n",
       "    </tr>\n",
       "    <tr>\n",
       "      <th>2</th>\n",
       "      <td>Ebrahim</td>\n",
       "      <td>Ali</td>\n",
       "      <td>CCC5@sss.vom</td>\n",
       "      <td>No</td>\n",
       "    </tr>\n",
       "  </tbody>\n",
       "</table>\n",
       "</div>"
      ],
      "text/plain": [
       "     first     last         email Liked\n",
       "0    Ahmed    Akram  AAA3@sss.com   Yes\n",
       "1    Ammar  Mohamed  BBB4@sss.com    No\n",
       "2  Ebrahim      Ali  CCC5@sss.vom    No"
      ]
     },
     "execution_count": 93,
     "metadata": {},
     "output_type": "execute_result"
    }
   ],
   "source": [
    "df[\"Liked\"] = [\"Yes\", \"No\", \"No\"]\n",
    "df"
   ]
  },
  {
   "cell_type": "code",
   "execution_count": 94,
   "id": "5baf121c",
   "metadata": {},
   "outputs": [
    {
     "data": {
      "text/plain": [
       "No     2\n",
       "Yes    1\n",
       "Name: Liked, dtype: int64"
      ]
     },
     "execution_count": 94,
     "metadata": {},
     "output_type": "execute_result"
    }
   ],
   "source": [
    "df[\"Liked\"].value_counts() # Counter for each Unique Cell Value"
   ]
  },
  {
   "cell_type": "code",
   "execution_count": 95,
   "id": "2d5a8401",
   "metadata": {},
   "outputs": [
    {
     "data": {
      "text/plain": [
       "'Yes'"
      ]
     },
     "execution_count": 95,
     "metadata": {},
     "output_type": "execute_result"
    }
   ],
   "source": [
    "df.loc[0, \"Liked\"] # Cell Value at  First Row and First Column"
   ]
  },
  {
   "cell_type": "code",
   "execution_count": 96,
   "id": "ca99d41a",
   "metadata": {},
   "outputs": [
    {
     "data": {
      "text/plain": [
       "0    Yes\n",
       "2     No\n",
       "Name: Liked, dtype: object"
      ]
     },
     "execution_count": 96,
     "metadata": {},
     "output_type": "execute_result"
    }
   ],
   "source": [
    "df.loc[[0, 2], \"Liked\"] # Cell Value at (First & Third) Rows and First Column"
   ]
  },
  {
   "cell_type": "code",
   "execution_count": 97,
   "id": "6107a78f",
   "metadata": {},
   "outputs": [
    {
     "data": {
      "text/plain": [
       "0    Yes\n",
       "2     No\n",
       "Name: Liked, dtype: object"
      ]
     },
     "execution_count": 97,
     "metadata": {},
     "output_type": "execute_result"
    }
   ],
   "source": [
    "df.loc[[0, 2], \"Liked\"] # Cell Value at (First & Third) Rows and First Column"
   ]
  },
  {
   "cell_type": "code",
   "execution_count": 98,
   "id": "2ea57a79",
   "metadata": {},
   "outputs": [
    {
     "data": {
      "text/html": [
       "<div>\n",
       "<style scoped>\n",
       "    .dataframe tbody tr th:only-of-type {\n",
       "        vertical-align: middle;\n",
       "    }\n",
       "\n",
       "    .dataframe tbody tr th {\n",
       "        vertical-align: top;\n",
       "    }\n",
       "\n",
       "    .dataframe thead th {\n",
       "        text-align: right;\n",
       "    }\n",
       "</style>\n",
       "<table border=\"1\" class=\"dataframe\">\n",
       "  <thead>\n",
       "    <tr style=\"text-align: right;\">\n",
       "      <th></th>\n",
       "      <th>first</th>\n",
       "      <th>last</th>\n",
       "      <th>email</th>\n",
       "    </tr>\n",
       "  </thead>\n",
       "  <tbody>\n",
       "    <tr>\n",
       "      <th>0</th>\n",
       "      <td>Ahmed</td>\n",
       "      <td>Akram</td>\n",
       "      <td>AAA3@sss.com</td>\n",
       "    </tr>\n",
       "    <tr>\n",
       "      <th>1</th>\n",
       "      <td>Ammar</td>\n",
       "      <td>Mohamed</td>\n",
       "      <td>BBB4@sss.com</td>\n",
       "    </tr>\n",
       "    <tr>\n",
       "      <th>2</th>\n",
       "      <td>Ebrahim</td>\n",
       "      <td>Ali</td>\n",
       "      <td>CCC5@sss.vom</td>\n",
       "    </tr>\n",
       "  </tbody>\n",
       "</table>\n",
       "</div>"
      ],
      "text/plain": [
       "     first     last         email\n",
       "0    Ahmed    Akram  AAA3@sss.com\n",
       "1    Ammar  Mohamed  BBB4@sss.com\n",
       "2  Ebrahim      Ali  CCC5@sss.vom"
      ]
     },
     "execution_count": 98,
     "metadata": {},
     "output_type": "execute_result"
    }
   ],
   "source": [
    "df.loc[0:2, \"first\":\"email\"]"
   ]
  },
  {
   "cell_type": "code",
   "execution_count": 99,
   "id": "435e365f",
   "metadata": {},
   "outputs": [
    {
     "data": {
      "text/plain": [
       "Index(['first', 'last', 'email', 'Liked'], dtype='object')"
      ]
     },
     "execution_count": 99,
     "metadata": {},
     "output_type": "execute_result"
    }
   ],
   "source": [
    "df.columns"
   ]
  },
  {
   "cell_type": "code",
   "execution_count": 100,
   "id": "a627a119",
   "metadata": {},
   "outputs": [
    {
     "data": {
      "text/plain": [
       "first    3\n",
       "last     3\n",
       "email    3\n",
       "Liked    3\n",
       "dtype: int64"
      ]
     },
     "execution_count": 100,
     "metadata": {},
     "output_type": "execute_result"
    }
   ],
   "source": [
    "df.count()"
   ]
  }
 ],
 "metadata": {
  "kernelspec": {
   "display_name": "Python 3 (ipykernel)",
   "language": "python",
   "name": "python3"
  },
  "language_info": {
   "codemirror_mode": {
    "name": "ipython",
    "version": 3
   },
   "file_extension": ".py",
   "mimetype": "text/x-python",
   "name": "python",
   "nbconvert_exporter": "python",
   "pygments_lexer": "ipython3",
   "version": "3.10.9"
  }
 },
 "nbformat": 4,
 "nbformat_minor": 5
}
