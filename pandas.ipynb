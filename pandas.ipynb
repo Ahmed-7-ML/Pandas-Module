{
 "cells": [
  {
   "cell_type": "markdown",
   "id": "6cf39bea",
   "metadata": {
    "papermill": {
     "duration": 0.013266,
     "end_time": "2025-10-02T20:45:40.518077",
     "exception": false,
     "start_time": "2025-10-02T20:45:40.504811",
     "status": "completed"
    },
    "tags": []
   },
   "source": [
    "## *`Pandas`:*\n",
    "    1. Open Source library that built on top of Numpy.\n",
    "    2. Used in Data Preparation and Cleaning.\n",
    "    3. Has built-in visualization features.\n",
    "    4. Work with data from wide variety of sources."
   ]
  },
  {
   "cell_type": "code",
   "execution_count": 1,
   "id": "384cda28",
   "metadata": {
    "execution": {
     "iopub.execute_input": "2025-10-02T20:45:40.544751Z",
     "iopub.status.busy": "2025-10-02T20:45:40.544444Z",
     "iopub.status.idle": "2025-10-02T20:45:42.280247Z",
     "shell.execute_reply": "2025-10-02T20:45:42.279592Z"
    },
    "papermill": {
     "duration": 1.750106,
     "end_time": "2025-10-02T20:45:42.281847",
     "exception": false,
     "start_time": "2025-10-02T20:45:40.531741",
     "status": "completed"
    },
    "tags": []
   },
   "outputs": [],
   "source": [
    "import numpy as np\n",
    "import pandas as pd"
   ]
  },
  {
   "cell_type": "markdown",
   "id": "be52be41",
   "metadata": {
    "papermill": {
     "duration": 0.011505,
     "end_time": "2025-10-02T20:45:42.305421",
     "exception": false,
     "start_time": "2025-10-02T20:45:42.293916",
     "status": "completed"
    },
    "tags": []
   },
   "source": [
    "![ds](/kaggle/input/attachments/ds.png)"
   ]
  },
  {
   "cell_type": "markdown",
   "id": "4e829a9a",
   "metadata": {
    "papermill": {
     "duration": 0.01138,
     "end_time": "2025-10-02T20:45:42.328427",
     "exception": false,
     "start_time": "2025-10-02T20:45:42.317047",
     "status": "completed"
    },
    "tags": []
   },
   "source": [
    "- ### *`Series : ` Single-Column Data that represent  single variable and information of a single type.*\n",
    "- ### *`Data Frame : ` Multi-Column Data that each column represents a different variable , each column has its own data type and the information can be hetergeneous.*"
   ]
  },
  {
   "cell_type": "markdown",
   "id": "077b1df4",
   "metadata": {
    "papermill": {
     "duration": 0.01123,
     "end_time": "2025-10-02T20:45:42.351209",
     "exception": false,
     "start_time": "2025-10-02T20:45:42.339979",
     "status": "completed"
    },
    "tags": []
   },
   "source": [
    "### *`Series` -> pd.Series(data=.., index=.., dtype=.., name=..., copy=..)*"
   ]
  },
  {
   "cell_type": "code",
   "execution_count": 2,
   "id": "4b256002",
   "metadata": {
    "execution": {
     "iopub.execute_input": "2025-10-02T20:45:42.375523Z",
     "iopub.status.busy": "2025-10-02T20:45:42.375093Z",
     "iopub.status.idle": "2025-10-02T20:45:42.392072Z",
     "shell.execute_reply": "2025-10-02T20:45:42.391274Z"
    },
    "papermill": {
     "duration": 0.030767,
     "end_time": "2025-10-02T20:45:42.393385",
     "exception": false,
     "start_time": "2025-10-02T20:45:42.362618",
     "status": "completed"
    },
    "tags": []
   },
   "outputs": [
    {
     "data": {
      "text/plain": [
       "0     G\n",
       "1     E\n",
       "2     E\n",
       "3     K\n",
       "4     S\n",
       "5     F\n",
       "6     O\n",
       "7     R\n",
       "8     G\n",
       "9     E\n",
       "10    E\n",
       "11    K\n",
       "12    S\n",
       "dtype: object"
      ]
     },
     "execution_count": 2,
     "metadata": {},
     "output_type": "execute_result"
    }
   ],
   "source": [
    "# From List to Series\n",
    "chars = ['G', 'E', 'E', 'K', 'S', 'F', 'O', 'R', 'G', 'E', 'E', 'K', 'S']\n",
    "\n",
    "ser1 = pd.Series(data=chars)\n",
    "\n",
    "ser1"
   ]
  },
  {
   "cell_type": "code",
   "execution_count": 3,
   "id": "41bd136a",
   "metadata": {
    "execution": {
     "iopub.execute_input": "2025-10-02T20:45:42.418937Z",
     "iopub.status.busy": "2025-10-02T20:45:42.418057Z",
     "iopub.status.idle": "2025-10-02T20:45:42.424567Z",
     "shell.execute_reply": "2025-10-02T20:45:42.423858Z"
    },
    "papermill": {
     "duration": 0.020083,
     "end_time": "2025-10-02T20:45:42.425766",
     "exception": false,
     "start_time": "2025-10-02T20:45:42.405683",
     "status": "completed"
    },
    "tags": []
   },
   "outputs": [
    {
     "data": {
      "text/plain": [
       "13    G\n",
       "14    E\n",
       "15    E\n",
       "16    K\n",
       "17    S\n",
       "18    F\n",
       "19    O\n",
       "20    R\n",
       "21    G\n",
       "22    E\n",
       "23    E\n",
       "24    K\n",
       "25    S\n",
       "dtype: object"
      ]
     },
     "execution_count": 3,
     "metadata": {},
     "output_type": "execute_result"
    }
   ],
   "source": [
    "# You can Change the Indics.\n",
    "ser2 = pd.Series(data=chars, index=np.arange(13, 26))\n",
    "\n",
    "ser2"
   ]
  },
  {
   "cell_type": "code",
   "execution_count": 4,
   "id": "951a42f3",
   "metadata": {
    "execution": {
     "iopub.execute_input": "2025-10-02T20:45:42.509423Z",
     "iopub.status.busy": "2025-10-02T20:45:42.508625Z",
     "iopub.status.idle": "2025-10-02T20:45:42.515053Z",
     "shell.execute_reply": "2025-10-02T20:45:42.514396Z"
    },
    "papermill": {
     "duration": 0.020497,
     "end_time": "2025-10-02T20:45:42.516227",
     "exception": false,
     "start_time": "2025-10-02T20:45:42.495730",
     "status": "completed"
    },
    "tags": []
   },
   "outputs": [
    {
     "data": {
      "text/plain": [
       "0     G\n",
       "1     E\n",
       "2     E\n",
       "3     K\n",
       "4     S\n",
       "5     F\n",
       "6     O\n",
       "7     R\n",
       "8     G\n",
       "9     E\n",
       "10    E\n",
       "11    K\n",
       "12    S\n",
       "Name: Characters, dtype: object"
      ]
     },
     "execution_count": 4,
     "metadata": {},
     "output_type": "execute_result"
    }
   ],
   "source": [
    "# Put a Name for the Series\n",
    "ser3 = pd.Series(chars, name='Characters')\n",
    "\n",
    "ser3"
   ]
  },
  {
   "cell_type": "code",
   "execution_count": 5,
   "id": "da2eaa36",
   "metadata": {
    "execution": {
     "iopub.execute_input": "2025-10-02T20:45:42.541920Z",
     "iopub.status.busy": "2025-10-02T20:45:42.541187Z",
     "iopub.status.idle": "2025-10-02T20:45:42.551071Z",
     "shell.execute_reply": "2025-10-02T20:45:42.550345Z"
    },
    "papermill": {
     "duration": 0.023926,
     "end_time": "2025-10-02T20:45:42.552440",
     "exception": false,
     "start_time": "2025-10-02T20:45:42.528514",
     "status": "completed"
    },
    "tags": []
   },
   "outputs": [
    {
     "data": {
      "text/plain": [
       "G    2\n",
       "E    4\n",
       "K    2\n",
       "S    2\n",
       "F    1\n",
       "O    1\n",
       "R    1\n",
       "Name: Chars, dtype: int64"
      ]
     },
     "execution_count": 5,
     "metadata": {},
     "output_type": "execute_result"
    }
   ],
   "source": [
    "# From Dict to Series\n",
    "chars = {'G': 2, 'E': 4, 'K': 2, 'S': 2, 'F': 1, 'O': 1, 'R': 1}\n",
    "\n",
    "# As Dictionary has Key:Value Pairs -> The Series make the Keys as the Indics and Values as Column Values\n",
    "ser4 = pd.Series(chars, name='Chars')\n",
    "ser4"
   ]
  },
  {
   "cell_type": "markdown",
   "id": "dd45ad56",
   "metadata": {
    "papermill": {
     "duration": 0.011969,
     "end_time": "2025-10-02T20:45:42.576792",
     "exception": false,
     "start_time": "2025-10-02T20:45:42.564823",
     "status": "completed"
    },
    "tags": []
   },
   "source": [
    "*`Indexing and Slicing : ` You can deal with numeric indeics or the indices you made*"
   ]
  },
  {
   "cell_type": "code",
   "execution_count": 6,
   "id": "66677c83",
   "metadata": {
    "execution": {
     "iopub.execute_input": "2025-10-02T20:45:42.602540Z",
     "iopub.status.busy": "2025-10-02T20:45:42.602219Z",
     "iopub.status.idle": "2025-10-02T20:45:42.608608Z",
     "shell.execute_reply": "2025-10-02T20:45:42.607972Z"
    },
    "papermill": {
     "duration": 0.020743,
     "end_time": "2025-10-02T20:45:42.609919",
     "exception": false,
     "start_time": "2025-10-02T20:45:42.589176",
     "status": "completed"
    },
    "tags": []
   },
   "outputs": [
    {
     "data": {
      "text/plain": [
       "2"
      ]
     },
     "execution_count": 6,
     "metadata": {},
     "output_type": "execute_result"
    }
   ],
   "source": [
    "ser4['G']   # Access the Column Values with Index= 'G'"
   ]
  },
  {
   "cell_type": "code",
   "execution_count": 7,
   "id": "567d7d67",
   "metadata": {
    "execution": {
     "iopub.execute_input": "2025-10-02T20:45:42.635328Z",
     "iopub.status.busy": "2025-10-02T20:45:42.635033Z",
     "iopub.status.idle": "2025-10-02T20:45:42.643343Z",
     "shell.execute_reply": "2025-10-02T20:45:42.642616Z"
    },
    "papermill": {
     "duration": 0.022456,
     "end_time": "2025-10-02T20:45:42.644663",
     "exception": false,
     "start_time": "2025-10-02T20:45:42.622207",
     "status": "completed"
    },
    "tags": []
   },
   "outputs": [
    {
     "data": {
      "text/plain": [
       "G    2\n",
       "E    4\n",
       "K    2\n",
       "S    2\n",
       "Name: Chars, dtype: int64"
      ]
     },
     "execution_count": 7,
     "metadata": {},
     "output_type": "execute_result"
    }
   ],
   "source": [
    "# If the Indices are not numeric -> The Stop value is INCLUSIVE\n",
    "# [Start: Stop]\n",
    "ser4['G': 'S']"
   ]
  },
  {
   "cell_type": "code",
   "execution_count": 8,
   "id": "4c2b5799",
   "metadata": {
    "execution": {
     "iopub.execute_input": "2025-10-02T20:45:42.670162Z",
     "iopub.status.busy": "2025-10-02T20:45:42.669868Z",
     "iopub.status.idle": "2025-10-02T20:45:42.676030Z",
     "shell.execute_reply": "2025-10-02T20:45:42.675395Z"
    },
    "papermill": {
     "duration": 0.020276,
     "end_time": "2025-10-02T20:45:42.677238",
     "exception": false,
     "start_time": "2025-10-02T20:45:42.656962",
     "status": "completed"
    },
    "tags": []
   },
   "outputs": [
    {
     "data": {
      "text/plain": [
       "0     G\n",
       "1     E\n",
       "2     E\n",
       "3     K\n",
       "4     S\n",
       "5     F\n",
       "6     O\n",
       "7     R\n",
       "8     G\n",
       "9     E\n",
       "10    E\n",
       "11    K\n",
       "12    S\n",
       "Name: Characters, dtype: object"
      ]
     },
     "execution_count": 8,
     "metadata": {},
     "output_type": "execute_result"
    }
   ],
   "source": [
    "ser3"
   ]
  },
  {
   "cell_type": "code",
   "execution_count": 9,
   "id": "3ad5c09e",
   "metadata": {
    "execution": {
     "iopub.execute_input": "2025-10-02T20:45:42.703731Z",
     "iopub.status.busy": "2025-10-02T20:45:42.702871Z",
     "iopub.status.idle": "2025-10-02T20:45:42.708534Z",
     "shell.execute_reply": "2025-10-02T20:45:42.707777Z"
    },
    "papermill": {
     "duration": 0.020018,
     "end_time": "2025-10-02T20:45:42.709839",
     "exception": false,
     "start_time": "2025-10-02T20:45:42.689821",
     "status": "completed"
    },
    "tags": []
   },
   "outputs": [
    {
     "data": {
      "text/plain": [
       "'F'"
      ]
     },
     "execution_count": 9,
     "metadata": {},
     "output_type": "execute_result"
    }
   ],
   "source": [
    "ser3[5]"
   ]
  },
  {
   "cell_type": "code",
   "execution_count": 10,
   "id": "147e7b30",
   "metadata": {
    "execution": {
     "iopub.execute_input": "2025-10-02T20:45:42.736146Z",
     "iopub.status.busy": "2025-10-02T20:45:42.735838Z",
     "iopub.status.idle": "2025-10-02T20:45:42.741608Z",
     "shell.execute_reply": "2025-10-02T20:45:42.740863Z"
    },
    "papermill": {
     "duration": 0.020344,
     "end_time": "2025-10-02T20:45:42.742918",
     "exception": false,
     "start_time": "2025-10-02T20:45:42.722574",
     "status": "completed"
    },
    "tags": []
   },
   "outputs": [
    {
     "data": {
      "text/plain": [
       "0    G\n",
       "1    E\n",
       "2    E\n",
       "3    K\n",
       "Name: Characters, dtype: object"
      ]
     },
     "execution_count": 10,
     "metadata": {},
     "output_type": "execute_result"
    }
   ],
   "source": [
    "# If the Indices are numeric -> The Stop value is EXCLUSIVE\n",
    "ser3[0:4]\n",
    "# Access rows from index = 0 to index = 3   (4 Values)"
   ]
  },
  {
   "cell_type": "code",
   "execution_count": 11,
   "id": "17ef49bd",
   "metadata": {
    "execution": {
     "iopub.execute_input": "2025-10-02T20:45:42.769016Z",
     "iopub.status.busy": "2025-10-02T20:45:42.768347Z",
     "iopub.status.idle": "2025-10-02T20:45:42.773868Z",
     "shell.execute_reply": "2025-10-02T20:45:42.773262Z"
    },
    "papermill": {
     "duration": 0.019705,
     "end_time": "2025-10-02T20:45:42.775046",
     "exception": false,
     "start_time": "2025-10-02T20:45:42.755341",
     "status": "completed"
    },
    "tags": []
   },
   "outputs": [
    {
     "data": {
      "text/plain": [
       "1    E\n",
       "3    K\n",
       "Name: Characters, dtype: object"
      ]
     },
     "execution_count": 11,
     "metadata": {},
     "output_type": "execute_result"
    }
   ],
   "source": [
    "# [Start: Stop: Step]\n",
    "ser3[1:5:2]"
   ]
  },
  {
   "cell_type": "markdown",
   "id": "3a0b7499",
   "metadata": {
    "papermill": {
     "duration": 0.012286,
     "end_time": "2025-10-02T20:45:42.799731",
     "exception": false,
     "start_time": "2025-10-02T20:45:42.787445",
     "status": "completed"
    },
    "tags": []
   },
   "source": [
    "*`Arithmetis Operations`*"
   ]
  },
  {
   "cell_type": "code",
   "execution_count": 12,
   "id": "0057ac7f",
   "metadata": {
    "execution": {
     "iopub.execute_input": "2025-10-02T20:45:42.826252Z",
     "iopub.status.busy": "2025-10-02T20:45:42.825655Z",
     "iopub.status.idle": "2025-10-02T20:45:42.831118Z",
     "shell.execute_reply": "2025-10-02T20:45:42.830497Z"
    },
    "papermill": {
     "duration": 0.019992,
     "end_time": "2025-10-02T20:45:42.832369",
     "exception": false,
     "start_time": "2025-10-02T20:45:42.812377",
     "status": "completed"
    },
    "tags": []
   },
   "outputs": [
    {
     "data": {
      "text/plain": [
       "0     G\n",
       "1     E\n",
       "2     E\n",
       "3     K\n",
       "4     S\n",
       "5     F\n",
       "6     O\n",
       "7     R\n",
       "8     G\n",
       "9     E\n",
       "10    E\n",
       "11    K\n",
       "12    S\n",
       "dtype: object"
      ]
     },
     "execution_count": 12,
     "metadata": {},
     "output_type": "execute_result"
    }
   ],
   "source": [
    "ser1"
   ]
  },
  {
   "cell_type": "code",
   "execution_count": 13,
   "id": "a9d95e95",
   "metadata": {
    "execution": {
     "iopub.execute_input": "2025-10-02T20:45:42.859257Z",
     "iopub.status.busy": "2025-10-02T20:45:42.858600Z",
     "iopub.status.idle": "2025-10-02T20:45:42.864182Z",
     "shell.execute_reply": "2025-10-02T20:45:42.863550Z"
    },
    "papermill": {
     "duration": 0.020082,
     "end_time": "2025-10-02T20:45:42.865382",
     "exception": false,
     "start_time": "2025-10-02T20:45:42.845300",
     "status": "completed"
    },
    "tags": []
   },
   "outputs": [
    {
     "data": {
      "text/plain": [
       "0     G\n",
       "1     E\n",
       "2     E\n",
       "3     K\n",
       "4     S\n",
       "5     F\n",
       "6     O\n",
       "7     R\n",
       "8     G\n",
       "9     E\n",
       "10    E\n",
       "11    K\n",
       "12    S\n",
       "Name: Characters, dtype: object"
      ]
     },
     "execution_count": 13,
     "metadata": {},
     "output_type": "execute_result"
    }
   ],
   "source": [
    "ser3"
   ]
  },
  {
   "cell_type": "code",
   "execution_count": 14,
   "id": "da4e95c9",
   "metadata": {
    "execution": {
     "iopub.execute_input": "2025-10-02T20:45:42.892667Z",
     "iopub.status.busy": "2025-10-02T20:45:42.892033Z",
     "iopub.status.idle": "2025-10-02T20:45:42.897837Z",
     "shell.execute_reply": "2025-10-02T20:45:42.897031Z"
    },
    "papermill": {
     "duration": 0.020867,
     "end_time": "2025-10-02T20:45:42.898982",
     "exception": false,
     "start_time": "2025-10-02T20:45:42.878115",
     "status": "completed"
    },
    "tags": []
   },
   "outputs": [
    {
     "data": {
      "text/plain": [
       "0     GG\n",
       "1     EE\n",
       "2     EE\n",
       "3     KK\n",
       "4     SS\n",
       "5     FF\n",
       "6     OO\n",
       "7     RR\n",
       "8     GG\n",
       "9     EE\n",
       "10    EE\n",
       "11    KK\n",
       "12    SS\n",
       "dtype: object"
      ]
     },
     "execution_count": 14,
     "metadata": {},
     "output_type": "execute_result"
    }
   ],
   "source": [
    "# 2 different series with common indices.\n",
    "# Add the values with common index -> String Concatenation (In this case)\n",
    "ser3 + ser1"
   ]
  },
  {
   "cell_type": "code",
   "execution_count": 15,
   "id": "064eb309",
   "metadata": {
    "execution": {
     "iopub.execute_input": "2025-10-02T20:45:42.925631Z",
     "iopub.status.busy": "2025-10-02T20:45:42.925277Z",
     "iopub.status.idle": "2025-10-02T20:45:42.945774Z",
     "shell.execute_reply": "2025-10-02T20:45:42.944914Z"
    },
    "papermill": {
     "duration": 0.035181,
     "end_time": "2025-10-02T20:45:42.947067",
     "exception": false,
     "start_time": "2025-10-02T20:45:42.911886",
     "status": "completed"
    },
    "tags": []
   },
   "outputs": [
    {
     "name": "stderr",
     "output_type": "stream",
     "text": [
      "/usr/local/lib/python3.11/dist-packages/pandas/io/formats/format.py:1458: RuntimeWarning: invalid value encountered in greater\n",
      "  has_large_values = (abs_vals > 1e6).any()\n",
      "/usr/local/lib/python3.11/dist-packages/pandas/io/formats/format.py:1459: RuntimeWarning: invalid value encountered in less\n",
      "  has_small_values = ((abs_vals < 10 ** (-self.digits)) & (abs_vals > 0)).any()\n",
      "/usr/local/lib/python3.11/dist-packages/pandas/io/formats/format.py:1459: RuntimeWarning: invalid value encountered in greater\n",
      "  has_small_values = ((abs_vals < 10 ** (-self.digits)) & (abs_vals > 0)).any()\n"
     ]
    },
    {
     "data": {
      "text/plain": [
       "A    2.0\n",
       "B    NaN\n",
       "C    5.0\n",
       "D    NaN\n",
       "E    NaN\n",
       "F    NaN\n",
       "dtype: float64"
      ]
     },
     "execution_count": 15,
     "metadata": {},
     "output_type": "execute_result"
    }
   ],
   "source": [
    "s1 = pd.Series([1, 2, 3, 4], index=['A', 'B', 'C', 'D'])\n",
    "\n",
    "s2 = pd.Series([1, 2, 3, 4], index=['A', 'C', 'E', 'F'])\n",
    "\n",
    "s1 + s2"
   ]
  },
  {
   "cell_type": "markdown",
   "id": "2fd5e42f",
   "metadata": {
    "papermill": {
     "duration": 0.012589,
     "end_time": "2025-10-02T20:45:42.972715",
     "exception": false,
     "start_time": "2025-10-02T20:45:42.960126",
     "status": "completed"
    },
    "tags": []
   },
   "source": [
    "*Find the common indices and Add values of them or anything other tahn addition*"
   ]
  },
  {
   "cell_type": "code",
   "execution_count": 16,
   "id": "326be23f",
   "metadata": {
    "execution": {
     "iopub.execute_input": "2025-10-02T20:45:42.999583Z",
     "iopub.status.busy": "2025-10-02T20:45:42.998967Z",
     "iopub.status.idle": "2025-10-02T20:45:43.006412Z",
     "shell.execute_reply": "2025-10-02T20:45:43.005688Z"
    },
    "papermill": {
     "duration": 0.022273,
     "end_time": "2025-10-02T20:45:43.007797",
     "exception": false,
     "start_time": "2025-10-02T20:45:42.985524",
     "status": "completed"
    },
    "tags": []
   },
   "outputs": [
    {
     "name": "stderr",
     "output_type": "stream",
     "text": [
      "/usr/local/lib/python3.11/dist-packages/pandas/io/formats/format.py:1458: RuntimeWarning: invalid value encountered in greater\n",
      "  has_large_values = (abs_vals > 1e6).any()\n",
      "/usr/local/lib/python3.11/dist-packages/pandas/io/formats/format.py:1459: RuntimeWarning: invalid value encountered in less\n",
      "  has_small_values = ((abs_vals < 10 ** (-self.digits)) & (abs_vals > 0)).any()\n",
      "/usr/local/lib/python3.11/dist-packages/pandas/io/formats/format.py:1459: RuntimeWarning: invalid value encountered in greater\n",
      "  has_small_values = ((abs_vals < 10 ** (-self.digits)) & (abs_vals > 0)).any()\n"
     ]
    },
    {
     "data": {
      "text/plain": [
       "A    1.0\n",
       "B    NaN\n",
       "C    6.0\n",
       "D    NaN\n",
       "E    NaN\n",
       "F    NaN\n",
       "dtype: float64"
      ]
     },
     "execution_count": 16,
     "metadata": {},
     "output_type": "execute_result"
    }
   ],
   "source": [
    "s1 * s2"
   ]
  },
  {
   "cell_type": "code",
   "execution_count": 17,
   "id": "910020fd",
   "metadata": {
    "execution": {
     "iopub.execute_input": "2025-10-02T20:45:43.035757Z",
     "iopub.status.busy": "2025-10-02T20:45:43.034979Z",
     "iopub.status.idle": "2025-10-02T20:45:43.042476Z",
     "shell.execute_reply": "2025-10-02T20:45:43.041671Z"
    },
    "papermill": {
     "duration": 0.022625,
     "end_time": "2025-10-02T20:45:43.043735",
     "exception": false,
     "start_time": "2025-10-02T20:45:43.021110",
     "status": "completed"
    },
    "tags": []
   },
   "outputs": [
    {
     "name": "stderr",
     "output_type": "stream",
     "text": [
      "/usr/local/lib/python3.11/dist-packages/pandas/io/formats/format.py:1458: RuntimeWarning: invalid value encountered in greater\n",
      "  has_large_values = (abs_vals > 1e6).any()\n",
      "/usr/local/lib/python3.11/dist-packages/pandas/io/formats/format.py:1459: RuntimeWarning: invalid value encountered in less\n",
      "  has_small_values = ((abs_vals < 10 ** (-self.digits)) & (abs_vals > 0)).any()\n",
      "/usr/local/lib/python3.11/dist-packages/pandas/io/formats/format.py:1459: RuntimeWarning: invalid value encountered in greater\n",
      "  has_small_values = ((abs_vals < 10 ** (-self.digits)) & (abs_vals > 0)).any()\n"
     ]
    },
    {
     "data": {
      "text/plain": [
       "A    0.0\n",
       "B    NaN\n",
       "C    1.0\n",
       "D    NaN\n",
       "E    NaN\n",
       "F    NaN\n",
       "dtype: float64"
      ]
     },
     "execution_count": 17,
     "metadata": {},
     "output_type": "execute_result"
    }
   ],
   "source": [
    "s1 - s2"
   ]
  },
  {
   "cell_type": "code",
   "execution_count": 18,
   "id": "360e032c",
   "metadata": {
    "execution": {
     "iopub.execute_input": "2025-10-02T20:45:43.072357Z",
     "iopub.status.busy": "2025-10-02T20:45:43.072040Z",
     "iopub.status.idle": "2025-10-02T20:45:43.079300Z",
     "shell.execute_reply": "2025-10-02T20:45:43.078492Z"
    },
    "papermill": {
     "duration": 0.022552,
     "end_time": "2025-10-02T20:45:43.080551",
     "exception": false,
     "start_time": "2025-10-02T20:45:43.057999",
     "status": "completed"
    },
    "tags": []
   },
   "outputs": [
    {
     "name": "stderr",
     "output_type": "stream",
     "text": [
      "/usr/local/lib/python3.11/dist-packages/pandas/io/formats/format.py:1458: RuntimeWarning: invalid value encountered in greater\n",
      "  has_large_values = (abs_vals > 1e6).any()\n",
      "/usr/local/lib/python3.11/dist-packages/pandas/io/formats/format.py:1459: RuntimeWarning: invalid value encountered in less\n",
      "  has_small_values = ((abs_vals < 10 ** (-self.digits)) & (abs_vals > 0)).any()\n",
      "/usr/local/lib/python3.11/dist-packages/pandas/io/formats/format.py:1459: RuntimeWarning: invalid value encountered in greater\n",
      "  has_small_values = ((abs_vals < 10 ** (-self.digits)) & (abs_vals > 0)).any()\n"
     ]
    },
    {
     "data": {
      "text/plain": [
       "A    1.0\n",
       "B    NaN\n",
       "C    1.5\n",
       "D    NaN\n",
       "E    NaN\n",
       "F    NaN\n",
       "dtype: float64"
      ]
     },
     "execution_count": 18,
     "metadata": {},
     "output_type": "execute_result"
    }
   ],
   "source": [
    "s1 / s2"
   ]
  },
  {
   "cell_type": "code",
   "execution_count": 19,
   "id": "e5ce27d3",
   "metadata": {
    "execution": {
     "iopub.execute_input": "2025-10-02T20:45:43.108449Z",
     "iopub.status.busy": "2025-10-02T20:45:43.108141Z",
     "iopub.status.idle": "2025-10-02T20:45:43.115644Z",
     "shell.execute_reply": "2025-10-02T20:45:43.114875Z"
    },
    "papermill": {
     "duration": 0.022851,
     "end_time": "2025-10-02T20:45:43.116832",
     "exception": false,
     "start_time": "2025-10-02T20:45:43.093981",
     "status": "completed"
    },
    "tags": []
   },
   "outputs": [
    {
     "name": "stderr",
     "output_type": "stream",
     "text": [
      "/usr/local/lib/python3.11/dist-packages/pandas/io/formats/format.py:1458: RuntimeWarning: invalid value encountered in greater\n",
      "  has_large_values = (abs_vals > 1e6).any()\n",
      "/usr/local/lib/python3.11/dist-packages/pandas/io/formats/format.py:1459: RuntimeWarning: invalid value encountered in less\n",
      "  has_small_values = ((abs_vals < 10 ** (-self.digits)) & (abs_vals > 0)).any()\n",
      "/usr/local/lib/python3.11/dist-packages/pandas/io/formats/format.py:1459: RuntimeWarning: invalid value encountered in greater\n",
      "  has_small_values = ((abs_vals < 10 ** (-self.digits)) & (abs_vals > 0)).any()\n"
     ]
    },
    {
     "data": {
      "text/plain": [
       "A    1.0\n",
       "B    NaN\n",
       "C    1.0\n",
       "D    NaN\n",
       "E    NaN\n",
       "F    NaN\n",
       "dtype: float64"
      ]
     },
     "execution_count": 19,
     "metadata": {},
     "output_type": "execute_result"
    }
   ],
   "source": [
    "s1 // s2"
   ]
  },
  {
   "cell_type": "code",
   "execution_count": 20,
   "id": "d864eeb9",
   "metadata": {
    "execution": {
     "iopub.execute_input": "2025-10-02T20:45:43.145375Z",
     "iopub.status.busy": "2025-10-02T20:45:43.144553Z",
     "iopub.status.idle": "2025-10-02T20:45:43.151681Z",
     "shell.execute_reply": "2025-10-02T20:45:43.150892Z"
    },
    "papermill": {
     "duration": 0.022561,
     "end_time": "2025-10-02T20:45:43.152904",
     "exception": false,
     "start_time": "2025-10-02T20:45:43.130343",
     "status": "completed"
    },
    "tags": []
   },
   "outputs": [
    {
     "name": "stderr",
     "output_type": "stream",
     "text": [
      "/usr/local/lib/python3.11/dist-packages/pandas/io/formats/format.py:1458: RuntimeWarning: invalid value encountered in greater\n",
      "  has_large_values = (abs_vals > 1e6).any()\n",
      "/usr/local/lib/python3.11/dist-packages/pandas/io/formats/format.py:1459: RuntimeWarning: invalid value encountered in less\n",
      "  has_small_values = ((abs_vals < 10 ** (-self.digits)) & (abs_vals > 0)).any()\n",
      "/usr/local/lib/python3.11/dist-packages/pandas/io/formats/format.py:1459: RuntimeWarning: invalid value encountered in greater\n",
      "  has_small_values = ((abs_vals < 10 ** (-self.digits)) & (abs_vals > 0)).any()\n"
     ]
    },
    {
     "data": {
      "text/plain": [
       "A    1.0\n",
       "B    NaN\n",
       "C    9.0\n",
       "D    NaN\n",
       "E    NaN\n",
       "F    NaN\n",
       "dtype: float64"
      ]
     },
     "execution_count": 20,
     "metadata": {},
     "output_type": "execute_result"
    }
   ],
   "source": [
    "s1 ** s2"
   ]
  },
  {
   "cell_type": "markdown",
   "id": "06377169",
   "metadata": {
    "papermill": {
     "duration": 0.013144,
     "end_time": "2025-10-02T20:45:43.180048",
     "exception": false,
     "start_time": "2025-10-02T20:45:43.166904",
     "status": "completed"
    },
    "tags": []
   },
   "source": [
    "### *`Data Frames` -> od.DataFrame(data=.., index=.., columns=.., dtype=.., copy=..)*"
   ]
  },
  {
   "cell_type": "markdown",
   "id": "231873a1",
   "metadata": {
    "papermill": {
     "duration": 0.013052,
     "end_time": "2025-10-02T20:45:43.206639",
     "exception": false,
     "start_time": "2025-10-02T20:45:43.193587",
     "status": "completed"
    },
    "tags": []
   },
   "source": [
    "<img src='/kaggle/input/attachments/df.png'>"
   ]
  },
  {
   "cell_type": "markdown",
   "id": "aef82176",
   "metadata": {
    "papermill": {
     "duration": 0.013102,
     "end_time": "2025-10-02T20:45:43.233172",
     "exception": false,
     "start_time": "2025-10-02T20:45:43.220070",
     "status": "completed"
    },
    "tags": []
   },
   "source": [
    "*U have the Flexibility to change the column names or index names and data type of input values*"
   ]
  },
  {
   "cell_type": "code",
   "execution_count": 21,
   "id": "97acb729",
   "metadata": {
    "execution": {
     "iopub.execute_input": "2025-10-02T20:45:43.261031Z",
     "iopub.status.busy": "2025-10-02T20:45:43.260754Z",
     "iopub.status.idle": "2025-10-02T20:45:43.278517Z",
     "shell.execute_reply": "2025-10-02T20:45:43.277700Z"
    },
    "papermill": {
     "duration": 0.033294,
     "end_time": "2025-10-02T20:45:43.279893",
     "exception": false,
     "start_time": "2025-10-02T20:45:43.246599",
     "status": "completed"
    },
    "tags": []
   },
   "outputs": [
    {
     "data": {
      "text/html": [
       "<div>\n",
       "<style scoped>\n",
       "    .dataframe tbody tr th:only-of-type {\n",
       "        vertical-align: middle;\n",
       "    }\n",
       "\n",
       "    .dataframe tbody tr th {\n",
       "        vertical-align: top;\n",
       "    }\n",
       "\n",
       "    .dataframe thead th {\n",
       "        text-align: right;\n",
       "    }\n",
       "</style>\n",
       "<table border=\"1\" class=\"dataframe\">\n",
       "  <thead>\n",
       "    <tr style=\"text-align: right;\">\n",
       "      <th></th>\n",
       "      <th>P</th>\n",
       "      <th>Q</th>\n",
       "      <th>R</th>\n",
       "      <th>S</th>\n",
       "    </tr>\n",
       "  </thead>\n",
       "  <tbody>\n",
       "    <tr>\n",
       "      <th>0</th>\n",
       "      <td>0</td>\n",
       "      <td>1</td>\n",
       "      <td>2</td>\n",
       "      <td>3</td>\n",
       "    </tr>\n",
       "    <tr>\n",
       "      <th>1</th>\n",
       "      <td>4</td>\n",
       "      <td>5</td>\n",
       "      <td>6</td>\n",
       "      <td>7</td>\n",
       "    </tr>\n",
       "    <tr>\n",
       "      <th>2</th>\n",
       "      <td>8</td>\n",
       "      <td>9</td>\n",
       "      <td>10</td>\n",
       "      <td>11</td>\n",
       "    </tr>\n",
       "  </tbody>\n",
       "</table>\n",
       "</div>"
      ],
      "text/plain": [
       "   P  Q   R   S\n",
       "0  0  1   2   3\n",
       "1  4  5   6   7\n",
       "2  8  9  10  11"
      ]
     },
     "execution_count": 21,
     "metadata": {},
     "output_type": "execute_result"
    }
   ],
   "source": [
    "# Create a DF From Numpy Array\n",
    "pd.DataFrame(np.arange(12).reshape(3, 4), columns=['P', 'Q', 'R', 'S'])"
   ]
  },
  {
   "cell_type": "code",
   "execution_count": 22,
   "id": "e9a7f3c6",
   "metadata": {
    "execution": {
     "iopub.execute_input": "2025-10-02T20:45:43.308817Z",
     "iopub.status.busy": "2025-10-02T20:45:43.308544Z",
     "iopub.status.idle": "2025-10-02T20:45:43.316711Z",
     "shell.execute_reply": "2025-10-02T20:45:43.315967Z"
    },
    "papermill": {
     "duration": 0.02398,
     "end_time": "2025-10-02T20:45:43.317967",
     "exception": false,
     "start_time": "2025-10-02T20:45:43.293987",
     "status": "completed"
    },
    "tags": []
   },
   "outputs": [
    {
     "data": {
      "text/html": [
       "<div>\n",
       "<style scoped>\n",
       "    .dataframe tbody tr th:only-of-type {\n",
       "        vertical-align: middle;\n",
       "    }\n",
       "\n",
       "    .dataframe tbody tr th {\n",
       "        vertical-align: top;\n",
       "    }\n",
       "\n",
       "    .dataframe thead th {\n",
       "        text-align: right;\n",
       "    }\n",
       "</style>\n",
       "<table border=\"1\" class=\"dataframe\">\n",
       "  <thead>\n",
       "    <tr style=\"text-align: right;\">\n",
       "      <th></th>\n",
       "      <th>max_speed</th>\n",
       "      <th>shield</th>\n",
       "    </tr>\n",
       "  </thead>\n",
       "  <tbody>\n",
       "    <tr>\n",
       "      <th>A</th>\n",
       "      <td>2</td>\n",
       "      <td>3</td>\n",
       "    </tr>\n",
       "    <tr>\n",
       "      <th>B</th>\n",
       "      <td>4</td>\n",
       "      <td>5</td>\n",
       "    </tr>\n",
       "    <tr>\n",
       "      <th>C</th>\n",
       "      <td>1</td>\n",
       "      <td>6</td>\n",
       "    </tr>\n",
       "  </tbody>\n",
       "</table>\n",
       "</div>"
      ],
      "text/plain": [
       "   max_speed  shield\n",
       "A          2       3\n",
       "B          4       5\n",
       "C          1       6"
      ]
     },
     "execution_count": 22,
     "metadata": {},
     "output_type": "execute_result"
    }
   ],
   "source": [
    "# Create a DF from Nested Lists\n",
    "pd.DataFrame([[2, 3], [4, 5], [1, 6]], columns=['max_speed', 'shield'], index=['A', 'B', 'C'])"
   ]
  },
  {
   "cell_type": "code",
   "execution_count": 23,
   "id": "5d421949",
   "metadata": {
    "execution": {
     "iopub.execute_input": "2025-10-02T20:45:43.347278Z",
     "iopub.status.busy": "2025-10-02T20:45:43.346568Z",
     "iopub.status.idle": "2025-10-02T20:45:43.355726Z",
     "shell.execute_reply": "2025-10-02T20:45:43.355064Z"
    },
    "papermill": {
     "duration": 0.024985,
     "end_time": "2025-10-02T20:45:43.356825",
     "exception": false,
     "start_time": "2025-10-02T20:45:43.331840",
     "status": "completed"
    },
    "tags": []
   },
   "outputs": [
    {
     "data": {
      "text/html": [
       "<div>\n",
       "<style scoped>\n",
       "    .dataframe tbody tr th:only-of-type {\n",
       "        vertical-align: middle;\n",
       "    }\n",
       "\n",
       "    .dataframe tbody tr th {\n",
       "        vertical-align: top;\n",
       "    }\n",
       "\n",
       "    .dataframe thead th {\n",
       "        text-align: right;\n",
       "    }\n",
       "</style>\n",
       "<table border=\"1\" class=\"dataframe\">\n",
       "  <thead>\n",
       "    <tr style=\"text-align: right;\">\n",
       "      <th></th>\n",
       "      <th>Oranges</th>\n",
       "      <th>Apples</th>\n",
       "      <th>Grapes</th>\n",
       "      <th>Pear</th>\n",
       "    </tr>\n",
       "  </thead>\n",
       "  <tbody>\n",
       "    <tr>\n",
       "      <th>June</th>\n",
       "      <td>3</td>\n",
       "      <td>0</td>\n",
       "      <td>5</td>\n",
       "      <td>1</td>\n",
       "    </tr>\n",
       "    <tr>\n",
       "      <th>July</th>\n",
       "      <td>2</td>\n",
       "      <td>3</td>\n",
       "      <td>6</td>\n",
       "      <td>23</td>\n",
       "    </tr>\n",
       "    <tr>\n",
       "      <th>Augast</th>\n",
       "      <td>1</td>\n",
       "      <td>7</td>\n",
       "      <td>9</td>\n",
       "      <td>45</td>\n",
       "    </tr>\n",
       "    <tr>\n",
       "      <th>September</th>\n",
       "      <td>0</td>\n",
       "      <td>2</td>\n",
       "      <td>0</td>\n",
       "      <td>1</td>\n",
       "    </tr>\n",
       "  </tbody>\n",
       "</table>\n",
       "</div>"
      ],
      "text/plain": [
       "           Oranges  Apples  Grapes  Pear\n",
       "June             3       0       5     1\n",
       "July             2       3       6    23\n",
       "Augast           1       7       9    45\n",
       "September        0       2       0     1"
      ]
     },
     "execution_count": 23,
     "metadata": {},
     "output_type": "execute_result"
    }
   ],
   "source": [
    "# Create a DF From Dictionary\n",
    "\n",
    "fruits = {'Oranges': [3, 2, 1, 0],\n",
    "        'Apples': [0, 3, 7, 2],\n",
    "        'Grapes': [5, 6, 9, 0],\n",
    "        'Pear': [1, 23, 45, 1]\n",
    "        }\n",
    "\n",
    "df = pd.DataFrame(fruits, index=['June', 'July', 'Augast', 'September'])\n",
    "df"
   ]
  },
  {
   "cell_type": "markdown",
   "id": "8bca0c48",
   "metadata": {
    "papermill": {
     "duration": 0.013552,
     "end_time": "2025-10-02T20:45:43.384453",
     "exception": false,
     "start_time": "2025-10-02T20:45:43.370901",
     "status": "completed"
    },
    "tags": []
   },
   "source": [
    "*`Indexing & Slicing of DataFrames -> You have a 2 Points of References [Rows: Columns] -> [Start:Stop:Step, Start:Stop:Step]` -> .iloc[] vs. loc[]*"
   ]
  },
  {
   "cell_type": "code",
   "execution_count": 24,
   "id": "1e49b670",
   "metadata": {
    "execution": {
     "iopub.execute_input": "2025-10-02T20:45:43.413370Z",
     "iopub.status.busy": "2025-10-02T20:45:43.412819Z",
     "iopub.status.idle": "2025-10-02T20:45:43.416211Z",
     "shell.execute_reply": "2025-10-02T20:45:43.415627Z"
    },
    "papermill": {
     "duration": 0.019303,
     "end_time": "2025-10-02T20:45:43.417499",
     "exception": false,
     "start_time": "2025-10-02T20:45:43.398196",
     "status": "completed"
    },
    "tags": []
   },
   "outputs": [],
   "source": [
    "# df.loc[] -> Select Rows/ Columns by Names or Labels.\n",
    "# df.iloc[] -> Select Rows/ Columns by Position."
   ]
  },
  {
   "cell_type": "code",
   "execution_count": 25,
   "id": "a567faac",
   "metadata": {
    "execution": {
     "iopub.execute_input": "2025-10-02T20:45:43.446683Z",
     "iopub.status.busy": "2025-10-02T20:45:43.446134Z",
     "iopub.status.idle": "2025-10-02T20:45:43.452914Z",
     "shell.execute_reply": "2025-10-02T20:45:43.452162Z"
    },
    "papermill": {
     "duration": 0.022734,
     "end_time": "2025-10-02T20:45:43.454174",
     "exception": false,
     "start_time": "2025-10-02T20:45:43.431440",
     "status": "completed"
    },
    "tags": []
   },
   "outputs": [
    {
     "name": "stdout",
     "output_type": "stream",
     "text": [
      "Oranges     2\n",
      "Apples      3\n",
      "Grapes      6\n",
      "Pear       23\n",
      "Name: July, dtype: int64\n"
     ]
    },
    {
     "data": {
      "text/plain": [
       "Oranges     2\n",
       "Apples      3\n",
       "Grapes      6\n",
       "Pear       23\n",
       "Name: July, dtype: int64"
      ]
     },
     "execution_count": 25,
     "metadata": {},
     "output_type": "execute_result"
    }
   ],
   "source": [
    "# Select Single Row\n",
    "print(df.iloc[1])      # Row 2\n",
    "\n",
    "df.loc['July']          # The Same Row using Label/Name"
   ]
  },
  {
   "cell_type": "code",
   "execution_count": 26,
   "id": "5c721c71",
   "metadata": {
    "execution": {
     "iopub.execute_input": "2025-10-02T20:45:43.484025Z",
     "iopub.status.busy": "2025-10-02T20:45:43.483510Z",
     "iopub.status.idle": "2025-10-02T20:45:43.490690Z",
     "shell.execute_reply": "2025-10-02T20:45:43.489960Z"
    },
    "papermill": {
     "duration": 0.023582,
     "end_time": "2025-10-02T20:45:43.492006",
     "exception": false,
     "start_time": "2025-10-02T20:45:43.468424",
     "status": "completed"
    },
    "tags": []
   },
   "outputs": [
    {
     "name": "stdout",
     "output_type": "stream",
     "text": [
      "June         0\n",
      "July         3\n",
      "Augast       7\n",
      "September    2\n",
      "Name: Apples, dtype: int64\n"
     ]
    },
    {
     "data": {
      "text/plain": [
       "June         0\n",
       "July         3\n",
       "Augast       7\n",
       "September    2\n",
       "Name: Apples, dtype: int64"
      ]
     },
     "execution_count": 26,
     "metadata": {},
     "output_type": "execute_result"
    }
   ],
   "source": [
    "# Select Single Column\n",
    "print(df.iloc[:, 1])    # Access all rows and Column 0\n",
    "\n",
    "df.loc[:, 'Apples']     # The Same Column using Name"
   ]
  },
  {
   "cell_type": "code",
   "execution_count": 27,
   "id": "0782aa38",
   "metadata": {
    "execution": {
     "iopub.execute_input": "2025-10-02T20:45:43.521971Z",
     "iopub.status.busy": "2025-10-02T20:45:43.521081Z",
     "iopub.status.idle": "2025-10-02T20:45:43.533156Z",
     "shell.execute_reply": "2025-10-02T20:45:43.532376Z"
    },
    "papermill": {
     "duration": 0.028061,
     "end_time": "2025-10-02T20:45:43.534329",
     "exception": false,
     "start_time": "2025-10-02T20:45:43.506268",
     "status": "completed"
    },
    "tags": []
   },
   "outputs": [
    {
     "name": "stdout",
     "output_type": "stream",
     "text": [
      "           Oranges  Apples  Grapes  Pear\n",
      "July             2       3       6    23\n",
      "September        0       2       0     1\n"
     ]
    },
    {
     "data": {
      "text/html": [
       "<div>\n",
       "<style scoped>\n",
       "    .dataframe tbody tr th:only-of-type {\n",
       "        vertical-align: middle;\n",
       "    }\n",
       "\n",
       "    .dataframe tbody tr th {\n",
       "        vertical-align: top;\n",
       "    }\n",
       "\n",
       "    .dataframe thead th {\n",
       "        text-align: right;\n",
       "    }\n",
       "</style>\n",
       "<table border=\"1\" class=\"dataframe\">\n",
       "  <thead>\n",
       "    <tr style=\"text-align: right;\">\n",
       "      <th></th>\n",
       "      <th>Oranges</th>\n",
       "      <th>Apples</th>\n",
       "      <th>Grapes</th>\n",
       "      <th>Pear</th>\n",
       "    </tr>\n",
       "  </thead>\n",
       "  <tbody>\n",
       "    <tr>\n",
       "      <th>July</th>\n",
       "      <td>2</td>\n",
       "      <td>3</td>\n",
       "      <td>6</td>\n",
       "      <td>23</td>\n",
       "    </tr>\n",
       "    <tr>\n",
       "      <th>September</th>\n",
       "      <td>0</td>\n",
       "      <td>2</td>\n",
       "      <td>0</td>\n",
       "      <td>1</td>\n",
       "    </tr>\n",
       "  </tbody>\n",
       "</table>\n",
       "</div>"
      ],
      "text/plain": [
       "           Oranges  Apples  Grapes  Pear\n",
       "July             2       3       6    23\n",
       "September        0       2       0     1"
      ]
     },
     "execution_count": 27,
     "metadata": {},
     "output_type": "execute_result"
    }
   ],
   "source": [
    "# Select Multiple Rows\n",
    "print(df.iloc[[1, 3]])      # Access Row 1 & Row3\n",
    "\n",
    "df.loc[['July', 'September']]"
   ]
  },
  {
   "cell_type": "code",
   "execution_count": 28,
   "id": "c48b121a",
   "metadata": {
    "execution": {
     "iopub.execute_input": "2025-10-02T20:45:43.564679Z",
     "iopub.status.busy": "2025-10-02T20:45:43.564021Z",
     "iopub.status.idle": "2025-10-02T20:45:43.576097Z",
     "shell.execute_reply": "2025-10-02T20:45:43.575218Z"
    },
    "papermill": {
     "duration": 0.028867,
     "end_time": "2025-10-02T20:45:43.577649",
     "exception": false,
     "start_time": "2025-10-02T20:45:43.548782",
     "status": "completed"
    },
    "tags": []
   },
   "outputs": [
    {
     "name": "stdout",
     "output_type": "stream",
     "text": [
      "           Oranges  Pear\n",
      "June             3     1\n",
      "July             2    23\n",
      "Augast           1    45\n",
      "September        0     1\n"
     ]
    },
    {
     "data": {
      "text/html": [
       "<div>\n",
       "<style scoped>\n",
       "    .dataframe tbody tr th:only-of-type {\n",
       "        vertical-align: middle;\n",
       "    }\n",
       "\n",
       "    .dataframe tbody tr th {\n",
       "        vertical-align: top;\n",
       "    }\n",
       "\n",
       "    .dataframe thead th {\n",
       "        text-align: right;\n",
       "    }\n",
       "</style>\n",
       "<table border=\"1\" class=\"dataframe\">\n",
       "  <thead>\n",
       "    <tr style=\"text-align: right;\">\n",
       "      <th></th>\n",
       "      <th>Oranges</th>\n",
       "      <th>Pear</th>\n",
       "    </tr>\n",
       "  </thead>\n",
       "  <tbody>\n",
       "    <tr>\n",
       "      <th>June</th>\n",
       "      <td>3</td>\n",
       "      <td>1</td>\n",
       "    </tr>\n",
       "    <tr>\n",
       "      <th>July</th>\n",
       "      <td>2</td>\n",
       "      <td>23</td>\n",
       "    </tr>\n",
       "    <tr>\n",
       "      <th>Augast</th>\n",
       "      <td>1</td>\n",
       "      <td>45</td>\n",
       "    </tr>\n",
       "    <tr>\n",
       "      <th>September</th>\n",
       "      <td>0</td>\n",
       "      <td>1</td>\n",
       "    </tr>\n",
       "  </tbody>\n",
       "</table>\n",
       "</div>"
      ],
      "text/plain": [
       "           Oranges  Pear\n",
       "June             3     1\n",
       "July             2    23\n",
       "Augast           1    45\n",
       "September        0     1"
      ]
     },
     "execution_count": 28,
     "metadata": {},
     "output_type": "execute_result"
    }
   ],
   "source": [
    "# Select Multiple Columns\n",
    "print(df.iloc[:, [0, -1]])      # Access 1st and Last Column\n",
    "\n",
    "df.loc[:, ['Oranges', 'Pear']]"
   ]
  },
  {
   "cell_type": "code",
   "execution_count": 29,
   "id": "86c6d2fa",
   "metadata": {
    "execution": {
     "iopub.execute_input": "2025-10-02T20:45:43.608503Z",
     "iopub.status.busy": "2025-10-02T20:45:43.608169Z",
     "iopub.status.idle": "2025-10-02T20:45:43.618434Z",
     "shell.execute_reply": "2025-10-02T20:45:43.617774Z"
    },
    "papermill": {
     "duration": 0.027049,
     "end_time": "2025-10-02T20:45:43.619776",
     "exception": false,
     "start_time": "2025-10-02T20:45:43.592727",
     "status": "completed"
    },
    "tags": []
   },
   "outputs": [
    {
     "name": "stdout",
     "output_type": "stream",
     "text": [
      "           Oranges  Apples  Grapes  Pear\n",
      "July             2       3       6    23\n",
      "Augast           1       7       9    45\n",
      "September        0       2       0     1\n"
     ]
    },
    {
     "data": {
      "text/html": [
       "<div>\n",
       "<style scoped>\n",
       "    .dataframe tbody tr th:only-of-type {\n",
       "        vertical-align: middle;\n",
       "    }\n",
       "\n",
       "    .dataframe tbody tr th {\n",
       "        vertical-align: top;\n",
       "    }\n",
       "\n",
       "    .dataframe thead th {\n",
       "        text-align: right;\n",
       "    }\n",
       "</style>\n",
       "<table border=\"1\" class=\"dataframe\">\n",
       "  <thead>\n",
       "    <tr style=\"text-align: right;\">\n",
       "      <th></th>\n",
       "      <th>Oranges</th>\n",
       "      <th>Apples</th>\n",
       "      <th>Grapes</th>\n",
       "      <th>Pear</th>\n",
       "    </tr>\n",
       "  </thead>\n",
       "  <tbody>\n",
       "    <tr>\n",
       "      <th>July</th>\n",
       "      <td>2</td>\n",
       "      <td>3</td>\n",
       "      <td>6</td>\n",
       "      <td>23</td>\n",
       "    </tr>\n",
       "    <tr>\n",
       "      <th>Augast</th>\n",
       "      <td>1</td>\n",
       "      <td>7</td>\n",
       "      <td>9</td>\n",
       "      <td>45</td>\n",
       "    </tr>\n",
       "    <tr>\n",
       "      <th>September</th>\n",
       "      <td>0</td>\n",
       "      <td>2</td>\n",
       "      <td>0</td>\n",
       "      <td>1</td>\n",
       "    </tr>\n",
       "  </tbody>\n",
       "</table>\n",
       "</div>"
      ],
      "text/plain": [
       "           Oranges  Apples  Grapes  Pear\n",
       "July             2       3       6    23\n",
       "Augast           1       7       9    45\n",
       "September        0       2       0     1"
      ]
     },
     "execution_count": 29,
     "metadata": {},
     "output_type": "execute_result"
    }
   ],
   "source": [
    "# Select Rows Range -> Slicing\n",
    "print(df.iloc[1: 4])    # Access 3 Rows from index=1 to index=3\n",
    "\n",
    "df.loc['July': 'September']     # Stop here is Inclusive"
   ]
  },
  {
   "cell_type": "code",
   "execution_count": 30,
   "id": "34c73ddb",
   "metadata": {
    "execution": {
     "iopub.execute_input": "2025-10-02T20:45:43.650600Z",
     "iopub.status.busy": "2025-10-02T20:45:43.650052Z",
     "iopub.status.idle": "2025-10-02T20:45:43.659773Z",
     "shell.execute_reply": "2025-10-02T20:45:43.659033Z"
    },
    "papermill": {
     "duration": 0.026284,
     "end_time": "2025-10-02T20:45:43.661012",
     "exception": false,
     "start_time": "2025-10-02T20:45:43.634728",
     "status": "completed"
    },
    "tags": []
   },
   "outputs": [
    {
     "name": "stdout",
     "output_type": "stream",
     "text": [
      "           Apples  Grapes  Pear\n",
      "June            0       5     1\n",
      "July            3       6    23\n",
      "Augast          7       9    45\n",
      "September       2       0     1\n"
     ]
    },
    {
     "data": {
      "text/html": [
       "<div>\n",
       "<style scoped>\n",
       "    .dataframe tbody tr th:only-of-type {\n",
       "        vertical-align: middle;\n",
       "    }\n",
       "\n",
       "    .dataframe tbody tr th {\n",
       "        vertical-align: top;\n",
       "    }\n",
       "\n",
       "    .dataframe thead th {\n",
       "        text-align: right;\n",
       "    }\n",
       "</style>\n",
       "<table border=\"1\" class=\"dataframe\">\n",
       "  <thead>\n",
       "    <tr style=\"text-align: right;\">\n",
       "      <th></th>\n",
       "      <th>Apples</th>\n",
       "      <th>Grapes</th>\n",
       "      <th>Pear</th>\n",
       "    </tr>\n",
       "  </thead>\n",
       "  <tbody>\n",
       "    <tr>\n",
       "      <th>June</th>\n",
       "      <td>0</td>\n",
       "      <td>5</td>\n",
       "      <td>1</td>\n",
       "    </tr>\n",
       "    <tr>\n",
       "      <th>July</th>\n",
       "      <td>3</td>\n",
       "      <td>6</td>\n",
       "      <td>23</td>\n",
       "    </tr>\n",
       "    <tr>\n",
       "      <th>Augast</th>\n",
       "      <td>7</td>\n",
       "      <td>9</td>\n",
       "      <td>45</td>\n",
       "    </tr>\n",
       "    <tr>\n",
       "      <th>September</th>\n",
       "      <td>2</td>\n",
       "      <td>0</td>\n",
       "      <td>1</td>\n",
       "    </tr>\n",
       "  </tbody>\n",
       "</table>\n",
       "</div>"
      ],
      "text/plain": [
       "           Apples  Grapes  Pear\n",
       "June            0       5     1\n",
       "July            3       6    23\n",
       "Augast          7       9    45\n",
       "September       2       0     1"
      ]
     },
     "execution_count": 30,
     "metadata": {},
     "output_type": "execute_result"
    }
   ],
   "source": [
    "# Select Columns Range\n",
    "print(df.iloc[:, 1: 4])\n",
    "\n",
    "df.loc[:, 'Apples': 'Pear']"
   ]
  },
  {
   "cell_type": "code",
   "execution_count": 31,
   "id": "5026a8bb",
   "metadata": {
    "execution": {
     "iopub.execute_input": "2025-10-02T20:45:43.692431Z",
     "iopub.status.busy": "2025-10-02T20:45:43.692057Z",
     "iopub.status.idle": "2025-10-02T20:45:43.700287Z",
     "shell.execute_reply": "2025-10-02T20:45:43.699483Z"
    },
    "papermill": {
     "duration": 0.025476,
     "end_time": "2025-10-02T20:45:43.701695",
     "exception": false,
     "start_time": "2025-10-02T20:45:43.676219",
     "status": "completed"
    },
    "tags": []
   },
   "outputs": [
    {
     "data": {
      "text/html": [
       "<div>\n",
       "<style scoped>\n",
       "    .dataframe tbody tr th:only-of-type {\n",
       "        vertical-align: middle;\n",
       "    }\n",
       "\n",
       "    .dataframe tbody tr th {\n",
       "        vertical-align: top;\n",
       "    }\n",
       "\n",
       "    .dataframe thead th {\n",
       "        text-align: right;\n",
       "    }\n",
       "</style>\n",
       "<table border=\"1\" class=\"dataframe\">\n",
       "  <thead>\n",
       "    <tr style=\"text-align: right;\">\n",
       "      <th></th>\n",
       "      <th>Oranges</th>\n",
       "      <th>Apples</th>\n",
       "      <th>Grapes</th>\n",
       "      <th>Pear</th>\n",
       "    </tr>\n",
       "  </thead>\n",
       "  <tbody>\n",
       "    <tr>\n",
       "      <th>July</th>\n",
       "      <td>2</td>\n",
       "      <td>3</td>\n",
       "      <td>6</td>\n",
       "      <td>23</td>\n",
       "    </tr>\n",
       "    <tr>\n",
       "      <th>Augast</th>\n",
       "      <td>1</td>\n",
       "      <td>7</td>\n",
       "      <td>9</td>\n",
       "      <td>45</td>\n",
       "    </tr>\n",
       "  </tbody>\n",
       "</table>\n",
       "</div>"
      ],
      "text/plain": [
       "        Oranges  Apples  Grapes  Pear\n",
       "July          2       3       6    23\n",
       "Augast        1       7       9    45"
      ]
     },
     "execution_count": 31,
     "metadata": {},
     "output_type": "execute_result"
    }
   ],
   "source": [
    "# U Can Apply Conditions\n",
    "df.loc[df['Apples'] > 2]"
   ]
  },
  {
   "cell_type": "code",
   "execution_count": 32,
   "id": "418f3e8f",
   "metadata": {
    "execution": {
     "iopub.execute_input": "2025-10-02T20:45:43.733106Z",
     "iopub.status.busy": "2025-10-02T20:45:43.732825Z",
     "iopub.status.idle": "2025-10-02T20:45:43.739374Z",
     "shell.execute_reply": "2025-10-02T20:45:43.738627Z"
    },
    "papermill": {
     "duration": 0.023766,
     "end_time": "2025-10-02T20:45:43.740749",
     "exception": false,
     "start_time": "2025-10-02T20:45:43.716983",
     "status": "completed"
    },
    "tags": []
   },
   "outputs": [
    {
     "data": {
      "text/plain": [
       "July      2\n",
       "Augast    1\n",
       "Name: Oranges, dtype: int64"
      ]
     },
     "execution_count": 32,
     "metadata": {},
     "output_type": "execute_result"
    }
   ],
   "source": [
    "df.loc[df['Apples'] > 2, 'Oranges']"
   ]
  },
  {
   "cell_type": "code",
   "execution_count": 33,
   "id": "1c8951e3",
   "metadata": {
    "execution": {
     "iopub.execute_input": "2025-10-02T20:45:43.772654Z",
     "iopub.status.busy": "2025-10-02T20:45:43.772072Z",
     "iopub.status.idle": "2025-10-02T20:45:43.780032Z",
     "shell.execute_reply": "2025-10-02T20:45:43.779269Z"
    },
    "papermill": {
     "duration": 0.025155,
     "end_time": "2025-10-02T20:45:43.781318",
     "exception": false,
     "start_time": "2025-10-02T20:45:43.756163",
     "status": "completed"
    },
    "tags": []
   },
   "outputs": [
    {
     "data": {
      "text/html": [
       "<div>\n",
       "<style scoped>\n",
       "    .dataframe tbody tr th:only-of-type {\n",
       "        vertical-align: middle;\n",
       "    }\n",
       "\n",
       "    .dataframe tbody tr th {\n",
       "        vertical-align: top;\n",
       "    }\n",
       "\n",
       "    .dataframe thead th {\n",
       "        text-align: right;\n",
       "    }\n",
       "</style>\n",
       "<table border=\"1\" class=\"dataframe\">\n",
       "  <thead>\n",
       "    <tr style=\"text-align: right;\">\n",
       "      <th></th>\n",
       "      <th>Oranges</th>\n",
       "      <th>Apples</th>\n",
       "      <th>Grapes</th>\n",
       "      <th>Pear</th>\n",
       "    </tr>\n",
       "  </thead>\n",
       "  <tbody>\n",
       "    <tr>\n",
       "      <th>July</th>\n",
       "      <td>2</td>\n",
       "      <td>3</td>\n",
       "      <td>6</td>\n",
       "      <td>23</td>\n",
       "    </tr>\n",
       "  </tbody>\n",
       "</table>\n",
       "</div>"
      ],
      "text/plain": [
       "      Oranges  Apples  Grapes  Pear\n",
       "July        2       3       6    23"
      ]
     },
     "execution_count": 33,
     "metadata": {},
     "output_type": "execute_result"
    }
   ],
   "source": [
    "# U Can use Lambda Function\n",
    "df.loc[lambda df: df['Apples'] == 3]"
   ]
  },
  {
   "cell_type": "markdown",
   "id": "9e08207a",
   "metadata": {
    "papermill": {
     "duration": 0.015052,
     "end_time": "2025-10-02T20:45:43.811942",
     "exception": false,
     "start_time": "2025-10-02T20:45:43.796890",
     "status": "completed"
    },
    "tags": []
   },
   "source": [
    "*`Filtering`*"
   ]
  },
  {
   "cell_type": "code",
   "execution_count": 34,
   "id": "d6868ad4",
   "metadata": {
    "execution": {
     "iopub.execute_input": "2025-10-02T20:45:43.843264Z",
     "iopub.status.busy": "2025-10-02T20:45:43.842983Z",
     "iopub.status.idle": "2025-10-02T20:45:43.850288Z",
     "shell.execute_reply": "2025-10-02T20:45:43.849580Z"
    },
    "papermill": {
     "duration": 0.024499,
     "end_time": "2025-10-02T20:45:43.851586",
     "exception": false,
     "start_time": "2025-10-02T20:45:43.827087",
     "status": "completed"
    },
    "tags": []
   },
   "outputs": [
    {
     "data": {
      "text/html": [
       "<div>\n",
       "<style scoped>\n",
       "    .dataframe tbody tr th:only-of-type {\n",
       "        vertical-align: middle;\n",
       "    }\n",
       "\n",
       "    .dataframe tbody tr th {\n",
       "        vertical-align: top;\n",
       "    }\n",
       "\n",
       "    .dataframe thead th {\n",
       "        text-align: right;\n",
       "    }\n",
       "</style>\n",
       "<table border=\"1\" class=\"dataframe\">\n",
       "  <thead>\n",
       "    <tr style=\"text-align: right;\">\n",
       "      <th></th>\n",
       "      <th>Oranges</th>\n",
       "      <th>Apples</th>\n",
       "      <th>Grapes</th>\n",
       "      <th>Pear</th>\n",
       "    </tr>\n",
       "  </thead>\n",
       "  <tbody>\n",
       "    <tr>\n",
       "      <th>June</th>\n",
       "      <td>3</td>\n",
       "      <td>0</td>\n",
       "      <td>5</td>\n",
       "      <td>1</td>\n",
       "    </tr>\n",
       "    <tr>\n",
       "      <th>July</th>\n",
       "      <td>2</td>\n",
       "      <td>3</td>\n",
       "      <td>6</td>\n",
       "      <td>23</td>\n",
       "    </tr>\n",
       "    <tr>\n",
       "      <th>Augast</th>\n",
       "      <td>1</td>\n",
       "      <td>7</td>\n",
       "      <td>9</td>\n",
       "      <td>45</td>\n",
       "    </tr>\n",
       "    <tr>\n",
       "      <th>September</th>\n",
       "      <td>0</td>\n",
       "      <td>2</td>\n",
       "      <td>0</td>\n",
       "      <td>1</td>\n",
       "    </tr>\n",
       "  </tbody>\n",
       "</table>\n",
       "</div>"
      ],
      "text/plain": [
       "           Oranges  Apples  Grapes  Pear\n",
       "June             3       0       5     1\n",
       "July             2       3       6    23\n",
       "Augast           1       7       9    45\n",
       "September        0       2       0     1"
      ]
     },
     "execution_count": 34,
     "metadata": {},
     "output_type": "execute_result"
    }
   ],
   "source": [
    "df"
   ]
  },
  {
   "cell_type": "code",
   "execution_count": 35,
   "id": "6092ed44",
   "metadata": {
    "execution": {
     "iopub.execute_input": "2025-10-02T20:45:43.884408Z",
     "iopub.status.busy": "2025-10-02T20:45:43.883809Z",
     "iopub.status.idle": "2025-10-02T20:45:43.891519Z",
     "shell.execute_reply": "2025-10-02T20:45:43.890787Z"
    },
    "papermill": {
     "duration": 0.025119,
     "end_time": "2025-10-02T20:45:43.892790",
     "exception": false,
     "start_time": "2025-10-02T20:45:43.867671",
     "status": "completed"
    },
    "tags": []
   },
   "outputs": [
    {
     "data": {
      "text/html": [
       "<div>\n",
       "<style scoped>\n",
       "    .dataframe tbody tr th:only-of-type {\n",
       "        vertical-align: middle;\n",
       "    }\n",
       "\n",
       "    .dataframe tbody tr th {\n",
       "        vertical-align: top;\n",
       "    }\n",
       "\n",
       "    .dataframe thead th {\n",
       "        text-align: right;\n",
       "    }\n",
       "</style>\n",
       "<table border=\"1\" class=\"dataframe\">\n",
       "  <thead>\n",
       "    <tr style=\"text-align: right;\">\n",
       "      <th></th>\n",
       "      <th>Oranges</th>\n",
       "      <th>Apples</th>\n",
       "      <th>Grapes</th>\n",
       "      <th>Pear</th>\n",
       "    </tr>\n",
       "  </thead>\n",
       "  <tbody>\n",
       "    <tr>\n",
       "      <th>June</th>\n",
       "      <td>3</td>\n",
       "      <td>0</td>\n",
       "      <td>5</td>\n",
       "      <td>1</td>\n",
       "    </tr>\n",
       "    <tr>\n",
       "      <th>July</th>\n",
       "      <td>2</td>\n",
       "      <td>3</td>\n",
       "      <td>6</td>\n",
       "      <td>23</td>\n",
       "    </tr>\n",
       "  </tbody>\n",
       "</table>\n",
       "</div>"
      ],
      "text/plain": [
       "      Oranges  Apples  Grapes  Pear\n",
       "June        3       0       5     1\n",
       "July        2       3       6    23"
      ]
     },
     "execution_count": 35,
     "metadata": {},
     "output_type": "execute_result"
    }
   ],
   "source": [
    "df.loc[df['Oranges']> 1]"
   ]
  },
  {
   "cell_type": "code",
   "execution_count": 36,
   "id": "e85f9f9c",
   "metadata": {
    "execution": {
     "iopub.execute_input": "2025-10-02T20:45:43.925352Z",
     "iopub.status.busy": "2025-10-02T20:45:43.924769Z",
     "iopub.status.idle": "2025-10-02T20:45:43.933174Z",
     "shell.execute_reply": "2025-10-02T20:45:43.932326Z"
    },
    "papermill": {
     "duration": 0.026039,
     "end_time": "2025-10-02T20:45:43.934481",
     "exception": false,
     "start_time": "2025-10-02T20:45:43.908442",
     "status": "completed"
    },
    "tags": []
   },
   "outputs": [
    {
     "data": {
      "text/html": [
       "<div>\n",
       "<style scoped>\n",
       "    .dataframe tbody tr th:only-of-type {\n",
       "        vertical-align: middle;\n",
       "    }\n",
       "\n",
       "    .dataframe tbody tr th {\n",
       "        vertical-align: top;\n",
       "    }\n",
       "\n",
       "    .dataframe thead th {\n",
       "        text-align: right;\n",
       "    }\n",
       "</style>\n",
       "<table border=\"1\" class=\"dataframe\">\n",
       "  <thead>\n",
       "    <tr style=\"text-align: right;\">\n",
       "      <th></th>\n",
       "      <th>Oranges</th>\n",
       "      <th>Apples</th>\n",
       "      <th>Grapes</th>\n",
       "      <th>Pear</th>\n",
       "    </tr>\n",
       "  </thead>\n",
       "  <tbody>\n",
       "    <tr>\n",
       "      <th>July</th>\n",
       "      <td>2</td>\n",
       "      <td>3</td>\n",
       "      <td>6</td>\n",
       "      <td>23</td>\n",
       "    </tr>\n",
       "  </tbody>\n",
       "</table>\n",
       "</div>"
      ],
      "text/plain": [
       "      Oranges  Apples  Grapes  Pear\n",
       "July        2       3       6    23"
      ]
     },
     "execution_count": 36,
     "metadata": {},
     "output_type": "execute_result"
    }
   ],
   "source": [
    "df[df['Apples'] == 3]"
   ]
  },
  {
   "cell_type": "code",
   "execution_count": 37,
   "id": "cfaa4dc4",
   "metadata": {
    "execution": {
     "iopub.execute_input": "2025-10-02T20:45:43.966581Z",
     "iopub.status.busy": "2025-10-02T20:45:43.965976Z",
     "iopub.status.idle": "2025-10-02T20:45:43.976951Z",
     "shell.execute_reply": "2025-10-02T20:45:43.976177Z"
    },
    "papermill": {
     "duration": 0.028547,
     "end_time": "2025-10-02T20:45:43.978407",
     "exception": false,
     "start_time": "2025-10-02T20:45:43.949860",
     "status": "completed"
    },
    "tags": []
   },
   "outputs": [
    {
     "data": {
      "text/html": [
       "<div>\n",
       "<style scoped>\n",
       "    .dataframe tbody tr th:only-of-type {\n",
       "        vertical-align: middle;\n",
       "    }\n",
       "\n",
       "    .dataframe tbody tr th {\n",
       "        vertical-align: top;\n",
       "    }\n",
       "\n",
       "    .dataframe thead th {\n",
       "        text-align: right;\n",
       "    }\n",
       "</style>\n",
       "<table border=\"1\" class=\"dataframe\">\n",
       "  <thead>\n",
       "    <tr style=\"text-align: right;\">\n",
       "      <th></th>\n",
       "      <th>Oranges</th>\n",
       "      <th>Apples</th>\n",
       "      <th>Grapes</th>\n",
       "      <th>Pear</th>\n",
       "    </tr>\n",
       "  </thead>\n",
       "  <tbody>\n",
       "    <tr>\n",
       "      <th>July</th>\n",
       "      <td>2</td>\n",
       "      <td>3</td>\n",
       "      <td>6</td>\n",
       "      <td>23</td>\n",
       "    </tr>\n",
       "    <tr>\n",
       "      <th>Augast</th>\n",
       "      <td>1</td>\n",
       "      <td>7</td>\n",
       "      <td>9</td>\n",
       "      <td>45</td>\n",
       "    </tr>\n",
       "  </tbody>\n",
       "</table>\n",
       "</div>"
      ],
      "text/plain": [
       "        Oranges  Apples  Grapes  Pear\n",
       "July          2       3       6    23\n",
       "Augast        1       7       9    45"
      ]
     },
     "execution_count": 37,
     "metadata": {},
     "output_type": "execute_result"
    }
   ],
   "source": [
    "# df.query(Query_Expression)\n",
    "df.query(\"Pear > 1 \")"
   ]
  },
  {
   "cell_type": "code",
   "execution_count": 38,
   "id": "656372f6",
   "metadata": {
    "execution": {
     "iopub.execute_input": "2025-10-02T20:45:44.010713Z",
     "iopub.status.busy": "2025-10-02T20:45:44.010386Z",
     "iopub.status.idle": "2025-10-02T20:45:44.018911Z",
     "shell.execute_reply": "2025-10-02T20:45:44.018194Z"
    },
    "papermill": {
     "duration": 0.026052,
     "end_time": "2025-10-02T20:45:44.020149",
     "exception": false,
     "start_time": "2025-10-02T20:45:43.994097",
     "status": "completed"
    },
    "tags": []
   },
   "outputs": [
    {
     "data": {
      "text/html": [
       "<div>\n",
       "<style scoped>\n",
       "    .dataframe tbody tr th:only-of-type {\n",
       "        vertical-align: middle;\n",
       "    }\n",
       "\n",
       "    .dataframe tbody tr th {\n",
       "        vertical-align: top;\n",
       "    }\n",
       "\n",
       "    .dataframe thead th {\n",
       "        text-align: right;\n",
       "    }\n",
       "</style>\n",
       "<table border=\"1\" class=\"dataframe\">\n",
       "  <thead>\n",
       "    <tr style=\"text-align: right;\">\n",
       "      <th></th>\n",
       "      <th>Oranges</th>\n",
       "      <th>Apples</th>\n",
       "      <th>Grapes</th>\n",
       "      <th>Pear</th>\n",
       "    </tr>\n",
       "  </thead>\n",
       "  <tbody>\n",
       "    <tr>\n",
       "      <th>July</th>\n",
       "      <td>2</td>\n",
       "      <td>3</td>\n",
       "      <td>6</td>\n",
       "      <td>23</td>\n",
       "    </tr>\n",
       "    <tr>\n",
       "      <th>Augast</th>\n",
       "      <td>1</td>\n",
       "      <td>7</td>\n",
       "      <td>9</td>\n",
       "      <td>45</td>\n",
       "    </tr>\n",
       "  </tbody>\n",
       "</table>\n",
       "</div>"
      ],
      "text/plain": [
       "        Oranges  Apples  Grapes  Pear\n",
       "July          2       3       6    23\n",
       "Augast        1       7       9    45"
      ]
     },
     "execution_count": 38,
     "metadata": {},
     "output_type": "execute_result"
    }
   ],
   "source": [
    "# Add 2 or more conditions -> AND/ OR\n",
    "df.loc[(df['Apples'] > 2) & (df['Grapes'] >= 0)]"
   ]
  },
  {
   "cell_type": "markdown",
   "id": "04a4efb2",
   "metadata": {
    "papermill": {
     "duration": 0.015761,
     "end_time": "2025-10-02T20:45:44.051774",
     "exception": false,
     "start_time": "2025-10-02T20:45:44.036013",
     "status": "completed"
    },
    "tags": []
   },
   "source": [
    "### *`Analyzing DataFrames : ` (head, tail, info, describe)*"
   ]
  },
  {
   "cell_type": "code",
   "execution_count": 39,
   "id": "69b4b6dc",
   "metadata": {
    "execution": {
     "iopub.execute_input": "2025-10-02T20:45:44.085253Z",
     "iopub.status.busy": "2025-10-02T20:45:44.084738Z",
     "iopub.status.idle": "2025-10-02T20:45:44.093029Z",
     "shell.execute_reply": "2025-10-02T20:45:44.092317Z"
    },
    "papermill": {
     "duration": 0.025823,
     "end_time": "2025-10-02T20:45:44.094309",
     "exception": false,
     "start_time": "2025-10-02T20:45:44.068486",
     "status": "completed"
    },
    "tags": []
   },
   "outputs": [
    {
     "data": {
      "text/html": [
       "<div>\n",
       "<style scoped>\n",
       "    .dataframe tbody tr th:only-of-type {\n",
       "        vertical-align: middle;\n",
       "    }\n",
       "\n",
       "    .dataframe tbody tr th {\n",
       "        vertical-align: top;\n",
       "    }\n",
       "\n",
       "    .dataframe thead th {\n",
       "        text-align: right;\n",
       "    }\n",
       "</style>\n",
       "<table border=\"1\" class=\"dataframe\">\n",
       "  <thead>\n",
       "    <tr style=\"text-align: right;\">\n",
       "      <th></th>\n",
       "      <th>A</th>\n",
       "      <th>B</th>\n",
       "      <th>C</th>\n",
       "    </tr>\n",
       "  </thead>\n",
       "  <tbody>\n",
       "    <tr>\n",
       "      <th>X</th>\n",
       "      <td>1</td>\n",
       "      <td>2</td>\n",
       "      <td>3</td>\n",
       "    </tr>\n",
       "    <tr>\n",
       "      <th>Y</th>\n",
       "      <td>4</td>\n",
       "      <td>5</td>\n",
       "      <td>6</td>\n",
       "    </tr>\n",
       "    <tr>\n",
       "      <th>Z</th>\n",
       "      <td>7</td>\n",
       "      <td>8</td>\n",
       "      <td>9</td>\n",
       "    </tr>\n",
       "  </tbody>\n",
       "</table>\n",
       "</div>"
      ],
      "text/plain": [
       "   A  B  C\n",
       "X  1  2  3\n",
       "Y  4  5  6\n",
       "Z  7  8  9"
      ]
     },
     "execution_count": 39,
     "metadata": {},
     "output_type": "execute_result"
    }
   ],
   "source": [
    "df = pd.DataFrame([[1, 2, 3], [4, 5, 6], [7, 8, 9]], columns=['A', 'B', 'C'], index=['X', 'Y', 'Z'] )\n",
    "\n",
    "df"
   ]
  },
  {
   "cell_type": "code",
   "execution_count": 40,
   "id": "442f1e7a",
   "metadata": {
    "execution": {
     "iopub.execute_input": "2025-10-02T20:45:44.127378Z",
     "iopub.status.busy": "2025-10-02T20:45:44.126638Z",
     "iopub.status.idle": "2025-10-02T20:45:44.134168Z",
     "shell.execute_reply": "2025-10-02T20:45:44.133414Z"
    },
    "papermill": {
     "duration": 0.025302,
     "end_time": "2025-10-02T20:45:44.135407",
     "exception": false,
     "start_time": "2025-10-02T20:45:44.110105",
     "status": "completed"
    },
    "tags": []
   },
   "outputs": [
    {
     "data": {
      "text/html": [
       "<div>\n",
       "<style scoped>\n",
       "    .dataframe tbody tr th:only-of-type {\n",
       "        vertical-align: middle;\n",
       "    }\n",
       "\n",
       "    .dataframe tbody tr th {\n",
       "        vertical-align: top;\n",
       "    }\n",
       "\n",
       "    .dataframe thead th {\n",
       "        text-align: right;\n",
       "    }\n",
       "</style>\n",
       "<table border=\"1\" class=\"dataframe\">\n",
       "  <thead>\n",
       "    <tr style=\"text-align: right;\">\n",
       "      <th></th>\n",
       "      <th>A</th>\n",
       "      <th>B</th>\n",
       "      <th>C</th>\n",
       "    </tr>\n",
       "  </thead>\n",
       "  <tbody>\n",
       "    <tr>\n",
       "      <th>X</th>\n",
       "      <td>1</td>\n",
       "      <td>2</td>\n",
       "      <td>3</td>\n",
       "    </tr>\n",
       "    <tr>\n",
       "      <th>Y</th>\n",
       "      <td>4</td>\n",
       "      <td>5</td>\n",
       "      <td>6</td>\n",
       "    </tr>\n",
       "  </tbody>\n",
       "</table>\n",
       "</div>"
      ],
      "text/plain": [
       "   A  B  C\n",
       "X  1  2  3\n",
       "Y  4  5  6"
      ]
     },
     "execution_count": 40,
     "metadata": {},
     "output_type": "execute_result"
    }
   ],
   "source": [
    "df.head(2)"
   ]
  },
  {
   "cell_type": "code",
   "execution_count": 41,
   "id": "92277ff5",
   "metadata": {
    "execution": {
     "iopub.execute_input": "2025-10-02T20:45:44.169897Z",
     "iopub.status.busy": "2025-10-02T20:45:44.169254Z",
     "iopub.status.idle": "2025-10-02T20:45:44.176421Z",
     "shell.execute_reply": "2025-10-02T20:45:44.175813Z"
    },
    "papermill": {
     "duration": 0.025938,
     "end_time": "2025-10-02T20:45:44.177693",
     "exception": false,
     "start_time": "2025-10-02T20:45:44.151755",
     "status": "completed"
    },
    "tags": []
   },
   "outputs": [
    {
     "data": {
      "text/html": [
       "<div>\n",
       "<style scoped>\n",
       "    .dataframe tbody tr th:only-of-type {\n",
       "        vertical-align: middle;\n",
       "    }\n",
       "\n",
       "    .dataframe tbody tr th {\n",
       "        vertical-align: top;\n",
       "    }\n",
       "\n",
       "    .dataframe thead th {\n",
       "        text-align: right;\n",
       "    }\n",
       "</style>\n",
       "<table border=\"1\" class=\"dataframe\">\n",
       "  <thead>\n",
       "    <tr style=\"text-align: right;\">\n",
       "      <th></th>\n",
       "      <th>A</th>\n",
       "      <th>B</th>\n",
       "      <th>C</th>\n",
       "    </tr>\n",
       "  </thead>\n",
       "  <tbody>\n",
       "    <tr>\n",
       "      <th>Z</th>\n",
       "      <td>7</td>\n",
       "      <td>8</td>\n",
       "      <td>9</td>\n",
       "    </tr>\n",
       "  </tbody>\n",
       "</table>\n",
       "</div>"
      ],
      "text/plain": [
       "   A  B  C\n",
       "Z  7  8  9"
      ]
     },
     "execution_count": 41,
     "metadata": {},
     "output_type": "execute_result"
    }
   ],
   "source": [
    "df.tail(1)"
   ]
  },
  {
   "cell_type": "code",
   "execution_count": 42,
   "id": "de7b1577",
   "metadata": {
    "execution": {
     "iopub.execute_input": "2025-10-02T20:45:44.211296Z",
     "iopub.status.busy": "2025-10-02T20:45:44.210848Z",
     "iopub.status.idle": "2025-10-02T20:45:44.227759Z",
     "shell.execute_reply": "2025-10-02T20:45:44.226905Z"
    },
    "papermill": {
     "duration": 0.035005,
     "end_time": "2025-10-02T20:45:44.229154",
     "exception": false,
     "start_time": "2025-10-02T20:45:44.194149",
     "status": "completed"
    },
    "tags": []
   },
   "outputs": [
    {
     "name": "stdout",
     "output_type": "stream",
     "text": [
      "<class 'pandas.core.frame.DataFrame'>\n",
      "Index: 3 entries, X to Z\n",
      "Data columns (total 3 columns):\n",
      " #   Column  Non-Null Count  Dtype\n",
      "---  ------  --------------  -----\n",
      " 0   A       3 non-null      int64\n",
      " 1   B       3 non-null      int64\n",
      " 2   C       3 non-null      int64\n",
      "dtypes: int64(3)\n",
      "memory usage: 96.0+ bytes\n"
     ]
    }
   ],
   "source": [
    "df.info()"
   ]
  },
  {
   "cell_type": "code",
   "execution_count": 43,
   "id": "6a8bba47",
   "metadata": {
    "execution": {
     "iopub.execute_input": "2025-10-02T20:45:44.263074Z",
     "iopub.status.busy": "2025-10-02T20:45:44.262345Z",
     "iopub.status.idle": "2025-10-02T20:45:44.279368Z",
     "shell.execute_reply": "2025-10-02T20:45:44.278573Z"
    },
    "papermill": {
     "duration": 0.035131,
     "end_time": "2025-10-02T20:45:44.280691",
     "exception": false,
     "start_time": "2025-10-02T20:45:44.245560",
     "status": "completed"
    },
    "tags": []
   },
   "outputs": [
    {
     "data": {
      "text/html": [
       "<div>\n",
       "<style scoped>\n",
       "    .dataframe tbody tr th:only-of-type {\n",
       "        vertical-align: middle;\n",
       "    }\n",
       "\n",
       "    .dataframe tbody tr th {\n",
       "        vertical-align: top;\n",
       "    }\n",
       "\n",
       "    .dataframe thead th {\n",
       "        text-align: right;\n",
       "    }\n",
       "</style>\n",
       "<table border=\"1\" class=\"dataframe\">\n",
       "  <thead>\n",
       "    <tr style=\"text-align: right;\">\n",
       "      <th></th>\n",
       "      <th>A</th>\n",
       "      <th>B</th>\n",
       "      <th>C</th>\n",
       "    </tr>\n",
       "  </thead>\n",
       "  <tbody>\n",
       "    <tr>\n",
       "      <th>count</th>\n",
       "      <td>3.0</td>\n",
       "      <td>3.0</td>\n",
       "      <td>3.0</td>\n",
       "    </tr>\n",
       "    <tr>\n",
       "      <th>mean</th>\n",
       "      <td>4.0</td>\n",
       "      <td>5.0</td>\n",
       "      <td>6.0</td>\n",
       "    </tr>\n",
       "    <tr>\n",
       "      <th>std</th>\n",
       "      <td>3.0</td>\n",
       "      <td>3.0</td>\n",
       "      <td>3.0</td>\n",
       "    </tr>\n",
       "    <tr>\n",
       "      <th>min</th>\n",
       "      <td>1.0</td>\n",
       "      <td>2.0</td>\n",
       "      <td>3.0</td>\n",
       "    </tr>\n",
       "    <tr>\n",
       "      <th>25%</th>\n",
       "      <td>2.5</td>\n",
       "      <td>3.5</td>\n",
       "      <td>4.5</td>\n",
       "    </tr>\n",
       "    <tr>\n",
       "      <th>50%</th>\n",
       "      <td>4.0</td>\n",
       "      <td>5.0</td>\n",
       "      <td>6.0</td>\n",
       "    </tr>\n",
       "    <tr>\n",
       "      <th>75%</th>\n",
       "      <td>5.5</td>\n",
       "      <td>6.5</td>\n",
       "      <td>7.5</td>\n",
       "    </tr>\n",
       "    <tr>\n",
       "      <th>max</th>\n",
       "      <td>7.0</td>\n",
       "      <td>8.0</td>\n",
       "      <td>9.0</td>\n",
       "    </tr>\n",
       "  </tbody>\n",
       "</table>\n",
       "</div>"
      ],
      "text/plain": [
       "         A    B    C\n",
       "count  3.0  3.0  3.0\n",
       "mean   4.0  5.0  6.0\n",
       "std    3.0  3.0  3.0\n",
       "min    1.0  2.0  3.0\n",
       "25%    2.5  3.5  4.5\n",
       "50%    4.0  5.0  6.0\n",
       "75%    5.5  6.5  7.5\n",
       "max    7.0  8.0  9.0"
      ]
     },
     "execution_count": 43,
     "metadata": {},
     "output_type": "execute_result"
    }
   ],
   "source": [
    "df.describe()"
   ]
  },
  {
   "cell_type": "code",
   "execution_count": 44,
   "id": "a44fba39",
   "metadata": {
    "execution": {
     "iopub.execute_input": "2025-10-02T20:45:44.315021Z",
     "iopub.status.busy": "2025-10-02T20:45:44.314233Z",
     "iopub.status.idle": "2025-10-02T20:45:44.321101Z",
     "shell.execute_reply": "2025-10-02T20:45:44.320359Z"
    },
    "papermill": {
     "duration": 0.025297,
     "end_time": "2025-10-02T20:45:44.322438",
     "exception": false,
     "start_time": "2025-10-02T20:45:44.297141",
     "status": "completed"
    },
    "tags": []
   },
   "outputs": [
    {
     "data": {
      "text/plain": [
       "array([1, 4, 7])"
      ]
     },
     "execution_count": 44,
     "metadata": {},
     "output_type": "execute_result"
    }
   ],
   "source": [
    "df['A'].unique()"
   ]
  },
  {
   "cell_type": "code",
   "execution_count": 45,
   "id": "59365e93",
   "metadata": {
    "execution": {
     "iopub.execute_input": "2025-10-02T20:45:44.357870Z",
     "iopub.status.busy": "2025-10-02T20:45:44.357332Z",
     "iopub.status.idle": "2025-10-02T20:45:44.362665Z",
     "shell.execute_reply": "2025-10-02T20:45:44.361918Z"
    },
    "papermill": {
     "duration": 0.024153,
     "end_time": "2025-10-02T20:45:44.363925",
     "exception": false,
     "start_time": "2025-10-02T20:45:44.339772",
     "status": "completed"
    },
    "tags": []
   },
   "outputs": [
    {
     "data": {
      "text/plain": [
       "3"
      ]
     },
     "execution_count": 45,
     "metadata": {},
     "output_type": "execute_result"
    }
   ],
   "source": [
    "df['A'].nunique()"
   ]
  },
  {
   "cell_type": "code",
   "execution_count": 46,
   "id": "455a2c25",
   "metadata": {
    "execution": {
     "iopub.execute_input": "2025-10-02T20:45:44.398404Z",
     "iopub.status.busy": "2025-10-02T20:45:44.397637Z",
     "iopub.status.idle": "2025-10-02T20:45:44.402741Z",
     "shell.execute_reply": "2025-10-02T20:45:44.402053Z"
    },
    "papermill": {
     "duration": 0.023543,
     "end_time": "2025-10-02T20:45:44.403975",
     "exception": false,
     "start_time": "2025-10-02T20:45:44.380432",
     "status": "completed"
    },
    "tags": []
   },
   "outputs": [
    {
     "data": {
      "text/plain": [
       "(3, 3)"
      ]
     },
     "execution_count": 46,
     "metadata": {},
     "output_type": "execute_result"
    }
   ],
   "source": [
    "df.shape"
   ]
  },
  {
   "cell_type": "code",
   "execution_count": 47,
   "id": "736ccda1",
   "metadata": {
    "execution": {
     "iopub.execute_input": "2025-10-02T20:45:44.438090Z",
     "iopub.status.busy": "2025-10-02T20:45:44.437561Z",
     "iopub.status.idle": "2025-10-02T20:45:44.442452Z",
     "shell.execute_reply": "2025-10-02T20:45:44.441751Z"
    },
    "papermill": {
     "duration": 0.023116,
     "end_time": "2025-10-02T20:45:44.443713",
     "exception": false,
     "start_time": "2025-10-02T20:45:44.420597",
     "status": "completed"
    },
    "tags": []
   },
   "outputs": [
    {
     "data": {
      "text/plain": [
       "9"
      ]
     },
     "execution_count": 47,
     "metadata": {},
     "output_type": "execute_result"
    }
   ],
   "source": [
    "df.size"
   ]
  },
  {
   "cell_type": "markdown",
   "id": "e4795c9e",
   "metadata": {
    "papermill": {
     "duration": 0.015896,
     "end_time": "2025-10-02T20:45:44.476006",
     "exception": false,
     "start_time": "2025-10-02T20:45:44.460110",
     "status": "completed"
    },
    "tags": []
   },
   "source": [
    "### *`Load in Dataframes from Files`*"
   ]
  },
  {
   "cell_type": "code",
   "execution_count": 48,
   "id": "15df30b4",
   "metadata": {
    "execution": {
     "iopub.execute_input": "2025-10-02T20:45:44.509645Z",
     "iopub.status.busy": "2025-10-02T20:45:44.509083Z",
     "iopub.status.idle": "2025-10-02T20:45:44.570474Z",
     "shell.execute_reply": "2025-10-02T20:45:44.569476Z"
    },
    "papermill": {
     "duration": 0.079733,
     "end_time": "2025-10-02T20:45:44.571975",
     "exception": false,
     "start_time": "2025-10-02T20:45:44.492242",
     "status": "completed"
    },
    "tags": []
   },
   "outputs": [
    {
     "data": {
      "text/html": [
       "<div>\n",
       "<style scoped>\n",
       "    .dataframe tbody tr th:only-of-type {\n",
       "        vertical-align: middle;\n",
       "    }\n",
       "\n",
       "    .dataframe tbody tr th {\n",
       "        vertical-align: top;\n",
       "    }\n",
       "\n",
       "    .dataframe thead th {\n",
       "        text-align: right;\n",
       "    }\n",
       "</style>\n",
       "<table border=\"1\" class=\"dataframe\">\n",
       "  <thead>\n",
       "    <tr style=\"text-align: right;\">\n",
       "      <th></th>\n",
       "      <th>Make</th>\n",
       "      <th>Model</th>\n",
       "      <th>Year</th>\n",
       "      <th>Engine Fuel Type</th>\n",
       "      <th>Engine HP</th>\n",
       "      <th>Engine Cylinders</th>\n",
       "      <th>Transmission Type</th>\n",
       "      <th>Driven_Wheels</th>\n",
       "      <th>Number of Doors</th>\n",
       "      <th>Market Category</th>\n",
       "      <th>Vehicle Size</th>\n",
       "      <th>Vehicle Style</th>\n",
       "      <th>highway MPG</th>\n",
       "      <th>city mpg</th>\n",
       "      <th>Popularity</th>\n",
       "      <th>MSRP</th>\n",
       "    </tr>\n",
       "  </thead>\n",
       "  <tbody>\n",
       "    <tr>\n",
       "      <th>0</th>\n",
       "      <td>BMW</td>\n",
       "      <td>1 Series M</td>\n",
       "      <td>2011</td>\n",
       "      <td>premium unleaded (required)</td>\n",
       "      <td>335.0</td>\n",
       "      <td>6.0</td>\n",
       "      <td>MANUAL</td>\n",
       "      <td>rear wheel drive</td>\n",
       "      <td>2.0</td>\n",
       "      <td>Factory Tuner,Luxury,High-Performance</td>\n",
       "      <td>Compact</td>\n",
       "      <td>Coupe</td>\n",
       "      <td>26</td>\n",
       "      <td>19</td>\n",
       "      <td>3916</td>\n",
       "      <td>46135</td>\n",
       "    </tr>\n",
       "    <tr>\n",
       "      <th>1</th>\n",
       "      <td>BMW</td>\n",
       "      <td>1 Series</td>\n",
       "      <td>2011</td>\n",
       "      <td>premium unleaded (required)</td>\n",
       "      <td>300.0</td>\n",
       "      <td>6.0</td>\n",
       "      <td>MANUAL</td>\n",
       "      <td>rear wheel drive</td>\n",
       "      <td>2.0</td>\n",
       "      <td>Luxury,Performance</td>\n",
       "      <td>Compact</td>\n",
       "      <td>Convertible</td>\n",
       "      <td>28</td>\n",
       "      <td>19</td>\n",
       "      <td>3916</td>\n",
       "      <td>40650</td>\n",
       "    </tr>\n",
       "    <tr>\n",
       "      <th>2</th>\n",
       "      <td>BMW</td>\n",
       "      <td>1 Series</td>\n",
       "      <td>2011</td>\n",
       "      <td>premium unleaded (required)</td>\n",
       "      <td>300.0</td>\n",
       "      <td>6.0</td>\n",
       "      <td>MANUAL</td>\n",
       "      <td>rear wheel drive</td>\n",
       "      <td>2.0</td>\n",
       "      <td>Luxury,High-Performance</td>\n",
       "      <td>Compact</td>\n",
       "      <td>Coupe</td>\n",
       "      <td>28</td>\n",
       "      <td>20</td>\n",
       "      <td>3916</td>\n",
       "      <td>36350</td>\n",
       "    </tr>\n",
       "    <tr>\n",
       "      <th>3</th>\n",
       "      <td>BMW</td>\n",
       "      <td>1 Series</td>\n",
       "      <td>2011</td>\n",
       "      <td>premium unleaded (required)</td>\n",
       "      <td>230.0</td>\n",
       "      <td>6.0</td>\n",
       "      <td>MANUAL</td>\n",
       "      <td>rear wheel drive</td>\n",
       "      <td>2.0</td>\n",
       "      <td>Luxury,Performance</td>\n",
       "      <td>Compact</td>\n",
       "      <td>Coupe</td>\n",
       "      <td>28</td>\n",
       "      <td>18</td>\n",
       "      <td>3916</td>\n",
       "      <td>29450</td>\n",
       "    </tr>\n",
       "    <tr>\n",
       "      <th>4</th>\n",
       "      <td>BMW</td>\n",
       "      <td>1 Series</td>\n",
       "      <td>2011</td>\n",
       "      <td>premium unleaded (required)</td>\n",
       "      <td>230.0</td>\n",
       "      <td>6.0</td>\n",
       "      <td>MANUAL</td>\n",
       "      <td>rear wheel drive</td>\n",
       "      <td>2.0</td>\n",
       "      <td>Luxury</td>\n",
       "      <td>Compact</td>\n",
       "      <td>Convertible</td>\n",
       "      <td>28</td>\n",
       "      <td>18</td>\n",
       "      <td>3916</td>\n",
       "      <td>34500</td>\n",
       "    </tr>\n",
       "  </tbody>\n",
       "</table>\n",
       "</div>"
      ],
      "text/plain": [
       "  Make       Model  Year             Engine Fuel Type  Engine HP  \\\n",
       "0  BMW  1 Series M  2011  premium unleaded (required)      335.0   \n",
       "1  BMW    1 Series  2011  premium unleaded (required)      300.0   \n",
       "2  BMW    1 Series  2011  premium unleaded (required)      300.0   \n",
       "3  BMW    1 Series  2011  premium unleaded (required)      230.0   \n",
       "4  BMW    1 Series  2011  premium unleaded (required)      230.0   \n",
       "\n",
       "   Engine Cylinders Transmission Type     Driven_Wheels  Number of Doors  \\\n",
       "0               6.0            MANUAL  rear wheel drive              2.0   \n",
       "1               6.0            MANUAL  rear wheel drive              2.0   \n",
       "2               6.0            MANUAL  rear wheel drive              2.0   \n",
       "3               6.0            MANUAL  rear wheel drive              2.0   \n",
       "4               6.0            MANUAL  rear wheel drive              2.0   \n",
       "\n",
       "                         Market Category Vehicle Size Vehicle Style  \\\n",
       "0  Factory Tuner,Luxury,High-Performance      Compact         Coupe   \n",
       "1                     Luxury,Performance      Compact   Convertible   \n",
       "2                Luxury,High-Performance      Compact         Coupe   \n",
       "3                     Luxury,Performance      Compact         Coupe   \n",
       "4                                 Luxury      Compact   Convertible   \n",
       "\n",
       "   highway MPG  city mpg  Popularity   MSRP  \n",
       "0           26        19        3916  46135  \n",
       "1           28        19        3916  40650  \n",
       "2           28        20        3916  36350  \n",
       "3           28        18        3916  29450  \n",
       "4           28        18        3916  34500  "
      ]
     },
     "execution_count": 48,
     "metadata": {},
     "output_type": "execute_result"
    }
   ],
   "source": [
    "# Load a CSV File -> pd.read_csv(..., delimiter=.., ..etc.)\n",
    "\n",
    "df = pd.read_csv('/kaggle/input/attachments/data.csv')\n",
    "\n",
    "# Display First 5 Rows(default) or you can specify the number of rows u want.\n",
    "df.head()"
   ]
  },
  {
   "cell_type": "code",
   "execution_count": 49,
   "id": "f5d62ffb",
   "metadata": {
    "execution": {
     "iopub.execute_input": "2025-10-02T20:45:44.608093Z",
     "iopub.status.busy": "2025-10-02T20:45:44.607773Z",
     "iopub.status.idle": "2025-10-02T20:45:44.623597Z",
     "shell.execute_reply": "2025-10-02T20:45:44.622741Z"
    },
    "papermill": {
     "duration": 0.034816,
     "end_time": "2025-10-02T20:45:44.624910",
     "exception": false,
     "start_time": "2025-10-02T20:45:44.590094",
     "status": "completed"
    },
    "tags": []
   },
   "outputs": [
    {
     "data": {
      "text/html": [
       "<div>\n",
       "<style scoped>\n",
       "    .dataframe tbody tr th:only-of-type {\n",
       "        vertical-align: middle;\n",
       "    }\n",
       "\n",
       "    .dataframe tbody tr th {\n",
       "        vertical-align: top;\n",
       "    }\n",
       "\n",
       "    .dataframe thead th {\n",
       "        text-align: right;\n",
       "    }\n",
       "</style>\n",
       "<table border=\"1\" class=\"dataframe\">\n",
       "  <thead>\n",
       "    <tr style=\"text-align: right;\">\n",
       "      <th></th>\n",
       "      <th>Make</th>\n",
       "      <th>Model</th>\n",
       "      <th>Year</th>\n",
       "      <th>Engine Fuel Type</th>\n",
       "      <th>Engine HP</th>\n",
       "      <th>Engine Cylinders</th>\n",
       "      <th>Transmission Type</th>\n",
       "      <th>Driven_Wheels</th>\n",
       "      <th>Number of Doors</th>\n",
       "      <th>Market Category</th>\n",
       "      <th>Vehicle Size</th>\n",
       "      <th>Vehicle Style</th>\n",
       "      <th>highway MPG</th>\n",
       "      <th>city mpg</th>\n",
       "      <th>Popularity</th>\n",
       "      <th>MSRP</th>\n",
       "    </tr>\n",
       "  </thead>\n",
       "  <tbody>\n",
       "    <tr>\n",
       "      <th>11904</th>\n",
       "      <td>BMW</td>\n",
       "      <td>Z8</td>\n",
       "      <td>2002</td>\n",
       "      <td>premium unleaded (required)</td>\n",
       "      <td>394.0</td>\n",
       "      <td>8.0</td>\n",
       "      <td>MANUAL</td>\n",
       "      <td>rear wheel drive</td>\n",
       "      <td>2.0</td>\n",
       "      <td>Exotic,Luxury,High-Performance</td>\n",
       "      <td>Compact</td>\n",
       "      <td>Convertible</td>\n",
       "      <td>19</td>\n",
       "      <td>12</td>\n",
       "      <td>3916</td>\n",
       "      <td>130000</td>\n",
       "    </tr>\n",
       "    <tr>\n",
       "      <th>11905</th>\n",
       "      <td>BMW</td>\n",
       "      <td>Z8</td>\n",
       "      <td>2003</td>\n",
       "      <td>premium unleaded (required)</td>\n",
       "      <td>394.0</td>\n",
       "      <td>8.0</td>\n",
       "      <td>MANUAL</td>\n",
       "      <td>rear wheel drive</td>\n",
       "      <td>2.0</td>\n",
       "      <td>Exotic,Luxury,High-Performance</td>\n",
       "      <td>Compact</td>\n",
       "      <td>Convertible</td>\n",
       "      <td>19</td>\n",
       "      <td>12</td>\n",
       "      <td>3916</td>\n",
       "      <td>131500</td>\n",
       "    </tr>\n",
       "    <tr>\n",
       "      <th>11906</th>\n",
       "      <td>Acura</td>\n",
       "      <td>ZDX</td>\n",
       "      <td>2011</td>\n",
       "      <td>premium unleaded (required)</td>\n",
       "      <td>300.0</td>\n",
       "      <td>6.0</td>\n",
       "      <td>AUTOMATIC</td>\n",
       "      <td>all wheel drive</td>\n",
       "      <td>4.0</td>\n",
       "      <td>Crossover,Hatchback,Luxury</td>\n",
       "      <td>Midsize</td>\n",
       "      <td>4dr Hatchback</td>\n",
       "      <td>23</td>\n",
       "      <td>16</td>\n",
       "      <td>204</td>\n",
       "      <td>46020</td>\n",
       "    </tr>\n",
       "    <tr>\n",
       "      <th>11907</th>\n",
       "      <td>Acura</td>\n",
       "      <td>ZDX</td>\n",
       "      <td>2011</td>\n",
       "      <td>premium unleaded (required)</td>\n",
       "      <td>300.0</td>\n",
       "      <td>6.0</td>\n",
       "      <td>AUTOMATIC</td>\n",
       "      <td>all wheel drive</td>\n",
       "      <td>4.0</td>\n",
       "      <td>Crossover,Hatchback,Luxury</td>\n",
       "      <td>Midsize</td>\n",
       "      <td>4dr Hatchback</td>\n",
       "      <td>23</td>\n",
       "      <td>16</td>\n",
       "      <td>204</td>\n",
       "      <td>56570</td>\n",
       "    </tr>\n",
       "    <tr>\n",
       "      <th>11908</th>\n",
       "      <td>Acura</td>\n",
       "      <td>ZDX</td>\n",
       "      <td>2011</td>\n",
       "      <td>premium unleaded (required)</td>\n",
       "      <td>300.0</td>\n",
       "      <td>6.0</td>\n",
       "      <td>AUTOMATIC</td>\n",
       "      <td>all wheel drive</td>\n",
       "      <td>4.0</td>\n",
       "      <td>Crossover,Hatchback,Luxury</td>\n",
       "      <td>Midsize</td>\n",
       "      <td>4dr Hatchback</td>\n",
       "      <td>23</td>\n",
       "      <td>16</td>\n",
       "      <td>204</td>\n",
       "      <td>50520</td>\n",
       "    </tr>\n",
       "    <tr>\n",
       "      <th>11909</th>\n",
       "      <td>Acura</td>\n",
       "      <td>ZDX</td>\n",
       "      <td>2012</td>\n",
       "      <td>premium unleaded (required)</td>\n",
       "      <td>300.0</td>\n",
       "      <td>6.0</td>\n",
       "      <td>AUTOMATIC</td>\n",
       "      <td>all wheel drive</td>\n",
       "      <td>4.0</td>\n",
       "      <td>Crossover,Hatchback,Luxury</td>\n",
       "      <td>Midsize</td>\n",
       "      <td>4dr Hatchback</td>\n",
       "      <td>23</td>\n",
       "      <td>16</td>\n",
       "      <td>204</td>\n",
       "      <td>46120</td>\n",
       "    </tr>\n",
       "    <tr>\n",
       "      <th>11910</th>\n",
       "      <td>Acura</td>\n",
       "      <td>ZDX</td>\n",
       "      <td>2012</td>\n",
       "      <td>premium unleaded (required)</td>\n",
       "      <td>300.0</td>\n",
       "      <td>6.0</td>\n",
       "      <td>AUTOMATIC</td>\n",
       "      <td>all wheel drive</td>\n",
       "      <td>4.0</td>\n",
       "      <td>Crossover,Hatchback,Luxury</td>\n",
       "      <td>Midsize</td>\n",
       "      <td>4dr Hatchback</td>\n",
       "      <td>23</td>\n",
       "      <td>16</td>\n",
       "      <td>204</td>\n",
       "      <td>56670</td>\n",
       "    </tr>\n",
       "    <tr>\n",
       "      <th>11911</th>\n",
       "      <td>Acura</td>\n",
       "      <td>ZDX</td>\n",
       "      <td>2012</td>\n",
       "      <td>premium unleaded (required)</td>\n",
       "      <td>300.0</td>\n",
       "      <td>6.0</td>\n",
       "      <td>AUTOMATIC</td>\n",
       "      <td>all wheel drive</td>\n",
       "      <td>4.0</td>\n",
       "      <td>Crossover,Hatchback,Luxury</td>\n",
       "      <td>Midsize</td>\n",
       "      <td>4dr Hatchback</td>\n",
       "      <td>23</td>\n",
       "      <td>16</td>\n",
       "      <td>204</td>\n",
       "      <td>50620</td>\n",
       "    </tr>\n",
       "    <tr>\n",
       "      <th>11912</th>\n",
       "      <td>Acura</td>\n",
       "      <td>ZDX</td>\n",
       "      <td>2013</td>\n",
       "      <td>premium unleaded (recommended)</td>\n",
       "      <td>300.0</td>\n",
       "      <td>6.0</td>\n",
       "      <td>AUTOMATIC</td>\n",
       "      <td>all wheel drive</td>\n",
       "      <td>4.0</td>\n",
       "      <td>Crossover,Hatchback,Luxury</td>\n",
       "      <td>Midsize</td>\n",
       "      <td>4dr Hatchback</td>\n",
       "      <td>23</td>\n",
       "      <td>16</td>\n",
       "      <td>204</td>\n",
       "      <td>50920</td>\n",
       "    </tr>\n",
       "    <tr>\n",
       "      <th>11913</th>\n",
       "      <td>Lincoln</td>\n",
       "      <td>Zephyr</td>\n",
       "      <td>2006</td>\n",
       "      <td>regular unleaded</td>\n",
       "      <td>221.0</td>\n",
       "      <td>6.0</td>\n",
       "      <td>AUTOMATIC</td>\n",
       "      <td>front wheel drive</td>\n",
       "      <td>4.0</td>\n",
       "      <td>Luxury</td>\n",
       "      <td>Midsize</td>\n",
       "      <td>Sedan</td>\n",
       "      <td>26</td>\n",
       "      <td>17</td>\n",
       "      <td>61</td>\n",
       "      <td>28995</td>\n",
       "    </tr>\n",
       "  </tbody>\n",
       "</table>\n",
       "</div>"
      ],
      "text/plain": [
       "          Make   Model  Year                Engine Fuel Type  Engine HP  \\\n",
       "11904      BMW      Z8  2002     premium unleaded (required)      394.0   \n",
       "11905      BMW      Z8  2003     premium unleaded (required)      394.0   \n",
       "11906    Acura     ZDX  2011     premium unleaded (required)      300.0   \n",
       "11907    Acura     ZDX  2011     premium unleaded (required)      300.0   \n",
       "11908    Acura     ZDX  2011     premium unleaded (required)      300.0   \n",
       "11909    Acura     ZDX  2012     premium unleaded (required)      300.0   \n",
       "11910    Acura     ZDX  2012     premium unleaded (required)      300.0   \n",
       "11911    Acura     ZDX  2012     premium unleaded (required)      300.0   \n",
       "11912    Acura     ZDX  2013  premium unleaded (recommended)      300.0   \n",
       "11913  Lincoln  Zephyr  2006                regular unleaded      221.0   \n",
       "\n",
       "       Engine Cylinders Transmission Type      Driven_Wheels  Number of Doors  \\\n",
       "11904               8.0            MANUAL   rear wheel drive              2.0   \n",
       "11905               8.0            MANUAL   rear wheel drive              2.0   \n",
       "11906               6.0         AUTOMATIC    all wheel drive              4.0   \n",
       "11907               6.0         AUTOMATIC    all wheel drive              4.0   \n",
       "11908               6.0         AUTOMATIC    all wheel drive              4.0   \n",
       "11909               6.0         AUTOMATIC    all wheel drive              4.0   \n",
       "11910               6.0         AUTOMATIC    all wheel drive              4.0   \n",
       "11911               6.0         AUTOMATIC    all wheel drive              4.0   \n",
       "11912               6.0         AUTOMATIC    all wheel drive              4.0   \n",
       "11913               6.0         AUTOMATIC  front wheel drive              4.0   \n",
       "\n",
       "                      Market Category Vehicle Size  Vehicle Style  \\\n",
       "11904  Exotic,Luxury,High-Performance      Compact    Convertible   \n",
       "11905  Exotic,Luxury,High-Performance      Compact    Convertible   \n",
       "11906      Crossover,Hatchback,Luxury      Midsize  4dr Hatchback   \n",
       "11907      Crossover,Hatchback,Luxury      Midsize  4dr Hatchback   \n",
       "11908      Crossover,Hatchback,Luxury      Midsize  4dr Hatchback   \n",
       "11909      Crossover,Hatchback,Luxury      Midsize  4dr Hatchback   \n",
       "11910      Crossover,Hatchback,Luxury      Midsize  4dr Hatchback   \n",
       "11911      Crossover,Hatchback,Luxury      Midsize  4dr Hatchback   \n",
       "11912      Crossover,Hatchback,Luxury      Midsize  4dr Hatchback   \n",
       "11913                          Luxury      Midsize          Sedan   \n",
       "\n",
       "       highway MPG  city mpg  Popularity    MSRP  \n",
       "11904           19        12        3916  130000  \n",
       "11905           19        12        3916  131500  \n",
       "11906           23        16         204   46020  \n",
       "11907           23        16         204   56570  \n",
       "11908           23        16         204   50520  \n",
       "11909           23        16         204   46120  \n",
       "11910           23        16         204   56670  \n",
       "11911           23        16         204   50620  \n",
       "11912           23        16         204   50920  \n",
       "11913           26        17          61   28995  "
      ]
     },
     "execution_count": 49,
     "metadata": {},
     "output_type": "execute_result"
    }
   ],
   "source": [
    "# Display Last 5 Rows(default) or you can specify the number of rows u want.\n",
    "df.tail(10)"
   ]
  },
  {
   "cell_type": "code",
   "execution_count": 50,
   "id": "ff85cf85",
   "metadata": {
    "execution": {
     "iopub.execute_input": "2025-10-02T20:45:44.660647Z",
     "iopub.status.busy": "2025-10-02T20:45:44.659891Z",
     "iopub.status.idle": "2025-10-02T20:45:44.673740Z",
     "shell.execute_reply": "2025-10-02T20:45:44.672835Z"
    },
    "papermill": {
     "duration": 0.03295,
     "end_time": "2025-10-02T20:45:44.675036",
     "exception": false,
     "start_time": "2025-10-02T20:45:44.642086",
     "status": "completed"
    },
    "tags": []
   },
   "outputs": [
    {
     "name": "stdout",
     "output_type": "stream",
     "text": [
      "<class 'pandas.core.frame.DataFrame'>\n",
      "RangeIndex: 11914 entries, 0 to 11913\n",
      "Data columns (total 16 columns):\n",
      " #   Column             Non-Null Count  Dtype  \n",
      "---  ------             --------------  -----  \n",
      " 0   Make               11914 non-null  object \n",
      " 1   Model              11914 non-null  object \n",
      " 2   Year               11914 non-null  int64  \n",
      " 3   Engine Fuel Type   11911 non-null  object \n",
      " 4   Engine HP          11845 non-null  float64\n",
      " 5   Engine Cylinders   11884 non-null  float64\n",
      " 6   Transmission Type  11914 non-null  object \n",
      " 7   Driven_Wheels      11914 non-null  object \n",
      " 8   Number of Doors    11908 non-null  float64\n",
      " 9   Market Category    8172 non-null   object \n",
      " 10  Vehicle Size       11914 non-null  object \n",
      " 11  Vehicle Style      11914 non-null  object \n",
      " 12  highway MPG        11914 non-null  int64  \n",
      " 13  city mpg           11914 non-null  int64  \n",
      " 14  Popularity         11914 non-null  int64  \n",
      " 15  MSRP               11914 non-null  int64  \n",
      "dtypes: float64(3), int64(5), object(8)\n",
      "memory usage: 1.5+ MB\n"
     ]
    }
   ],
   "source": [
    "# Display Metadata about DataFrame\n",
    "df.info()"
   ]
  },
  {
   "cell_type": "code",
   "execution_count": 51,
   "id": "db1d33b4",
   "metadata": {
    "execution": {
     "iopub.execute_input": "2025-10-02T20:45:44.711402Z",
     "iopub.status.busy": "2025-10-02T20:45:44.710563Z",
     "iopub.status.idle": "2025-10-02T20:45:44.800967Z",
     "shell.execute_reply": "2025-10-02T20:45:44.800181Z"
    },
    "papermill": {
     "duration": 0.110288,
     "end_time": "2025-10-02T20:45:44.802634",
     "exception": false,
     "start_time": "2025-10-02T20:45:44.692346",
     "status": "completed"
    },
    "tags": []
   },
   "outputs": [
    {
     "data": {
      "text/html": [
       "<div>\n",
       "<style scoped>\n",
       "    .dataframe tbody tr th:only-of-type {\n",
       "        vertical-align: middle;\n",
       "    }\n",
       "\n",
       "    .dataframe tbody tr th {\n",
       "        vertical-align: top;\n",
       "    }\n",
       "\n",
       "    .dataframe thead th {\n",
       "        text-align: right;\n",
       "    }\n",
       "</style>\n",
       "<table border=\"1\" class=\"dataframe\">\n",
       "  <thead>\n",
       "    <tr style=\"text-align: right;\">\n",
       "      <th></th>\n",
       "      <th>Year</th>\n",
       "      <th>Engine HP</th>\n",
       "      <th>Engine Cylinders</th>\n",
       "      <th>Number of Doors</th>\n",
       "      <th>highway MPG</th>\n",
       "      <th>city mpg</th>\n",
       "      <th>Popularity</th>\n",
       "      <th>MSRP</th>\n",
       "    </tr>\n",
       "  </thead>\n",
       "  <tbody>\n",
       "    <tr>\n",
       "      <th>count</th>\n",
       "      <td>11914.000000</td>\n",
       "      <td>11845.00000</td>\n",
       "      <td>11884.000000</td>\n",
       "      <td>11908.000000</td>\n",
       "      <td>11914.000000</td>\n",
       "      <td>11914.000000</td>\n",
       "      <td>11914.000000</td>\n",
       "      <td>1.191400e+04</td>\n",
       "    </tr>\n",
       "    <tr>\n",
       "      <th>mean</th>\n",
       "      <td>2010.384338</td>\n",
       "      <td>249.38607</td>\n",
       "      <td>5.628829</td>\n",
       "      <td>3.436093</td>\n",
       "      <td>26.637485</td>\n",
       "      <td>19.733255</td>\n",
       "      <td>1554.911197</td>\n",
       "      <td>4.059474e+04</td>\n",
       "    </tr>\n",
       "    <tr>\n",
       "      <th>std</th>\n",
       "      <td>7.579740</td>\n",
       "      <td>109.19187</td>\n",
       "      <td>1.780559</td>\n",
       "      <td>0.881315</td>\n",
       "      <td>8.863001</td>\n",
       "      <td>8.987798</td>\n",
       "      <td>1441.855347</td>\n",
       "      <td>6.010910e+04</td>\n",
       "    </tr>\n",
       "    <tr>\n",
       "      <th>min</th>\n",
       "      <td>1990.000000</td>\n",
       "      <td>55.00000</td>\n",
       "      <td>0.000000</td>\n",
       "      <td>2.000000</td>\n",
       "      <td>12.000000</td>\n",
       "      <td>7.000000</td>\n",
       "      <td>2.000000</td>\n",
       "      <td>2.000000e+03</td>\n",
       "    </tr>\n",
       "    <tr>\n",
       "      <th>25%</th>\n",
       "      <td>2007.000000</td>\n",
       "      <td>170.00000</td>\n",
       "      <td>4.000000</td>\n",
       "      <td>2.000000</td>\n",
       "      <td>22.000000</td>\n",
       "      <td>16.000000</td>\n",
       "      <td>549.000000</td>\n",
       "      <td>2.100000e+04</td>\n",
       "    </tr>\n",
       "    <tr>\n",
       "      <th>50%</th>\n",
       "      <td>2015.000000</td>\n",
       "      <td>227.00000</td>\n",
       "      <td>6.000000</td>\n",
       "      <td>4.000000</td>\n",
       "      <td>26.000000</td>\n",
       "      <td>18.000000</td>\n",
       "      <td>1385.000000</td>\n",
       "      <td>2.999500e+04</td>\n",
       "    </tr>\n",
       "    <tr>\n",
       "      <th>75%</th>\n",
       "      <td>2016.000000</td>\n",
       "      <td>300.00000</td>\n",
       "      <td>6.000000</td>\n",
       "      <td>4.000000</td>\n",
       "      <td>30.000000</td>\n",
       "      <td>22.000000</td>\n",
       "      <td>2009.000000</td>\n",
       "      <td>4.223125e+04</td>\n",
       "    </tr>\n",
       "    <tr>\n",
       "      <th>max</th>\n",
       "      <td>2017.000000</td>\n",
       "      <td>1001.00000</td>\n",
       "      <td>16.000000</td>\n",
       "      <td>4.000000</td>\n",
       "      <td>354.000000</td>\n",
       "      <td>137.000000</td>\n",
       "      <td>5657.000000</td>\n",
       "      <td>2.065902e+06</td>\n",
       "    </tr>\n",
       "  </tbody>\n",
       "</table>\n",
       "</div>"
      ],
      "text/plain": [
       "               Year    Engine HP  Engine Cylinders  Number of Doors  \\\n",
       "count  11914.000000  11845.00000      11884.000000     11908.000000   \n",
       "mean    2010.384338    249.38607          5.628829         3.436093   \n",
       "std        7.579740    109.19187          1.780559         0.881315   \n",
       "min     1990.000000     55.00000          0.000000         2.000000   \n",
       "25%     2007.000000    170.00000          4.000000         2.000000   \n",
       "50%     2015.000000    227.00000          6.000000         4.000000   \n",
       "75%     2016.000000    300.00000          6.000000         4.000000   \n",
       "max     2017.000000   1001.00000         16.000000         4.000000   \n",
       "\n",
       "        highway MPG      city mpg    Popularity          MSRP  \n",
       "count  11914.000000  11914.000000  11914.000000  1.191400e+04  \n",
       "mean      26.637485     19.733255   1554.911197  4.059474e+04  \n",
       "std        8.863001      8.987798   1441.855347  6.010910e+04  \n",
       "min       12.000000      7.000000      2.000000  2.000000e+03  \n",
       "25%       22.000000     16.000000    549.000000  2.100000e+04  \n",
       "50%       26.000000     18.000000   1385.000000  2.999500e+04  \n",
       "75%       30.000000     22.000000   2009.000000  4.223125e+04  \n",
       "max      354.000000    137.000000   5657.000000  2.065902e+06  "
      ]
     },
     "execution_count": 51,
     "metadata": {},
     "output_type": "execute_result"
    }
   ],
   "source": [
    "# Descriptive Statistics\n",
    "df.describe()       # Default : Numerical Columns"
   ]
  },
  {
   "cell_type": "code",
   "execution_count": 52,
   "id": "964c8bf6",
   "metadata": {
    "execution": {
     "iopub.execute_input": "2025-10-02T20:45:44.839160Z",
     "iopub.status.busy": "2025-10-02T20:45:44.838645Z",
     "iopub.status.idle": "2025-10-02T20:45:44.867035Z",
     "shell.execute_reply": "2025-10-02T20:45:44.866201Z"
    },
    "papermill": {
     "duration": 0.047857,
     "end_time": "2025-10-02T20:45:44.868353",
     "exception": false,
     "start_time": "2025-10-02T20:45:44.820496",
     "status": "completed"
    },
    "tags": []
   },
   "outputs": [
    {
     "data": {
      "text/html": [
       "<div>\n",
       "<style scoped>\n",
       "    .dataframe tbody tr th:only-of-type {\n",
       "        vertical-align: middle;\n",
       "    }\n",
       "\n",
       "    .dataframe tbody tr th {\n",
       "        vertical-align: top;\n",
       "    }\n",
       "\n",
       "    .dataframe thead th {\n",
       "        text-align: right;\n",
       "    }\n",
       "</style>\n",
       "<table border=\"1\" class=\"dataframe\">\n",
       "  <thead>\n",
       "    <tr style=\"text-align: right;\">\n",
       "      <th></th>\n",
       "      <th>Make</th>\n",
       "      <th>Model</th>\n",
       "      <th>Engine Fuel Type</th>\n",
       "      <th>Transmission Type</th>\n",
       "      <th>Driven_Wheels</th>\n",
       "      <th>Market Category</th>\n",
       "      <th>Vehicle Size</th>\n",
       "      <th>Vehicle Style</th>\n",
       "    </tr>\n",
       "  </thead>\n",
       "  <tbody>\n",
       "    <tr>\n",
       "      <th>count</th>\n",
       "      <td>11914</td>\n",
       "      <td>11914</td>\n",
       "      <td>11911</td>\n",
       "      <td>11914</td>\n",
       "      <td>11914</td>\n",
       "      <td>8172</td>\n",
       "      <td>11914</td>\n",
       "      <td>11914</td>\n",
       "    </tr>\n",
       "    <tr>\n",
       "      <th>unique</th>\n",
       "      <td>48</td>\n",
       "      <td>915</td>\n",
       "      <td>10</td>\n",
       "      <td>5</td>\n",
       "      <td>4</td>\n",
       "      <td>71</td>\n",
       "      <td>3</td>\n",
       "      <td>16</td>\n",
       "    </tr>\n",
       "    <tr>\n",
       "      <th>top</th>\n",
       "      <td>Chevrolet</td>\n",
       "      <td>Silverado 1500</td>\n",
       "      <td>regular unleaded</td>\n",
       "      <td>AUTOMATIC</td>\n",
       "      <td>front wheel drive</td>\n",
       "      <td>Crossover</td>\n",
       "      <td>Compact</td>\n",
       "      <td>Sedan</td>\n",
       "    </tr>\n",
       "    <tr>\n",
       "      <th>freq</th>\n",
       "      <td>1123</td>\n",
       "      <td>156</td>\n",
       "      <td>7172</td>\n",
       "      <td>8266</td>\n",
       "      <td>4787</td>\n",
       "      <td>1110</td>\n",
       "      <td>4764</td>\n",
       "      <td>3048</td>\n",
       "    </tr>\n",
       "  </tbody>\n",
       "</table>\n",
       "</div>"
      ],
      "text/plain": [
       "             Make           Model  Engine Fuel Type Transmission Type  \\\n",
       "count       11914           11914             11911             11914   \n",
       "unique         48             915                10                 5   \n",
       "top     Chevrolet  Silverado 1500  regular unleaded         AUTOMATIC   \n",
       "freq         1123             156              7172              8266   \n",
       "\n",
       "            Driven_Wheels Market Category Vehicle Size Vehicle Style  \n",
       "count               11914            8172        11914         11914  \n",
       "unique                  4              71            3            16  \n",
       "top     front wheel drive       Crossover      Compact         Sedan  \n",
       "freq                 4787            1110         4764          3048  "
      ]
     },
     "execution_count": 52,
     "metadata": {},
     "output_type": "execute_result"
    }
   ],
   "source": [
    "df.describe(include='object')       # Statistics for Categorical Columns"
   ]
  },
  {
   "cell_type": "markdown",
   "id": "186fe991",
   "metadata": {
    "papermill": {
     "duration": 0.017037,
     "end_time": "2025-10-02T20:45:44.903542",
     "exception": false,
     "start_time": "2025-10-02T20:45:44.886505",
     "status": "completed"
    },
    "tags": []
   },
   "source": [
    "*`Drop Rows/Columns` -> df.drop(columns=[.., .., ..], axis=1/0, inplace=True/False)*"
   ]
  },
  {
   "cell_type": "code",
   "execution_count": 53,
   "id": "234befd2",
   "metadata": {
    "execution": {
     "iopub.execute_input": "2025-10-02T20:45:44.939129Z",
     "iopub.status.busy": "2025-10-02T20:45:44.938637Z",
     "iopub.status.idle": "2025-10-02T20:45:44.954350Z",
     "shell.execute_reply": "2025-10-02T20:45:44.953641Z"
    },
    "papermill": {
     "duration": 0.034911,
     "end_time": "2025-10-02T20:45:44.955728",
     "exception": false,
     "start_time": "2025-10-02T20:45:44.920817",
     "status": "completed"
    },
    "tags": []
   },
   "outputs": [
    {
     "data": {
      "text/html": [
       "<div>\n",
       "<style scoped>\n",
       "    .dataframe tbody tr th:only-of-type {\n",
       "        vertical-align: middle;\n",
       "    }\n",
       "\n",
       "    .dataframe tbody tr th {\n",
       "        vertical-align: top;\n",
       "    }\n",
       "\n",
       "    .dataframe thead th {\n",
       "        text-align: right;\n",
       "    }\n",
       "</style>\n",
       "<table border=\"1\" class=\"dataframe\">\n",
       "  <thead>\n",
       "    <tr style=\"text-align: right;\">\n",
       "      <th></th>\n",
       "      <th>Year</th>\n",
       "      <th>Engine Fuel Type</th>\n",
       "      <th>Engine HP</th>\n",
       "      <th>Engine Cylinders</th>\n",
       "      <th>Transmission Type</th>\n",
       "      <th>Driven_Wheels</th>\n",
       "      <th>Number of Doors</th>\n",
       "      <th>Market Category</th>\n",
       "      <th>Vehicle Size</th>\n",
       "      <th>Vehicle Style</th>\n",
       "      <th>highway MPG</th>\n",
       "      <th>city mpg</th>\n",
       "      <th>Popularity</th>\n",
       "      <th>MSRP</th>\n",
       "    </tr>\n",
       "  </thead>\n",
       "  <tbody>\n",
       "    <tr>\n",
       "      <th>0</th>\n",
       "      <td>2011</td>\n",
       "      <td>premium unleaded (required)</td>\n",
       "      <td>335.0</td>\n",
       "      <td>6.0</td>\n",
       "      <td>MANUAL</td>\n",
       "      <td>rear wheel drive</td>\n",
       "      <td>2.0</td>\n",
       "      <td>Factory Tuner,Luxury,High-Performance</td>\n",
       "      <td>Compact</td>\n",
       "      <td>Coupe</td>\n",
       "      <td>26</td>\n",
       "      <td>19</td>\n",
       "      <td>3916</td>\n",
       "      <td>46135</td>\n",
       "    </tr>\n",
       "    <tr>\n",
       "      <th>1</th>\n",
       "      <td>2011</td>\n",
       "      <td>premium unleaded (required)</td>\n",
       "      <td>300.0</td>\n",
       "      <td>6.0</td>\n",
       "      <td>MANUAL</td>\n",
       "      <td>rear wheel drive</td>\n",
       "      <td>2.0</td>\n",
       "      <td>Luxury,Performance</td>\n",
       "      <td>Compact</td>\n",
       "      <td>Convertible</td>\n",
       "      <td>28</td>\n",
       "      <td>19</td>\n",
       "      <td>3916</td>\n",
       "      <td>40650</td>\n",
       "    </tr>\n",
       "    <tr>\n",
       "      <th>2</th>\n",
       "      <td>2011</td>\n",
       "      <td>premium unleaded (required)</td>\n",
       "      <td>300.0</td>\n",
       "      <td>6.0</td>\n",
       "      <td>MANUAL</td>\n",
       "      <td>rear wheel drive</td>\n",
       "      <td>2.0</td>\n",
       "      <td>Luxury,High-Performance</td>\n",
       "      <td>Compact</td>\n",
       "      <td>Coupe</td>\n",
       "      <td>28</td>\n",
       "      <td>20</td>\n",
       "      <td>3916</td>\n",
       "      <td>36350</td>\n",
       "    </tr>\n",
       "    <tr>\n",
       "      <th>3</th>\n",
       "      <td>2011</td>\n",
       "      <td>premium unleaded (required)</td>\n",
       "      <td>230.0</td>\n",
       "      <td>6.0</td>\n",
       "      <td>MANUAL</td>\n",
       "      <td>rear wheel drive</td>\n",
       "      <td>2.0</td>\n",
       "      <td>Luxury,Performance</td>\n",
       "      <td>Compact</td>\n",
       "      <td>Coupe</td>\n",
       "      <td>28</td>\n",
       "      <td>18</td>\n",
       "      <td>3916</td>\n",
       "      <td>29450</td>\n",
       "    </tr>\n",
       "    <tr>\n",
       "      <th>4</th>\n",
       "      <td>2011</td>\n",
       "      <td>premium unleaded (required)</td>\n",
       "      <td>230.0</td>\n",
       "      <td>6.0</td>\n",
       "      <td>MANUAL</td>\n",
       "      <td>rear wheel drive</td>\n",
       "      <td>2.0</td>\n",
       "      <td>Luxury</td>\n",
       "      <td>Compact</td>\n",
       "      <td>Convertible</td>\n",
       "      <td>28</td>\n",
       "      <td>18</td>\n",
       "      <td>3916</td>\n",
       "      <td>34500</td>\n",
       "    </tr>\n",
       "    <tr>\n",
       "      <th>...</th>\n",
       "      <td>...</td>\n",
       "      <td>...</td>\n",
       "      <td>...</td>\n",
       "      <td>...</td>\n",
       "      <td>...</td>\n",
       "      <td>...</td>\n",
       "      <td>...</td>\n",
       "      <td>...</td>\n",
       "      <td>...</td>\n",
       "      <td>...</td>\n",
       "      <td>...</td>\n",
       "      <td>...</td>\n",
       "      <td>...</td>\n",
       "      <td>...</td>\n",
       "    </tr>\n",
       "    <tr>\n",
       "      <th>11909</th>\n",
       "      <td>2012</td>\n",
       "      <td>premium unleaded (required)</td>\n",
       "      <td>300.0</td>\n",
       "      <td>6.0</td>\n",
       "      <td>AUTOMATIC</td>\n",
       "      <td>all wheel drive</td>\n",
       "      <td>4.0</td>\n",
       "      <td>Crossover,Hatchback,Luxury</td>\n",
       "      <td>Midsize</td>\n",
       "      <td>4dr Hatchback</td>\n",
       "      <td>23</td>\n",
       "      <td>16</td>\n",
       "      <td>204</td>\n",
       "      <td>46120</td>\n",
       "    </tr>\n",
       "    <tr>\n",
       "      <th>11910</th>\n",
       "      <td>2012</td>\n",
       "      <td>premium unleaded (required)</td>\n",
       "      <td>300.0</td>\n",
       "      <td>6.0</td>\n",
       "      <td>AUTOMATIC</td>\n",
       "      <td>all wheel drive</td>\n",
       "      <td>4.0</td>\n",
       "      <td>Crossover,Hatchback,Luxury</td>\n",
       "      <td>Midsize</td>\n",
       "      <td>4dr Hatchback</td>\n",
       "      <td>23</td>\n",
       "      <td>16</td>\n",
       "      <td>204</td>\n",
       "      <td>56670</td>\n",
       "    </tr>\n",
       "    <tr>\n",
       "      <th>11911</th>\n",
       "      <td>2012</td>\n",
       "      <td>premium unleaded (required)</td>\n",
       "      <td>300.0</td>\n",
       "      <td>6.0</td>\n",
       "      <td>AUTOMATIC</td>\n",
       "      <td>all wheel drive</td>\n",
       "      <td>4.0</td>\n",
       "      <td>Crossover,Hatchback,Luxury</td>\n",
       "      <td>Midsize</td>\n",
       "      <td>4dr Hatchback</td>\n",
       "      <td>23</td>\n",
       "      <td>16</td>\n",
       "      <td>204</td>\n",
       "      <td>50620</td>\n",
       "    </tr>\n",
       "    <tr>\n",
       "      <th>11912</th>\n",
       "      <td>2013</td>\n",
       "      <td>premium unleaded (recommended)</td>\n",
       "      <td>300.0</td>\n",
       "      <td>6.0</td>\n",
       "      <td>AUTOMATIC</td>\n",
       "      <td>all wheel drive</td>\n",
       "      <td>4.0</td>\n",
       "      <td>Crossover,Hatchback,Luxury</td>\n",
       "      <td>Midsize</td>\n",
       "      <td>4dr Hatchback</td>\n",
       "      <td>23</td>\n",
       "      <td>16</td>\n",
       "      <td>204</td>\n",
       "      <td>50920</td>\n",
       "    </tr>\n",
       "    <tr>\n",
       "      <th>11913</th>\n",
       "      <td>2006</td>\n",
       "      <td>regular unleaded</td>\n",
       "      <td>221.0</td>\n",
       "      <td>6.0</td>\n",
       "      <td>AUTOMATIC</td>\n",
       "      <td>front wheel drive</td>\n",
       "      <td>4.0</td>\n",
       "      <td>Luxury</td>\n",
       "      <td>Midsize</td>\n",
       "      <td>Sedan</td>\n",
       "      <td>26</td>\n",
       "      <td>17</td>\n",
       "      <td>61</td>\n",
       "      <td>28995</td>\n",
       "    </tr>\n",
       "  </tbody>\n",
       "</table>\n",
       "<p>11914 rows × 14 columns</p>\n",
       "</div>"
      ],
      "text/plain": [
       "       Year                Engine Fuel Type  Engine HP  Engine Cylinders  \\\n",
       "0      2011     premium unleaded (required)      335.0               6.0   \n",
       "1      2011     premium unleaded (required)      300.0               6.0   \n",
       "2      2011     premium unleaded (required)      300.0               6.0   \n",
       "3      2011     premium unleaded (required)      230.0               6.0   \n",
       "4      2011     premium unleaded (required)      230.0               6.0   \n",
       "...     ...                             ...        ...               ...   \n",
       "11909  2012     premium unleaded (required)      300.0               6.0   \n",
       "11910  2012     premium unleaded (required)      300.0               6.0   \n",
       "11911  2012     premium unleaded (required)      300.0               6.0   \n",
       "11912  2013  premium unleaded (recommended)      300.0               6.0   \n",
       "11913  2006                regular unleaded      221.0               6.0   \n",
       "\n",
       "      Transmission Type      Driven_Wheels  Number of Doors  \\\n",
       "0                MANUAL   rear wheel drive              2.0   \n",
       "1                MANUAL   rear wheel drive              2.0   \n",
       "2                MANUAL   rear wheel drive              2.0   \n",
       "3                MANUAL   rear wheel drive              2.0   \n",
       "4                MANUAL   rear wheel drive              2.0   \n",
       "...                 ...                ...              ...   \n",
       "11909         AUTOMATIC    all wheel drive              4.0   \n",
       "11910         AUTOMATIC    all wheel drive              4.0   \n",
       "11911         AUTOMATIC    all wheel drive              4.0   \n",
       "11912         AUTOMATIC    all wheel drive              4.0   \n",
       "11913         AUTOMATIC  front wheel drive              4.0   \n",
       "\n",
       "                             Market Category Vehicle Size  Vehicle Style  \\\n",
       "0      Factory Tuner,Luxury,High-Performance      Compact          Coupe   \n",
       "1                         Luxury,Performance      Compact    Convertible   \n",
       "2                    Luxury,High-Performance      Compact          Coupe   \n",
       "3                         Luxury,Performance      Compact          Coupe   \n",
       "4                                     Luxury      Compact    Convertible   \n",
       "...                                      ...          ...            ...   \n",
       "11909             Crossover,Hatchback,Luxury      Midsize  4dr Hatchback   \n",
       "11910             Crossover,Hatchback,Luxury      Midsize  4dr Hatchback   \n",
       "11911             Crossover,Hatchback,Luxury      Midsize  4dr Hatchback   \n",
       "11912             Crossover,Hatchback,Luxury      Midsize  4dr Hatchback   \n",
       "11913                                 Luxury      Midsize          Sedan   \n",
       "\n",
       "       highway MPG  city mpg  Popularity   MSRP  \n",
       "0               26        19        3916  46135  \n",
       "1               28        19        3916  40650  \n",
       "2               28        20        3916  36350  \n",
       "3               28        18        3916  29450  \n",
       "4               28        18        3916  34500  \n",
       "...            ...       ...         ...    ...  \n",
       "11909           23        16         204  46120  \n",
       "11910           23        16         204  56670  \n",
       "11911           23        16         204  50620  \n",
       "11912           23        16         204  50920  \n",
       "11913           26        17          61  28995  \n",
       "\n",
       "[11914 rows x 14 columns]"
      ]
     },
     "execution_count": 53,
     "metadata": {},
     "output_type": "execute_result"
    }
   ],
   "source": [
    "# If U want to Drop Columns\n",
    "df.drop(columns=['Make', 'Model'], axis=1)"
   ]
  },
  {
   "cell_type": "code",
   "execution_count": 54,
   "id": "64dfdb5b",
   "metadata": {
    "execution": {
     "iopub.execute_input": "2025-10-02T20:45:44.994056Z",
     "iopub.status.busy": "2025-10-02T20:45:44.993781Z",
     "iopub.status.idle": "2025-10-02T20:45:44.999502Z",
     "shell.execute_reply": "2025-10-02T20:45:44.998727Z"
    },
    "papermill": {
     "duration": 0.026032,
     "end_time": "2025-10-02T20:45:45.000822",
     "exception": false,
     "start_time": "2025-10-02T20:45:44.974790",
     "status": "completed"
    },
    "tags": []
   },
   "outputs": [],
   "source": [
    "# If you want to make changes to orignal DF -> inplace = True\n",
    "df.drop(columns=['Make', 'Model'], axis=1, inplace=True)"
   ]
  },
  {
   "cell_type": "code",
   "execution_count": 55,
   "id": "0ecd10fc",
   "metadata": {
    "execution": {
     "iopub.execute_input": "2025-10-02T20:45:45.038180Z",
     "iopub.status.busy": "2025-10-02T20:45:45.037416Z",
     "iopub.status.idle": "2025-10-02T20:45:45.054601Z",
     "shell.execute_reply": "2025-10-02T20:45:45.053849Z"
    },
    "papermill": {
     "duration": 0.037231,
     "end_time": "2025-10-02T20:45:45.055948",
     "exception": false,
     "start_time": "2025-10-02T20:45:45.018717",
     "status": "completed"
    },
    "tags": []
   },
   "outputs": [
    {
     "data": {
      "text/html": [
       "<div>\n",
       "<style scoped>\n",
       "    .dataframe tbody tr th:only-of-type {\n",
       "        vertical-align: middle;\n",
       "    }\n",
       "\n",
       "    .dataframe tbody tr th {\n",
       "        vertical-align: top;\n",
       "    }\n",
       "\n",
       "    .dataframe thead th {\n",
       "        text-align: right;\n",
       "    }\n",
       "</style>\n",
       "<table border=\"1\" class=\"dataframe\">\n",
       "  <thead>\n",
       "    <tr style=\"text-align: right;\">\n",
       "      <th></th>\n",
       "      <th>Year</th>\n",
       "      <th>Engine Fuel Type</th>\n",
       "      <th>Engine HP</th>\n",
       "      <th>Engine Cylinders</th>\n",
       "      <th>Transmission Type</th>\n",
       "      <th>Driven_Wheels</th>\n",
       "      <th>Number of Doors</th>\n",
       "      <th>Market Category</th>\n",
       "      <th>Vehicle Size</th>\n",
       "      <th>Vehicle Style</th>\n",
       "      <th>highway MPG</th>\n",
       "      <th>city mpg</th>\n",
       "      <th>Popularity</th>\n",
       "      <th>MSRP</th>\n",
       "    </tr>\n",
       "  </thead>\n",
       "  <tbody>\n",
       "    <tr>\n",
       "      <th>2</th>\n",
       "      <td>2011</td>\n",
       "      <td>premium unleaded (required)</td>\n",
       "      <td>300.0</td>\n",
       "      <td>6.0</td>\n",
       "      <td>MANUAL</td>\n",
       "      <td>rear wheel drive</td>\n",
       "      <td>2.0</td>\n",
       "      <td>Luxury,High-Performance</td>\n",
       "      <td>Compact</td>\n",
       "      <td>Coupe</td>\n",
       "      <td>28</td>\n",
       "      <td>20</td>\n",
       "      <td>3916</td>\n",
       "      <td>36350</td>\n",
       "    </tr>\n",
       "    <tr>\n",
       "      <th>3</th>\n",
       "      <td>2011</td>\n",
       "      <td>premium unleaded (required)</td>\n",
       "      <td>230.0</td>\n",
       "      <td>6.0</td>\n",
       "      <td>MANUAL</td>\n",
       "      <td>rear wheel drive</td>\n",
       "      <td>2.0</td>\n",
       "      <td>Luxury,Performance</td>\n",
       "      <td>Compact</td>\n",
       "      <td>Coupe</td>\n",
       "      <td>28</td>\n",
       "      <td>18</td>\n",
       "      <td>3916</td>\n",
       "      <td>29450</td>\n",
       "    </tr>\n",
       "    <tr>\n",
       "      <th>4</th>\n",
       "      <td>2011</td>\n",
       "      <td>premium unleaded (required)</td>\n",
       "      <td>230.0</td>\n",
       "      <td>6.0</td>\n",
       "      <td>MANUAL</td>\n",
       "      <td>rear wheel drive</td>\n",
       "      <td>2.0</td>\n",
       "      <td>Luxury</td>\n",
       "      <td>Compact</td>\n",
       "      <td>Convertible</td>\n",
       "      <td>28</td>\n",
       "      <td>18</td>\n",
       "      <td>3916</td>\n",
       "      <td>34500</td>\n",
       "    </tr>\n",
       "    <tr>\n",
       "      <th>5</th>\n",
       "      <td>2012</td>\n",
       "      <td>premium unleaded (required)</td>\n",
       "      <td>230.0</td>\n",
       "      <td>6.0</td>\n",
       "      <td>MANUAL</td>\n",
       "      <td>rear wheel drive</td>\n",
       "      <td>2.0</td>\n",
       "      <td>Luxury,Performance</td>\n",
       "      <td>Compact</td>\n",
       "      <td>Coupe</td>\n",
       "      <td>28</td>\n",
       "      <td>18</td>\n",
       "      <td>3916</td>\n",
       "      <td>31200</td>\n",
       "    </tr>\n",
       "    <tr>\n",
       "      <th>6</th>\n",
       "      <td>2012</td>\n",
       "      <td>premium unleaded (required)</td>\n",
       "      <td>300.0</td>\n",
       "      <td>6.0</td>\n",
       "      <td>MANUAL</td>\n",
       "      <td>rear wheel drive</td>\n",
       "      <td>2.0</td>\n",
       "      <td>Luxury,Performance</td>\n",
       "      <td>Compact</td>\n",
       "      <td>Convertible</td>\n",
       "      <td>26</td>\n",
       "      <td>17</td>\n",
       "      <td>3916</td>\n",
       "      <td>44100</td>\n",
       "    </tr>\n",
       "    <tr>\n",
       "      <th>...</th>\n",
       "      <td>...</td>\n",
       "      <td>...</td>\n",
       "      <td>...</td>\n",
       "      <td>...</td>\n",
       "      <td>...</td>\n",
       "      <td>...</td>\n",
       "      <td>...</td>\n",
       "      <td>...</td>\n",
       "      <td>...</td>\n",
       "      <td>...</td>\n",
       "      <td>...</td>\n",
       "      <td>...</td>\n",
       "      <td>...</td>\n",
       "      <td>...</td>\n",
       "    </tr>\n",
       "    <tr>\n",
       "      <th>11909</th>\n",
       "      <td>2012</td>\n",
       "      <td>premium unleaded (required)</td>\n",
       "      <td>300.0</td>\n",
       "      <td>6.0</td>\n",
       "      <td>AUTOMATIC</td>\n",
       "      <td>all wheel drive</td>\n",
       "      <td>4.0</td>\n",
       "      <td>Crossover,Hatchback,Luxury</td>\n",
       "      <td>Midsize</td>\n",
       "      <td>4dr Hatchback</td>\n",
       "      <td>23</td>\n",
       "      <td>16</td>\n",
       "      <td>204</td>\n",
       "      <td>46120</td>\n",
       "    </tr>\n",
       "    <tr>\n",
       "      <th>11910</th>\n",
       "      <td>2012</td>\n",
       "      <td>premium unleaded (required)</td>\n",
       "      <td>300.0</td>\n",
       "      <td>6.0</td>\n",
       "      <td>AUTOMATIC</td>\n",
       "      <td>all wheel drive</td>\n",
       "      <td>4.0</td>\n",
       "      <td>Crossover,Hatchback,Luxury</td>\n",
       "      <td>Midsize</td>\n",
       "      <td>4dr Hatchback</td>\n",
       "      <td>23</td>\n",
       "      <td>16</td>\n",
       "      <td>204</td>\n",
       "      <td>56670</td>\n",
       "    </tr>\n",
       "    <tr>\n",
       "      <th>11911</th>\n",
       "      <td>2012</td>\n",
       "      <td>premium unleaded (required)</td>\n",
       "      <td>300.0</td>\n",
       "      <td>6.0</td>\n",
       "      <td>AUTOMATIC</td>\n",
       "      <td>all wheel drive</td>\n",
       "      <td>4.0</td>\n",
       "      <td>Crossover,Hatchback,Luxury</td>\n",
       "      <td>Midsize</td>\n",
       "      <td>4dr Hatchback</td>\n",
       "      <td>23</td>\n",
       "      <td>16</td>\n",
       "      <td>204</td>\n",
       "      <td>50620</td>\n",
       "    </tr>\n",
       "    <tr>\n",
       "      <th>11912</th>\n",
       "      <td>2013</td>\n",
       "      <td>premium unleaded (recommended)</td>\n",
       "      <td>300.0</td>\n",
       "      <td>6.0</td>\n",
       "      <td>AUTOMATIC</td>\n",
       "      <td>all wheel drive</td>\n",
       "      <td>4.0</td>\n",
       "      <td>Crossover,Hatchback,Luxury</td>\n",
       "      <td>Midsize</td>\n",
       "      <td>4dr Hatchback</td>\n",
       "      <td>23</td>\n",
       "      <td>16</td>\n",
       "      <td>204</td>\n",
       "      <td>50920</td>\n",
       "    </tr>\n",
       "    <tr>\n",
       "      <th>11913</th>\n",
       "      <td>2006</td>\n",
       "      <td>regular unleaded</td>\n",
       "      <td>221.0</td>\n",
       "      <td>6.0</td>\n",
       "      <td>AUTOMATIC</td>\n",
       "      <td>front wheel drive</td>\n",
       "      <td>4.0</td>\n",
       "      <td>Luxury</td>\n",
       "      <td>Midsize</td>\n",
       "      <td>Sedan</td>\n",
       "      <td>26</td>\n",
       "      <td>17</td>\n",
       "      <td>61</td>\n",
       "      <td>28995</td>\n",
       "    </tr>\n",
       "  </tbody>\n",
       "</table>\n",
       "<p>11912 rows × 14 columns</p>\n",
       "</div>"
      ],
      "text/plain": [
       "       Year                Engine Fuel Type  Engine HP  Engine Cylinders  \\\n",
       "2      2011     premium unleaded (required)      300.0               6.0   \n",
       "3      2011     premium unleaded (required)      230.0               6.0   \n",
       "4      2011     premium unleaded (required)      230.0               6.0   \n",
       "5      2012     premium unleaded (required)      230.0               6.0   \n",
       "6      2012     premium unleaded (required)      300.0               6.0   \n",
       "...     ...                             ...        ...               ...   \n",
       "11909  2012     premium unleaded (required)      300.0               6.0   \n",
       "11910  2012     premium unleaded (required)      300.0               6.0   \n",
       "11911  2012     premium unleaded (required)      300.0               6.0   \n",
       "11912  2013  premium unleaded (recommended)      300.0               6.0   \n",
       "11913  2006                regular unleaded      221.0               6.0   \n",
       "\n",
       "      Transmission Type      Driven_Wheels  Number of Doors  \\\n",
       "2                MANUAL   rear wheel drive              2.0   \n",
       "3                MANUAL   rear wheel drive              2.0   \n",
       "4                MANUAL   rear wheel drive              2.0   \n",
       "5                MANUAL   rear wheel drive              2.0   \n",
       "6                MANUAL   rear wheel drive              2.0   \n",
       "...                 ...                ...              ...   \n",
       "11909         AUTOMATIC    all wheel drive              4.0   \n",
       "11910         AUTOMATIC    all wheel drive              4.0   \n",
       "11911         AUTOMATIC    all wheel drive              4.0   \n",
       "11912         AUTOMATIC    all wheel drive              4.0   \n",
       "11913         AUTOMATIC  front wheel drive              4.0   \n",
       "\n",
       "                  Market Category Vehicle Size  Vehicle Style  highway MPG  \\\n",
       "2         Luxury,High-Performance      Compact          Coupe           28   \n",
       "3              Luxury,Performance      Compact          Coupe           28   \n",
       "4                          Luxury      Compact    Convertible           28   \n",
       "5              Luxury,Performance      Compact          Coupe           28   \n",
       "6              Luxury,Performance      Compact    Convertible           26   \n",
       "...                           ...          ...            ...          ...   \n",
       "11909  Crossover,Hatchback,Luxury      Midsize  4dr Hatchback           23   \n",
       "11910  Crossover,Hatchback,Luxury      Midsize  4dr Hatchback           23   \n",
       "11911  Crossover,Hatchback,Luxury      Midsize  4dr Hatchback           23   \n",
       "11912  Crossover,Hatchback,Luxury      Midsize  4dr Hatchback           23   \n",
       "11913                      Luxury      Midsize          Sedan           26   \n",
       "\n",
       "       city mpg  Popularity   MSRP  \n",
       "2            20        3916  36350  \n",
       "3            18        3916  29450  \n",
       "4            18        3916  34500  \n",
       "5            18        3916  31200  \n",
       "6            17        3916  44100  \n",
       "...         ...         ...    ...  \n",
       "11909        16         204  46120  \n",
       "11910        16         204  56670  \n",
       "11911        16         204  50620  \n",
       "11912        16         204  50920  \n",
       "11913        17          61  28995  \n",
       "\n",
       "[11912 rows x 14 columns]"
      ]
     },
     "execution_count": 55,
     "metadata": {},
     "output_type": "execute_result"
    }
   ],
   "source": [
    "# axis = 0 (default)\n",
    "df.drop([0, 1])     # Drop Rows 1 & 0"
   ]
  },
  {
   "cell_type": "markdown",
   "id": "d4b9a81c",
   "metadata": {
    "papermill": {
     "duration": 0.017868,
     "end_time": "2025-10-02T20:45:45.093979",
     "exception": false,
     "start_time": "2025-10-02T20:45:45.076111",
     "status": "completed"
    },
    "tags": []
   },
   "source": [
    "*`Cleaning Empty Cells` -> df.dropna() OR df.fillna()*"
   ]
  },
  {
   "cell_type": "markdown",
   "id": "19e531a3",
   "metadata": {
    "papermill": {
     "duration": 0.017523,
     "end_time": "2025-10-02T20:45:45.129724",
     "exception": false,
     "start_time": "2025-10-02T20:45:45.112201",
     "status": "completed"
    },
    "tags": []
   },
   "source": [
    "<img src='/kaggle/input/attachments/dropna.png'>"
   ]
  },
  {
   "cell_type": "code",
   "execution_count": 56,
   "id": "89aa572d",
   "metadata": {
    "execution": {
     "iopub.execute_input": "2025-10-02T20:45:45.166854Z",
     "iopub.status.busy": "2025-10-02T20:45:45.166487Z",
     "iopub.status.idle": "2025-10-02T20:45:45.187146Z",
     "shell.execute_reply": "2025-10-02T20:45:45.186363Z"
    },
    "papermill": {
     "duration": 0.040945,
     "end_time": "2025-10-02T20:45:45.188604",
     "exception": false,
     "start_time": "2025-10-02T20:45:45.147659",
     "status": "completed"
    },
    "tags": []
   },
   "outputs": [
    {
     "data": {
      "text/html": [
       "<div>\n",
       "<style scoped>\n",
       "    .dataframe tbody tr th:only-of-type {\n",
       "        vertical-align: middle;\n",
       "    }\n",
       "\n",
       "    .dataframe tbody tr th {\n",
       "        vertical-align: top;\n",
       "    }\n",
       "\n",
       "    .dataframe thead th {\n",
       "        text-align: right;\n",
       "    }\n",
       "</style>\n",
       "<table border=\"1\" class=\"dataframe\">\n",
       "  <thead>\n",
       "    <tr style=\"text-align: right;\">\n",
       "      <th></th>\n",
       "      <th>Year</th>\n",
       "      <th>Engine Fuel Type</th>\n",
       "      <th>Engine HP</th>\n",
       "      <th>Engine Cylinders</th>\n",
       "      <th>Transmission Type</th>\n",
       "      <th>Driven_Wheels</th>\n",
       "      <th>Number of Doors</th>\n",
       "      <th>Market Category</th>\n",
       "      <th>Vehicle Size</th>\n",
       "      <th>Vehicle Style</th>\n",
       "      <th>highway MPG</th>\n",
       "      <th>city mpg</th>\n",
       "      <th>Popularity</th>\n",
       "      <th>MSRP</th>\n",
       "    </tr>\n",
       "  </thead>\n",
       "  <tbody>\n",
       "    <tr>\n",
       "      <th>0</th>\n",
       "      <td>2011</td>\n",
       "      <td>premium unleaded (required)</td>\n",
       "      <td>335.0</td>\n",
       "      <td>6.0</td>\n",
       "      <td>MANUAL</td>\n",
       "      <td>rear wheel drive</td>\n",
       "      <td>2.0</td>\n",
       "      <td>Factory Tuner,Luxury,High-Performance</td>\n",
       "      <td>Compact</td>\n",
       "      <td>Coupe</td>\n",
       "      <td>26</td>\n",
       "      <td>19</td>\n",
       "      <td>3916</td>\n",
       "      <td>46135</td>\n",
       "    </tr>\n",
       "    <tr>\n",
       "      <th>1</th>\n",
       "      <td>2011</td>\n",
       "      <td>premium unleaded (required)</td>\n",
       "      <td>300.0</td>\n",
       "      <td>6.0</td>\n",
       "      <td>MANUAL</td>\n",
       "      <td>rear wheel drive</td>\n",
       "      <td>2.0</td>\n",
       "      <td>Luxury,Performance</td>\n",
       "      <td>Compact</td>\n",
       "      <td>Convertible</td>\n",
       "      <td>28</td>\n",
       "      <td>19</td>\n",
       "      <td>3916</td>\n",
       "      <td>40650</td>\n",
       "    </tr>\n",
       "    <tr>\n",
       "      <th>2</th>\n",
       "      <td>2011</td>\n",
       "      <td>premium unleaded (required)</td>\n",
       "      <td>300.0</td>\n",
       "      <td>6.0</td>\n",
       "      <td>MANUAL</td>\n",
       "      <td>rear wheel drive</td>\n",
       "      <td>2.0</td>\n",
       "      <td>Luxury,High-Performance</td>\n",
       "      <td>Compact</td>\n",
       "      <td>Coupe</td>\n",
       "      <td>28</td>\n",
       "      <td>20</td>\n",
       "      <td>3916</td>\n",
       "      <td>36350</td>\n",
       "    </tr>\n",
       "    <tr>\n",
       "      <th>3</th>\n",
       "      <td>2011</td>\n",
       "      <td>premium unleaded (required)</td>\n",
       "      <td>230.0</td>\n",
       "      <td>6.0</td>\n",
       "      <td>MANUAL</td>\n",
       "      <td>rear wheel drive</td>\n",
       "      <td>2.0</td>\n",
       "      <td>Luxury,Performance</td>\n",
       "      <td>Compact</td>\n",
       "      <td>Coupe</td>\n",
       "      <td>28</td>\n",
       "      <td>18</td>\n",
       "      <td>3916</td>\n",
       "      <td>29450</td>\n",
       "    </tr>\n",
       "    <tr>\n",
       "      <th>4</th>\n",
       "      <td>2011</td>\n",
       "      <td>premium unleaded (required)</td>\n",
       "      <td>230.0</td>\n",
       "      <td>6.0</td>\n",
       "      <td>MANUAL</td>\n",
       "      <td>rear wheel drive</td>\n",
       "      <td>2.0</td>\n",
       "      <td>Luxury</td>\n",
       "      <td>Compact</td>\n",
       "      <td>Convertible</td>\n",
       "      <td>28</td>\n",
       "      <td>18</td>\n",
       "      <td>3916</td>\n",
       "      <td>34500</td>\n",
       "    </tr>\n",
       "    <tr>\n",
       "      <th>...</th>\n",
       "      <td>...</td>\n",
       "      <td>...</td>\n",
       "      <td>...</td>\n",
       "      <td>...</td>\n",
       "      <td>...</td>\n",
       "      <td>...</td>\n",
       "      <td>...</td>\n",
       "      <td>...</td>\n",
       "      <td>...</td>\n",
       "      <td>...</td>\n",
       "      <td>...</td>\n",
       "      <td>...</td>\n",
       "      <td>...</td>\n",
       "      <td>...</td>\n",
       "    </tr>\n",
       "    <tr>\n",
       "      <th>11909</th>\n",
       "      <td>2012</td>\n",
       "      <td>premium unleaded (required)</td>\n",
       "      <td>300.0</td>\n",
       "      <td>6.0</td>\n",
       "      <td>AUTOMATIC</td>\n",
       "      <td>all wheel drive</td>\n",
       "      <td>4.0</td>\n",
       "      <td>Crossover,Hatchback,Luxury</td>\n",
       "      <td>Midsize</td>\n",
       "      <td>4dr Hatchback</td>\n",
       "      <td>23</td>\n",
       "      <td>16</td>\n",
       "      <td>204</td>\n",
       "      <td>46120</td>\n",
       "    </tr>\n",
       "    <tr>\n",
       "      <th>11910</th>\n",
       "      <td>2012</td>\n",
       "      <td>premium unleaded (required)</td>\n",
       "      <td>300.0</td>\n",
       "      <td>6.0</td>\n",
       "      <td>AUTOMATIC</td>\n",
       "      <td>all wheel drive</td>\n",
       "      <td>4.0</td>\n",
       "      <td>Crossover,Hatchback,Luxury</td>\n",
       "      <td>Midsize</td>\n",
       "      <td>4dr Hatchback</td>\n",
       "      <td>23</td>\n",
       "      <td>16</td>\n",
       "      <td>204</td>\n",
       "      <td>56670</td>\n",
       "    </tr>\n",
       "    <tr>\n",
       "      <th>11911</th>\n",
       "      <td>2012</td>\n",
       "      <td>premium unleaded (required)</td>\n",
       "      <td>300.0</td>\n",
       "      <td>6.0</td>\n",
       "      <td>AUTOMATIC</td>\n",
       "      <td>all wheel drive</td>\n",
       "      <td>4.0</td>\n",
       "      <td>Crossover,Hatchback,Luxury</td>\n",
       "      <td>Midsize</td>\n",
       "      <td>4dr Hatchback</td>\n",
       "      <td>23</td>\n",
       "      <td>16</td>\n",
       "      <td>204</td>\n",
       "      <td>50620</td>\n",
       "    </tr>\n",
       "    <tr>\n",
       "      <th>11912</th>\n",
       "      <td>2013</td>\n",
       "      <td>premium unleaded (recommended)</td>\n",
       "      <td>300.0</td>\n",
       "      <td>6.0</td>\n",
       "      <td>AUTOMATIC</td>\n",
       "      <td>all wheel drive</td>\n",
       "      <td>4.0</td>\n",
       "      <td>Crossover,Hatchback,Luxury</td>\n",
       "      <td>Midsize</td>\n",
       "      <td>4dr Hatchback</td>\n",
       "      <td>23</td>\n",
       "      <td>16</td>\n",
       "      <td>204</td>\n",
       "      <td>50920</td>\n",
       "    </tr>\n",
       "    <tr>\n",
       "      <th>11913</th>\n",
       "      <td>2006</td>\n",
       "      <td>regular unleaded</td>\n",
       "      <td>221.0</td>\n",
       "      <td>6.0</td>\n",
       "      <td>AUTOMATIC</td>\n",
       "      <td>front wheel drive</td>\n",
       "      <td>4.0</td>\n",
       "      <td>Luxury</td>\n",
       "      <td>Midsize</td>\n",
       "      <td>Sedan</td>\n",
       "      <td>26</td>\n",
       "      <td>17</td>\n",
       "      <td>61</td>\n",
       "      <td>28995</td>\n",
       "    </tr>\n",
       "  </tbody>\n",
       "</table>\n",
       "<p>8084 rows × 14 columns</p>\n",
       "</div>"
      ],
      "text/plain": [
       "       Year                Engine Fuel Type  Engine HP  Engine Cylinders  \\\n",
       "0      2011     premium unleaded (required)      335.0               6.0   \n",
       "1      2011     premium unleaded (required)      300.0               6.0   \n",
       "2      2011     premium unleaded (required)      300.0               6.0   \n",
       "3      2011     premium unleaded (required)      230.0               6.0   \n",
       "4      2011     premium unleaded (required)      230.0               6.0   \n",
       "...     ...                             ...        ...               ...   \n",
       "11909  2012     premium unleaded (required)      300.0               6.0   \n",
       "11910  2012     premium unleaded (required)      300.0               6.0   \n",
       "11911  2012     premium unleaded (required)      300.0               6.0   \n",
       "11912  2013  premium unleaded (recommended)      300.0               6.0   \n",
       "11913  2006                regular unleaded      221.0               6.0   \n",
       "\n",
       "      Transmission Type      Driven_Wheels  Number of Doors  \\\n",
       "0                MANUAL   rear wheel drive              2.0   \n",
       "1                MANUAL   rear wheel drive              2.0   \n",
       "2                MANUAL   rear wheel drive              2.0   \n",
       "3                MANUAL   rear wheel drive              2.0   \n",
       "4                MANUAL   rear wheel drive              2.0   \n",
       "...                 ...                ...              ...   \n",
       "11909         AUTOMATIC    all wheel drive              4.0   \n",
       "11910         AUTOMATIC    all wheel drive              4.0   \n",
       "11911         AUTOMATIC    all wheel drive              4.0   \n",
       "11912         AUTOMATIC    all wheel drive              4.0   \n",
       "11913         AUTOMATIC  front wheel drive              4.0   \n",
       "\n",
       "                             Market Category Vehicle Size  Vehicle Style  \\\n",
       "0      Factory Tuner,Luxury,High-Performance      Compact          Coupe   \n",
       "1                         Luxury,Performance      Compact    Convertible   \n",
       "2                    Luxury,High-Performance      Compact          Coupe   \n",
       "3                         Luxury,Performance      Compact          Coupe   \n",
       "4                                     Luxury      Compact    Convertible   \n",
       "...                                      ...          ...            ...   \n",
       "11909             Crossover,Hatchback,Luxury      Midsize  4dr Hatchback   \n",
       "11910             Crossover,Hatchback,Luxury      Midsize  4dr Hatchback   \n",
       "11911             Crossover,Hatchback,Luxury      Midsize  4dr Hatchback   \n",
       "11912             Crossover,Hatchback,Luxury      Midsize  4dr Hatchback   \n",
       "11913                                 Luxury      Midsize          Sedan   \n",
       "\n",
       "       highway MPG  city mpg  Popularity   MSRP  \n",
       "0               26        19        3916  46135  \n",
       "1               28        19        3916  40650  \n",
       "2               28        20        3916  36350  \n",
       "3               28        18        3916  29450  \n",
       "4               28        18        3916  34500  \n",
       "...            ...       ...         ...    ...  \n",
       "11909           23        16         204  46120  \n",
       "11910           23        16         204  56670  \n",
       "11911           23        16         204  50620  \n",
       "11912           23        16         204  50920  \n",
       "11913           26        17          61  28995  \n",
       "\n",
       "[8084 rows x 14 columns]"
      ]
     },
     "execution_count": 56,
     "metadata": {},
     "output_type": "execute_result"
    }
   ],
   "source": [
    "df.dropna()"
   ]
  },
  {
   "cell_type": "code",
   "execution_count": 57,
   "id": "71ecce4e",
   "metadata": {
    "execution": {
     "iopub.execute_input": "2025-10-02T20:45:45.227109Z",
     "iopub.status.busy": "2025-10-02T20:45:45.226818Z",
     "iopub.status.idle": "2025-10-02T20:45:45.243108Z",
     "shell.execute_reply": "2025-10-02T20:45:45.242271Z"
    },
    "papermill": {
     "duration": 0.036864,
     "end_time": "2025-10-02T20:45:45.244365",
     "exception": false,
     "start_time": "2025-10-02T20:45:45.207501",
     "status": "completed"
    },
    "tags": []
   },
   "outputs": [
    {
     "data": {
      "text/html": [
       "<div>\n",
       "<style scoped>\n",
       "    .dataframe tbody tr th:only-of-type {\n",
       "        vertical-align: middle;\n",
       "    }\n",
       "\n",
       "    .dataframe tbody tr th {\n",
       "        vertical-align: top;\n",
       "    }\n",
       "\n",
       "    .dataframe thead th {\n",
       "        text-align: right;\n",
       "    }\n",
       "</style>\n",
       "<table border=\"1\" class=\"dataframe\">\n",
       "  <thead>\n",
       "    <tr style=\"text-align: right;\">\n",
       "      <th></th>\n",
       "      <th>Year</th>\n",
       "      <th>Transmission Type</th>\n",
       "      <th>Driven_Wheels</th>\n",
       "      <th>Vehicle Size</th>\n",
       "      <th>Vehicle Style</th>\n",
       "      <th>highway MPG</th>\n",
       "      <th>city mpg</th>\n",
       "      <th>Popularity</th>\n",
       "      <th>MSRP</th>\n",
       "    </tr>\n",
       "  </thead>\n",
       "  <tbody>\n",
       "    <tr>\n",
       "      <th>0</th>\n",
       "      <td>2011</td>\n",
       "      <td>MANUAL</td>\n",
       "      <td>rear wheel drive</td>\n",
       "      <td>Compact</td>\n",
       "      <td>Coupe</td>\n",
       "      <td>26</td>\n",
       "      <td>19</td>\n",
       "      <td>3916</td>\n",
       "      <td>46135</td>\n",
       "    </tr>\n",
       "    <tr>\n",
       "      <th>1</th>\n",
       "      <td>2011</td>\n",
       "      <td>MANUAL</td>\n",
       "      <td>rear wheel drive</td>\n",
       "      <td>Compact</td>\n",
       "      <td>Convertible</td>\n",
       "      <td>28</td>\n",
       "      <td>19</td>\n",
       "      <td>3916</td>\n",
       "      <td>40650</td>\n",
       "    </tr>\n",
       "    <tr>\n",
       "      <th>2</th>\n",
       "      <td>2011</td>\n",
       "      <td>MANUAL</td>\n",
       "      <td>rear wheel drive</td>\n",
       "      <td>Compact</td>\n",
       "      <td>Coupe</td>\n",
       "      <td>28</td>\n",
       "      <td>20</td>\n",
       "      <td>3916</td>\n",
       "      <td>36350</td>\n",
       "    </tr>\n",
       "    <tr>\n",
       "      <th>3</th>\n",
       "      <td>2011</td>\n",
       "      <td>MANUAL</td>\n",
       "      <td>rear wheel drive</td>\n",
       "      <td>Compact</td>\n",
       "      <td>Coupe</td>\n",
       "      <td>28</td>\n",
       "      <td>18</td>\n",
       "      <td>3916</td>\n",
       "      <td>29450</td>\n",
       "    </tr>\n",
       "    <tr>\n",
       "      <th>4</th>\n",
       "      <td>2011</td>\n",
       "      <td>MANUAL</td>\n",
       "      <td>rear wheel drive</td>\n",
       "      <td>Compact</td>\n",
       "      <td>Convertible</td>\n",
       "      <td>28</td>\n",
       "      <td>18</td>\n",
       "      <td>3916</td>\n",
       "      <td>34500</td>\n",
       "    </tr>\n",
       "    <tr>\n",
       "      <th>...</th>\n",
       "      <td>...</td>\n",
       "      <td>...</td>\n",
       "      <td>...</td>\n",
       "      <td>...</td>\n",
       "      <td>...</td>\n",
       "      <td>...</td>\n",
       "      <td>...</td>\n",
       "      <td>...</td>\n",
       "      <td>...</td>\n",
       "    </tr>\n",
       "    <tr>\n",
       "      <th>11909</th>\n",
       "      <td>2012</td>\n",
       "      <td>AUTOMATIC</td>\n",
       "      <td>all wheel drive</td>\n",
       "      <td>Midsize</td>\n",
       "      <td>4dr Hatchback</td>\n",
       "      <td>23</td>\n",
       "      <td>16</td>\n",
       "      <td>204</td>\n",
       "      <td>46120</td>\n",
       "    </tr>\n",
       "    <tr>\n",
       "      <th>11910</th>\n",
       "      <td>2012</td>\n",
       "      <td>AUTOMATIC</td>\n",
       "      <td>all wheel drive</td>\n",
       "      <td>Midsize</td>\n",
       "      <td>4dr Hatchback</td>\n",
       "      <td>23</td>\n",
       "      <td>16</td>\n",
       "      <td>204</td>\n",
       "      <td>56670</td>\n",
       "    </tr>\n",
       "    <tr>\n",
       "      <th>11911</th>\n",
       "      <td>2012</td>\n",
       "      <td>AUTOMATIC</td>\n",
       "      <td>all wheel drive</td>\n",
       "      <td>Midsize</td>\n",
       "      <td>4dr Hatchback</td>\n",
       "      <td>23</td>\n",
       "      <td>16</td>\n",
       "      <td>204</td>\n",
       "      <td>50620</td>\n",
       "    </tr>\n",
       "    <tr>\n",
       "      <th>11912</th>\n",
       "      <td>2013</td>\n",
       "      <td>AUTOMATIC</td>\n",
       "      <td>all wheel drive</td>\n",
       "      <td>Midsize</td>\n",
       "      <td>4dr Hatchback</td>\n",
       "      <td>23</td>\n",
       "      <td>16</td>\n",
       "      <td>204</td>\n",
       "      <td>50920</td>\n",
       "    </tr>\n",
       "    <tr>\n",
       "      <th>11913</th>\n",
       "      <td>2006</td>\n",
       "      <td>AUTOMATIC</td>\n",
       "      <td>front wheel drive</td>\n",
       "      <td>Midsize</td>\n",
       "      <td>Sedan</td>\n",
       "      <td>26</td>\n",
       "      <td>17</td>\n",
       "      <td>61</td>\n",
       "      <td>28995</td>\n",
       "    </tr>\n",
       "  </tbody>\n",
       "</table>\n",
       "<p>11914 rows × 9 columns</p>\n",
       "</div>"
      ],
      "text/plain": [
       "       Year Transmission Type      Driven_Wheels Vehicle Size  Vehicle Style  \\\n",
       "0      2011            MANUAL   rear wheel drive      Compact          Coupe   \n",
       "1      2011            MANUAL   rear wheel drive      Compact    Convertible   \n",
       "2      2011            MANUAL   rear wheel drive      Compact          Coupe   \n",
       "3      2011            MANUAL   rear wheel drive      Compact          Coupe   \n",
       "4      2011            MANUAL   rear wheel drive      Compact    Convertible   \n",
       "...     ...               ...                ...          ...            ...   \n",
       "11909  2012         AUTOMATIC    all wheel drive      Midsize  4dr Hatchback   \n",
       "11910  2012         AUTOMATIC    all wheel drive      Midsize  4dr Hatchback   \n",
       "11911  2012         AUTOMATIC    all wheel drive      Midsize  4dr Hatchback   \n",
       "11912  2013         AUTOMATIC    all wheel drive      Midsize  4dr Hatchback   \n",
       "11913  2006         AUTOMATIC  front wheel drive      Midsize          Sedan   \n",
       "\n",
       "       highway MPG  city mpg  Popularity   MSRP  \n",
       "0               26        19        3916  46135  \n",
       "1               28        19        3916  40650  \n",
       "2               28        20        3916  36350  \n",
       "3               28        18        3916  29450  \n",
       "4               28        18        3916  34500  \n",
       "...            ...       ...         ...    ...  \n",
       "11909           23        16         204  46120  \n",
       "11910           23        16         204  56670  \n",
       "11911           23        16         204  50620  \n",
       "11912           23        16         204  50920  \n",
       "11913           26        17          61  28995  \n",
       "\n",
       "[11914 rows x 9 columns]"
      ]
     },
     "execution_count": 57,
     "metadata": {},
     "output_type": "execute_result"
    }
   ],
   "source": [
    "df.dropna(axis='columns')"
   ]
  },
  {
   "cell_type": "code",
   "execution_count": 58,
   "id": "f2e33a17",
   "metadata": {
    "execution": {
     "iopub.execute_input": "2025-10-02T20:45:45.283006Z",
     "iopub.status.busy": "2025-10-02T20:45:45.282726Z",
     "iopub.status.idle": "2025-10-02T20:45:45.303981Z",
     "shell.execute_reply": "2025-10-02T20:45:45.303211Z"
    },
    "papermill": {
     "duration": 0.042338,
     "end_time": "2025-10-02T20:45:45.305485",
     "exception": false,
     "start_time": "2025-10-02T20:45:45.263147",
     "status": "completed"
    },
    "tags": []
   },
   "outputs": [
    {
     "data": {
      "text/html": [
       "<div>\n",
       "<style scoped>\n",
       "    .dataframe tbody tr th:only-of-type {\n",
       "        vertical-align: middle;\n",
       "    }\n",
       "\n",
       "    .dataframe tbody tr th {\n",
       "        vertical-align: top;\n",
       "    }\n",
       "\n",
       "    .dataframe thead th {\n",
       "        text-align: right;\n",
       "    }\n",
       "</style>\n",
       "<table border=\"1\" class=\"dataframe\">\n",
       "  <thead>\n",
       "    <tr style=\"text-align: right;\">\n",
       "      <th></th>\n",
       "      <th>Year</th>\n",
       "      <th>Engine Fuel Type</th>\n",
       "      <th>Engine HP</th>\n",
       "      <th>Engine Cylinders</th>\n",
       "      <th>Transmission Type</th>\n",
       "      <th>Driven_Wheels</th>\n",
       "      <th>Number of Doors</th>\n",
       "      <th>Market Category</th>\n",
       "      <th>Vehicle Size</th>\n",
       "      <th>Vehicle Style</th>\n",
       "      <th>highway MPG</th>\n",
       "      <th>city mpg</th>\n",
       "      <th>Popularity</th>\n",
       "      <th>MSRP</th>\n",
       "    </tr>\n",
       "  </thead>\n",
       "  <tbody>\n",
       "    <tr>\n",
       "      <th>0</th>\n",
       "      <td>2011</td>\n",
       "      <td>premium unleaded (required)</td>\n",
       "      <td>335.0</td>\n",
       "      <td>6.0</td>\n",
       "      <td>MANUAL</td>\n",
       "      <td>rear wheel drive</td>\n",
       "      <td>2.0</td>\n",
       "      <td>Factory Tuner,Luxury,High-Performance</td>\n",
       "      <td>Compact</td>\n",
       "      <td>Coupe</td>\n",
       "      <td>26</td>\n",
       "      <td>19</td>\n",
       "      <td>3916</td>\n",
       "      <td>46135</td>\n",
       "    </tr>\n",
       "    <tr>\n",
       "      <th>1</th>\n",
       "      <td>2011</td>\n",
       "      <td>premium unleaded (required)</td>\n",
       "      <td>300.0</td>\n",
       "      <td>6.0</td>\n",
       "      <td>MANUAL</td>\n",
       "      <td>rear wheel drive</td>\n",
       "      <td>2.0</td>\n",
       "      <td>Luxury,Performance</td>\n",
       "      <td>Compact</td>\n",
       "      <td>Convertible</td>\n",
       "      <td>28</td>\n",
       "      <td>19</td>\n",
       "      <td>3916</td>\n",
       "      <td>40650</td>\n",
       "    </tr>\n",
       "    <tr>\n",
       "      <th>2</th>\n",
       "      <td>2011</td>\n",
       "      <td>premium unleaded (required)</td>\n",
       "      <td>300.0</td>\n",
       "      <td>6.0</td>\n",
       "      <td>MANUAL</td>\n",
       "      <td>rear wheel drive</td>\n",
       "      <td>2.0</td>\n",
       "      <td>Luxury,High-Performance</td>\n",
       "      <td>Compact</td>\n",
       "      <td>Coupe</td>\n",
       "      <td>28</td>\n",
       "      <td>20</td>\n",
       "      <td>3916</td>\n",
       "      <td>36350</td>\n",
       "    </tr>\n",
       "    <tr>\n",
       "      <th>3</th>\n",
       "      <td>2011</td>\n",
       "      <td>premium unleaded (required)</td>\n",
       "      <td>230.0</td>\n",
       "      <td>6.0</td>\n",
       "      <td>MANUAL</td>\n",
       "      <td>rear wheel drive</td>\n",
       "      <td>2.0</td>\n",
       "      <td>Luxury,Performance</td>\n",
       "      <td>Compact</td>\n",
       "      <td>Coupe</td>\n",
       "      <td>28</td>\n",
       "      <td>18</td>\n",
       "      <td>3916</td>\n",
       "      <td>29450</td>\n",
       "    </tr>\n",
       "    <tr>\n",
       "      <th>4</th>\n",
       "      <td>2011</td>\n",
       "      <td>premium unleaded (required)</td>\n",
       "      <td>230.0</td>\n",
       "      <td>6.0</td>\n",
       "      <td>MANUAL</td>\n",
       "      <td>rear wheel drive</td>\n",
       "      <td>2.0</td>\n",
       "      <td>Luxury</td>\n",
       "      <td>Compact</td>\n",
       "      <td>Convertible</td>\n",
       "      <td>28</td>\n",
       "      <td>18</td>\n",
       "      <td>3916</td>\n",
       "      <td>34500</td>\n",
       "    </tr>\n",
       "    <tr>\n",
       "      <th>...</th>\n",
       "      <td>...</td>\n",
       "      <td>...</td>\n",
       "      <td>...</td>\n",
       "      <td>...</td>\n",
       "      <td>...</td>\n",
       "      <td>...</td>\n",
       "      <td>...</td>\n",
       "      <td>...</td>\n",
       "      <td>...</td>\n",
       "      <td>...</td>\n",
       "      <td>...</td>\n",
       "      <td>...</td>\n",
       "      <td>...</td>\n",
       "      <td>...</td>\n",
       "    </tr>\n",
       "    <tr>\n",
       "      <th>11909</th>\n",
       "      <td>2012</td>\n",
       "      <td>premium unleaded (required)</td>\n",
       "      <td>300.0</td>\n",
       "      <td>6.0</td>\n",
       "      <td>AUTOMATIC</td>\n",
       "      <td>all wheel drive</td>\n",
       "      <td>4.0</td>\n",
       "      <td>Crossover,Hatchback,Luxury</td>\n",
       "      <td>Midsize</td>\n",
       "      <td>4dr Hatchback</td>\n",
       "      <td>23</td>\n",
       "      <td>16</td>\n",
       "      <td>204</td>\n",
       "      <td>46120</td>\n",
       "    </tr>\n",
       "    <tr>\n",
       "      <th>11910</th>\n",
       "      <td>2012</td>\n",
       "      <td>premium unleaded (required)</td>\n",
       "      <td>300.0</td>\n",
       "      <td>6.0</td>\n",
       "      <td>AUTOMATIC</td>\n",
       "      <td>all wheel drive</td>\n",
       "      <td>4.0</td>\n",
       "      <td>Crossover,Hatchback,Luxury</td>\n",
       "      <td>Midsize</td>\n",
       "      <td>4dr Hatchback</td>\n",
       "      <td>23</td>\n",
       "      <td>16</td>\n",
       "      <td>204</td>\n",
       "      <td>56670</td>\n",
       "    </tr>\n",
       "    <tr>\n",
       "      <th>11911</th>\n",
       "      <td>2012</td>\n",
       "      <td>premium unleaded (required)</td>\n",
       "      <td>300.0</td>\n",
       "      <td>6.0</td>\n",
       "      <td>AUTOMATIC</td>\n",
       "      <td>all wheel drive</td>\n",
       "      <td>4.0</td>\n",
       "      <td>Crossover,Hatchback,Luxury</td>\n",
       "      <td>Midsize</td>\n",
       "      <td>4dr Hatchback</td>\n",
       "      <td>23</td>\n",
       "      <td>16</td>\n",
       "      <td>204</td>\n",
       "      <td>50620</td>\n",
       "    </tr>\n",
       "    <tr>\n",
       "      <th>11912</th>\n",
       "      <td>2013</td>\n",
       "      <td>premium unleaded (recommended)</td>\n",
       "      <td>300.0</td>\n",
       "      <td>6.0</td>\n",
       "      <td>AUTOMATIC</td>\n",
       "      <td>all wheel drive</td>\n",
       "      <td>4.0</td>\n",
       "      <td>Crossover,Hatchback,Luxury</td>\n",
       "      <td>Midsize</td>\n",
       "      <td>4dr Hatchback</td>\n",
       "      <td>23</td>\n",
       "      <td>16</td>\n",
       "      <td>204</td>\n",
       "      <td>50920</td>\n",
       "    </tr>\n",
       "    <tr>\n",
       "      <th>11913</th>\n",
       "      <td>2006</td>\n",
       "      <td>regular unleaded</td>\n",
       "      <td>221.0</td>\n",
       "      <td>6.0</td>\n",
       "      <td>AUTOMATIC</td>\n",
       "      <td>front wheel drive</td>\n",
       "      <td>4.0</td>\n",
       "      <td>Luxury</td>\n",
       "      <td>Midsize</td>\n",
       "      <td>Sedan</td>\n",
       "      <td>26</td>\n",
       "      <td>17</td>\n",
       "      <td>61</td>\n",
       "      <td>28995</td>\n",
       "    </tr>\n",
       "  </tbody>\n",
       "</table>\n",
       "<p>11914 rows × 14 columns</p>\n",
       "</div>"
      ],
      "text/plain": [
       "       Year                Engine Fuel Type  Engine HP  Engine Cylinders  \\\n",
       "0      2011     premium unleaded (required)      335.0               6.0   \n",
       "1      2011     premium unleaded (required)      300.0               6.0   \n",
       "2      2011     premium unleaded (required)      300.0               6.0   \n",
       "3      2011     premium unleaded (required)      230.0               6.0   \n",
       "4      2011     premium unleaded (required)      230.0               6.0   \n",
       "...     ...                             ...        ...               ...   \n",
       "11909  2012     premium unleaded (required)      300.0               6.0   \n",
       "11910  2012     premium unleaded (required)      300.0               6.0   \n",
       "11911  2012     premium unleaded (required)      300.0               6.0   \n",
       "11912  2013  premium unleaded (recommended)      300.0               6.0   \n",
       "11913  2006                regular unleaded      221.0               6.0   \n",
       "\n",
       "      Transmission Type      Driven_Wheels  Number of Doors  \\\n",
       "0                MANUAL   rear wheel drive              2.0   \n",
       "1                MANUAL   rear wheel drive              2.0   \n",
       "2                MANUAL   rear wheel drive              2.0   \n",
       "3                MANUAL   rear wheel drive              2.0   \n",
       "4                MANUAL   rear wheel drive              2.0   \n",
       "...                 ...                ...              ...   \n",
       "11909         AUTOMATIC    all wheel drive              4.0   \n",
       "11910         AUTOMATIC    all wheel drive              4.0   \n",
       "11911         AUTOMATIC    all wheel drive              4.0   \n",
       "11912         AUTOMATIC    all wheel drive              4.0   \n",
       "11913         AUTOMATIC  front wheel drive              4.0   \n",
       "\n",
       "                             Market Category Vehicle Size  Vehicle Style  \\\n",
       "0      Factory Tuner,Luxury,High-Performance      Compact          Coupe   \n",
       "1                         Luxury,Performance      Compact    Convertible   \n",
       "2                    Luxury,High-Performance      Compact          Coupe   \n",
       "3                         Luxury,Performance      Compact          Coupe   \n",
       "4                                     Luxury      Compact    Convertible   \n",
       "...                                      ...          ...            ...   \n",
       "11909             Crossover,Hatchback,Luxury      Midsize  4dr Hatchback   \n",
       "11910             Crossover,Hatchback,Luxury      Midsize  4dr Hatchback   \n",
       "11911             Crossover,Hatchback,Luxury      Midsize  4dr Hatchback   \n",
       "11912             Crossover,Hatchback,Luxury      Midsize  4dr Hatchback   \n",
       "11913                                 Luxury      Midsize          Sedan   \n",
       "\n",
       "       highway MPG  city mpg  Popularity   MSRP  \n",
       "0               26        19        3916  46135  \n",
       "1               28        19        3916  40650  \n",
       "2               28        20        3916  36350  \n",
       "3               28        18        3916  29450  \n",
       "4               28        18        3916  34500  \n",
       "...            ...       ...         ...    ...  \n",
       "11909           23        16         204  46120  \n",
       "11910           23        16         204  56670  \n",
       "11911           23        16         204  50620  \n",
       "11912           23        16         204  50920  \n",
       "11913           26        17          61  28995  \n",
       "\n",
       "[11914 rows x 14 columns]"
      ]
     },
     "execution_count": 58,
     "metadata": {},
     "output_type": "execute_result"
    }
   ],
   "source": [
    "df.dropna(how='all')"
   ]
  },
  {
   "cell_type": "code",
   "execution_count": 59,
   "id": "eff8c236",
   "metadata": {
    "execution": {
     "iopub.execute_input": "2025-10-02T20:45:45.345122Z",
     "iopub.status.busy": "2025-10-02T20:45:45.344860Z",
     "iopub.status.idle": "2025-10-02T20:45:45.368104Z",
     "shell.execute_reply": "2025-10-02T20:45:45.367313Z"
    },
    "papermill": {
     "duration": 0.044515,
     "end_time": "2025-10-02T20:45:45.369410",
     "exception": false,
     "start_time": "2025-10-02T20:45:45.324895",
     "status": "completed"
    },
    "tags": []
   },
   "outputs": [
    {
     "data": {
      "text/html": [
       "<div>\n",
       "<style scoped>\n",
       "    .dataframe tbody tr th:only-of-type {\n",
       "        vertical-align: middle;\n",
       "    }\n",
       "\n",
       "    .dataframe tbody tr th {\n",
       "        vertical-align: top;\n",
       "    }\n",
       "\n",
       "    .dataframe thead th {\n",
       "        text-align: right;\n",
       "    }\n",
       "</style>\n",
       "<table border=\"1\" class=\"dataframe\">\n",
       "  <thead>\n",
       "    <tr style=\"text-align: right;\">\n",
       "      <th></th>\n",
       "      <th>Year</th>\n",
       "      <th>Engine Fuel Type</th>\n",
       "      <th>Engine HP</th>\n",
       "      <th>Engine Cylinders</th>\n",
       "      <th>Transmission Type</th>\n",
       "      <th>Driven_Wheels</th>\n",
       "      <th>Number of Doors</th>\n",
       "      <th>Market Category</th>\n",
       "      <th>Vehicle Size</th>\n",
       "      <th>Vehicle Style</th>\n",
       "      <th>highway MPG</th>\n",
       "      <th>city mpg</th>\n",
       "      <th>Popularity</th>\n",
       "      <th>MSRP</th>\n",
       "    </tr>\n",
       "  </thead>\n",
       "  <tbody>\n",
       "    <tr>\n",
       "      <th>0</th>\n",
       "      <td>2011</td>\n",
       "      <td>premium unleaded (required)</td>\n",
       "      <td>335.0</td>\n",
       "      <td>6.0</td>\n",
       "      <td>MANUAL</td>\n",
       "      <td>rear wheel drive</td>\n",
       "      <td>2.0</td>\n",
       "      <td>Factory Tuner,Luxury,High-Performance</td>\n",
       "      <td>Compact</td>\n",
       "      <td>Coupe</td>\n",
       "      <td>26</td>\n",
       "      <td>19</td>\n",
       "      <td>3916</td>\n",
       "      <td>46135</td>\n",
       "    </tr>\n",
       "    <tr>\n",
       "      <th>1</th>\n",
       "      <td>2011</td>\n",
       "      <td>premium unleaded (required)</td>\n",
       "      <td>300.0</td>\n",
       "      <td>6.0</td>\n",
       "      <td>MANUAL</td>\n",
       "      <td>rear wheel drive</td>\n",
       "      <td>2.0</td>\n",
       "      <td>Luxury,Performance</td>\n",
       "      <td>Compact</td>\n",
       "      <td>Convertible</td>\n",
       "      <td>28</td>\n",
       "      <td>19</td>\n",
       "      <td>3916</td>\n",
       "      <td>40650</td>\n",
       "    </tr>\n",
       "    <tr>\n",
       "      <th>2</th>\n",
       "      <td>2011</td>\n",
       "      <td>premium unleaded (required)</td>\n",
       "      <td>300.0</td>\n",
       "      <td>6.0</td>\n",
       "      <td>MANUAL</td>\n",
       "      <td>rear wheel drive</td>\n",
       "      <td>2.0</td>\n",
       "      <td>Luxury,High-Performance</td>\n",
       "      <td>Compact</td>\n",
       "      <td>Coupe</td>\n",
       "      <td>28</td>\n",
       "      <td>20</td>\n",
       "      <td>3916</td>\n",
       "      <td>36350</td>\n",
       "    </tr>\n",
       "    <tr>\n",
       "      <th>3</th>\n",
       "      <td>2011</td>\n",
       "      <td>premium unleaded (required)</td>\n",
       "      <td>230.0</td>\n",
       "      <td>6.0</td>\n",
       "      <td>MANUAL</td>\n",
       "      <td>rear wheel drive</td>\n",
       "      <td>2.0</td>\n",
       "      <td>Luxury,Performance</td>\n",
       "      <td>Compact</td>\n",
       "      <td>Coupe</td>\n",
       "      <td>28</td>\n",
       "      <td>18</td>\n",
       "      <td>3916</td>\n",
       "      <td>29450</td>\n",
       "    </tr>\n",
       "    <tr>\n",
       "      <th>4</th>\n",
       "      <td>2011</td>\n",
       "      <td>premium unleaded (required)</td>\n",
       "      <td>230.0</td>\n",
       "      <td>6.0</td>\n",
       "      <td>MANUAL</td>\n",
       "      <td>rear wheel drive</td>\n",
       "      <td>2.0</td>\n",
       "      <td>Luxury</td>\n",
       "      <td>Compact</td>\n",
       "      <td>Convertible</td>\n",
       "      <td>28</td>\n",
       "      <td>18</td>\n",
       "      <td>3916</td>\n",
       "      <td>34500</td>\n",
       "    </tr>\n",
       "    <tr>\n",
       "      <th>...</th>\n",
       "      <td>...</td>\n",
       "      <td>...</td>\n",
       "      <td>...</td>\n",
       "      <td>...</td>\n",
       "      <td>...</td>\n",
       "      <td>...</td>\n",
       "      <td>...</td>\n",
       "      <td>...</td>\n",
       "      <td>...</td>\n",
       "      <td>...</td>\n",
       "      <td>...</td>\n",
       "      <td>...</td>\n",
       "      <td>...</td>\n",
       "      <td>...</td>\n",
       "    </tr>\n",
       "    <tr>\n",
       "      <th>11909</th>\n",
       "      <td>2012</td>\n",
       "      <td>premium unleaded (required)</td>\n",
       "      <td>300.0</td>\n",
       "      <td>6.0</td>\n",
       "      <td>AUTOMATIC</td>\n",
       "      <td>all wheel drive</td>\n",
       "      <td>4.0</td>\n",
       "      <td>Crossover,Hatchback,Luxury</td>\n",
       "      <td>Midsize</td>\n",
       "      <td>4dr Hatchback</td>\n",
       "      <td>23</td>\n",
       "      <td>16</td>\n",
       "      <td>204</td>\n",
       "      <td>46120</td>\n",
       "    </tr>\n",
       "    <tr>\n",
       "      <th>11910</th>\n",
       "      <td>2012</td>\n",
       "      <td>premium unleaded (required)</td>\n",
       "      <td>300.0</td>\n",
       "      <td>6.0</td>\n",
       "      <td>AUTOMATIC</td>\n",
       "      <td>all wheel drive</td>\n",
       "      <td>4.0</td>\n",
       "      <td>Crossover,Hatchback,Luxury</td>\n",
       "      <td>Midsize</td>\n",
       "      <td>4dr Hatchback</td>\n",
       "      <td>23</td>\n",
       "      <td>16</td>\n",
       "      <td>204</td>\n",
       "      <td>56670</td>\n",
       "    </tr>\n",
       "    <tr>\n",
       "      <th>11911</th>\n",
       "      <td>2012</td>\n",
       "      <td>premium unleaded (required)</td>\n",
       "      <td>300.0</td>\n",
       "      <td>6.0</td>\n",
       "      <td>AUTOMATIC</td>\n",
       "      <td>all wheel drive</td>\n",
       "      <td>4.0</td>\n",
       "      <td>Crossover,Hatchback,Luxury</td>\n",
       "      <td>Midsize</td>\n",
       "      <td>4dr Hatchback</td>\n",
       "      <td>23</td>\n",
       "      <td>16</td>\n",
       "      <td>204</td>\n",
       "      <td>50620</td>\n",
       "    </tr>\n",
       "    <tr>\n",
       "      <th>11912</th>\n",
       "      <td>2013</td>\n",
       "      <td>premium unleaded (recommended)</td>\n",
       "      <td>300.0</td>\n",
       "      <td>6.0</td>\n",
       "      <td>AUTOMATIC</td>\n",
       "      <td>all wheel drive</td>\n",
       "      <td>4.0</td>\n",
       "      <td>Crossover,Hatchback,Luxury</td>\n",
       "      <td>Midsize</td>\n",
       "      <td>4dr Hatchback</td>\n",
       "      <td>23</td>\n",
       "      <td>16</td>\n",
       "      <td>204</td>\n",
       "      <td>50920</td>\n",
       "    </tr>\n",
       "    <tr>\n",
       "      <th>11913</th>\n",
       "      <td>2006</td>\n",
       "      <td>regular unleaded</td>\n",
       "      <td>221.0</td>\n",
       "      <td>6.0</td>\n",
       "      <td>AUTOMATIC</td>\n",
       "      <td>front wheel drive</td>\n",
       "      <td>4.0</td>\n",
       "      <td>Luxury</td>\n",
       "      <td>Midsize</td>\n",
       "      <td>Sedan</td>\n",
       "      <td>26</td>\n",
       "      <td>17</td>\n",
       "      <td>61</td>\n",
       "      <td>28995</td>\n",
       "    </tr>\n",
       "  </tbody>\n",
       "</table>\n",
       "<p>11914 rows × 14 columns</p>\n",
       "</div>"
      ],
      "text/plain": [
       "       Year                Engine Fuel Type  Engine HP  Engine Cylinders  \\\n",
       "0      2011     premium unleaded (required)      335.0               6.0   \n",
       "1      2011     premium unleaded (required)      300.0               6.0   \n",
       "2      2011     premium unleaded (required)      300.0               6.0   \n",
       "3      2011     premium unleaded (required)      230.0               6.0   \n",
       "4      2011     premium unleaded (required)      230.0               6.0   \n",
       "...     ...                             ...        ...               ...   \n",
       "11909  2012     premium unleaded (required)      300.0               6.0   \n",
       "11910  2012     premium unleaded (required)      300.0               6.0   \n",
       "11911  2012     premium unleaded (required)      300.0               6.0   \n",
       "11912  2013  premium unleaded (recommended)      300.0               6.0   \n",
       "11913  2006                regular unleaded      221.0               6.0   \n",
       "\n",
       "      Transmission Type      Driven_Wheels  Number of Doors  \\\n",
       "0                MANUAL   rear wheel drive              2.0   \n",
       "1                MANUAL   rear wheel drive              2.0   \n",
       "2                MANUAL   rear wheel drive              2.0   \n",
       "3                MANUAL   rear wheel drive              2.0   \n",
       "4                MANUAL   rear wheel drive              2.0   \n",
       "...                 ...                ...              ...   \n",
       "11909         AUTOMATIC    all wheel drive              4.0   \n",
       "11910         AUTOMATIC    all wheel drive              4.0   \n",
       "11911         AUTOMATIC    all wheel drive              4.0   \n",
       "11912         AUTOMATIC    all wheel drive              4.0   \n",
       "11913         AUTOMATIC  front wheel drive              4.0   \n",
       "\n",
       "                             Market Category Vehicle Size  Vehicle Style  \\\n",
       "0      Factory Tuner,Luxury,High-Performance      Compact          Coupe   \n",
       "1                         Luxury,Performance      Compact    Convertible   \n",
       "2                    Luxury,High-Performance      Compact          Coupe   \n",
       "3                         Luxury,Performance      Compact          Coupe   \n",
       "4                                     Luxury      Compact    Convertible   \n",
       "...                                      ...          ...            ...   \n",
       "11909             Crossover,Hatchback,Luxury      Midsize  4dr Hatchback   \n",
       "11910             Crossover,Hatchback,Luxury      Midsize  4dr Hatchback   \n",
       "11911             Crossover,Hatchback,Luxury      Midsize  4dr Hatchback   \n",
       "11912             Crossover,Hatchback,Luxury      Midsize  4dr Hatchback   \n",
       "11913                                 Luxury      Midsize          Sedan   \n",
       "\n",
       "       highway MPG  city mpg  Popularity   MSRP  \n",
       "0               26        19        3916  46135  \n",
       "1               28        19        3916  40650  \n",
       "2               28        20        3916  36350  \n",
       "3               28        18        3916  29450  \n",
       "4               28        18        3916  34500  \n",
       "...            ...       ...         ...    ...  \n",
       "11909           23        16         204  46120  \n",
       "11910           23        16         204  56670  \n",
       "11911           23        16         204  50620  \n",
       "11912           23        16         204  50920  \n",
       "11913           26        17          61  28995  \n",
       "\n",
       "[11914 rows x 14 columns]"
      ]
     },
     "execution_count": 59,
     "metadata": {},
     "output_type": "execute_result"
    }
   ],
   "source": [
    "df.dropna(thresh=2)"
   ]
  },
  {
   "cell_type": "markdown",
   "id": "5929f564",
   "metadata": {
    "papermill": {
     "duration": 0.018814,
     "end_time": "2025-10-02T20:45:45.408008",
     "exception": false,
     "start_time": "2025-10-02T20:45:45.389194",
     "status": "completed"
    },
    "tags": []
   },
   "source": [
    "<img src='/kaggle/input/attachments/fillna.png'>"
   ]
  },
  {
   "cell_type": "code",
   "execution_count": 60,
   "id": "d9c76fba",
   "metadata": {
    "execution": {
     "iopub.execute_input": "2025-10-02T20:45:45.446996Z",
     "iopub.status.busy": "2025-10-02T20:45:45.446360Z",
     "iopub.status.idle": "2025-10-02T20:45:45.467368Z",
     "shell.execute_reply": "2025-10-02T20:45:45.466605Z"
    },
    "papermill": {
     "duration": 0.041808,
     "end_time": "2025-10-02T20:45:45.468642",
     "exception": false,
     "start_time": "2025-10-02T20:45:45.426834",
     "status": "completed"
    },
    "tags": []
   },
   "outputs": [
    {
     "data": {
      "text/html": [
       "<div>\n",
       "<style scoped>\n",
       "    .dataframe tbody tr th:only-of-type {\n",
       "        vertical-align: middle;\n",
       "    }\n",
       "\n",
       "    .dataframe tbody tr th {\n",
       "        vertical-align: top;\n",
       "    }\n",
       "\n",
       "    .dataframe thead th {\n",
       "        text-align: right;\n",
       "    }\n",
       "</style>\n",
       "<table border=\"1\" class=\"dataframe\">\n",
       "  <thead>\n",
       "    <tr style=\"text-align: right;\">\n",
       "      <th></th>\n",
       "      <th>Year</th>\n",
       "      <th>Engine Fuel Type</th>\n",
       "      <th>Engine HP</th>\n",
       "      <th>Engine Cylinders</th>\n",
       "      <th>Transmission Type</th>\n",
       "      <th>Driven_Wheels</th>\n",
       "      <th>Number of Doors</th>\n",
       "      <th>Market Category</th>\n",
       "      <th>Vehicle Size</th>\n",
       "      <th>Vehicle Style</th>\n",
       "      <th>highway MPG</th>\n",
       "      <th>city mpg</th>\n",
       "      <th>Popularity</th>\n",
       "      <th>MSRP</th>\n",
       "    </tr>\n",
       "  </thead>\n",
       "  <tbody>\n",
       "    <tr>\n",
       "      <th>0</th>\n",
       "      <td>2011</td>\n",
       "      <td>premium unleaded (required)</td>\n",
       "      <td>335.0</td>\n",
       "      <td>6.0</td>\n",
       "      <td>MANUAL</td>\n",
       "      <td>rear wheel drive</td>\n",
       "      <td>2.0</td>\n",
       "      <td>Factory Tuner,Luxury,High-Performance</td>\n",
       "      <td>Compact</td>\n",
       "      <td>Coupe</td>\n",
       "      <td>26</td>\n",
       "      <td>19</td>\n",
       "      <td>3916</td>\n",
       "      <td>46135</td>\n",
       "    </tr>\n",
       "    <tr>\n",
       "      <th>1</th>\n",
       "      <td>2011</td>\n",
       "      <td>premium unleaded (required)</td>\n",
       "      <td>300.0</td>\n",
       "      <td>6.0</td>\n",
       "      <td>MANUAL</td>\n",
       "      <td>rear wheel drive</td>\n",
       "      <td>2.0</td>\n",
       "      <td>Luxury,Performance</td>\n",
       "      <td>Compact</td>\n",
       "      <td>Convertible</td>\n",
       "      <td>28</td>\n",
       "      <td>19</td>\n",
       "      <td>3916</td>\n",
       "      <td>40650</td>\n",
       "    </tr>\n",
       "    <tr>\n",
       "      <th>2</th>\n",
       "      <td>2011</td>\n",
       "      <td>premium unleaded (required)</td>\n",
       "      <td>300.0</td>\n",
       "      <td>6.0</td>\n",
       "      <td>MANUAL</td>\n",
       "      <td>rear wheel drive</td>\n",
       "      <td>2.0</td>\n",
       "      <td>Luxury,High-Performance</td>\n",
       "      <td>Compact</td>\n",
       "      <td>Coupe</td>\n",
       "      <td>28</td>\n",
       "      <td>20</td>\n",
       "      <td>3916</td>\n",
       "      <td>36350</td>\n",
       "    </tr>\n",
       "    <tr>\n",
       "      <th>3</th>\n",
       "      <td>2011</td>\n",
       "      <td>premium unleaded (required)</td>\n",
       "      <td>230.0</td>\n",
       "      <td>6.0</td>\n",
       "      <td>MANUAL</td>\n",
       "      <td>rear wheel drive</td>\n",
       "      <td>2.0</td>\n",
       "      <td>Luxury,Performance</td>\n",
       "      <td>Compact</td>\n",
       "      <td>Coupe</td>\n",
       "      <td>28</td>\n",
       "      <td>18</td>\n",
       "      <td>3916</td>\n",
       "      <td>29450</td>\n",
       "    </tr>\n",
       "    <tr>\n",
       "      <th>4</th>\n",
       "      <td>2011</td>\n",
       "      <td>premium unleaded (required)</td>\n",
       "      <td>230.0</td>\n",
       "      <td>6.0</td>\n",
       "      <td>MANUAL</td>\n",
       "      <td>rear wheel drive</td>\n",
       "      <td>2.0</td>\n",
       "      <td>Luxury</td>\n",
       "      <td>Compact</td>\n",
       "      <td>Convertible</td>\n",
       "      <td>28</td>\n",
       "      <td>18</td>\n",
       "      <td>3916</td>\n",
       "      <td>34500</td>\n",
       "    </tr>\n",
       "    <tr>\n",
       "      <th>...</th>\n",
       "      <td>...</td>\n",
       "      <td>...</td>\n",
       "      <td>...</td>\n",
       "      <td>...</td>\n",
       "      <td>...</td>\n",
       "      <td>...</td>\n",
       "      <td>...</td>\n",
       "      <td>...</td>\n",
       "      <td>...</td>\n",
       "      <td>...</td>\n",
       "      <td>...</td>\n",
       "      <td>...</td>\n",
       "      <td>...</td>\n",
       "      <td>...</td>\n",
       "    </tr>\n",
       "    <tr>\n",
       "      <th>11909</th>\n",
       "      <td>2012</td>\n",
       "      <td>premium unleaded (required)</td>\n",
       "      <td>300.0</td>\n",
       "      <td>6.0</td>\n",
       "      <td>AUTOMATIC</td>\n",
       "      <td>all wheel drive</td>\n",
       "      <td>4.0</td>\n",
       "      <td>Crossover,Hatchback,Luxury</td>\n",
       "      <td>Midsize</td>\n",
       "      <td>4dr Hatchback</td>\n",
       "      <td>23</td>\n",
       "      <td>16</td>\n",
       "      <td>204</td>\n",
       "      <td>46120</td>\n",
       "    </tr>\n",
       "    <tr>\n",
       "      <th>11910</th>\n",
       "      <td>2012</td>\n",
       "      <td>premium unleaded (required)</td>\n",
       "      <td>300.0</td>\n",
       "      <td>6.0</td>\n",
       "      <td>AUTOMATIC</td>\n",
       "      <td>all wheel drive</td>\n",
       "      <td>4.0</td>\n",
       "      <td>Crossover,Hatchback,Luxury</td>\n",
       "      <td>Midsize</td>\n",
       "      <td>4dr Hatchback</td>\n",
       "      <td>23</td>\n",
       "      <td>16</td>\n",
       "      <td>204</td>\n",
       "      <td>56670</td>\n",
       "    </tr>\n",
       "    <tr>\n",
       "      <th>11911</th>\n",
       "      <td>2012</td>\n",
       "      <td>premium unleaded (required)</td>\n",
       "      <td>300.0</td>\n",
       "      <td>6.0</td>\n",
       "      <td>AUTOMATIC</td>\n",
       "      <td>all wheel drive</td>\n",
       "      <td>4.0</td>\n",
       "      <td>Crossover,Hatchback,Luxury</td>\n",
       "      <td>Midsize</td>\n",
       "      <td>4dr Hatchback</td>\n",
       "      <td>23</td>\n",
       "      <td>16</td>\n",
       "      <td>204</td>\n",
       "      <td>50620</td>\n",
       "    </tr>\n",
       "    <tr>\n",
       "      <th>11912</th>\n",
       "      <td>2013</td>\n",
       "      <td>premium unleaded (recommended)</td>\n",
       "      <td>300.0</td>\n",
       "      <td>6.0</td>\n",
       "      <td>AUTOMATIC</td>\n",
       "      <td>all wheel drive</td>\n",
       "      <td>4.0</td>\n",
       "      <td>Crossover,Hatchback,Luxury</td>\n",
       "      <td>Midsize</td>\n",
       "      <td>4dr Hatchback</td>\n",
       "      <td>23</td>\n",
       "      <td>16</td>\n",
       "      <td>204</td>\n",
       "      <td>50920</td>\n",
       "    </tr>\n",
       "    <tr>\n",
       "      <th>11913</th>\n",
       "      <td>2006</td>\n",
       "      <td>regular unleaded</td>\n",
       "      <td>221.0</td>\n",
       "      <td>6.0</td>\n",
       "      <td>AUTOMATIC</td>\n",
       "      <td>front wheel drive</td>\n",
       "      <td>4.0</td>\n",
       "      <td>Luxury</td>\n",
       "      <td>Midsize</td>\n",
       "      <td>Sedan</td>\n",
       "      <td>26</td>\n",
       "      <td>17</td>\n",
       "      <td>61</td>\n",
       "      <td>28995</td>\n",
       "    </tr>\n",
       "  </tbody>\n",
       "</table>\n",
       "<p>11914 rows × 14 columns</p>\n",
       "</div>"
      ],
      "text/plain": [
       "       Year                Engine Fuel Type  Engine HP  Engine Cylinders  \\\n",
       "0      2011     premium unleaded (required)      335.0               6.0   \n",
       "1      2011     premium unleaded (required)      300.0               6.0   \n",
       "2      2011     premium unleaded (required)      300.0               6.0   \n",
       "3      2011     premium unleaded (required)      230.0               6.0   \n",
       "4      2011     premium unleaded (required)      230.0               6.0   \n",
       "...     ...                             ...        ...               ...   \n",
       "11909  2012     premium unleaded (required)      300.0               6.0   \n",
       "11910  2012     premium unleaded (required)      300.0               6.0   \n",
       "11911  2012     premium unleaded (required)      300.0               6.0   \n",
       "11912  2013  premium unleaded (recommended)      300.0               6.0   \n",
       "11913  2006                regular unleaded      221.0               6.0   \n",
       "\n",
       "      Transmission Type      Driven_Wheels  Number of Doors  \\\n",
       "0                MANUAL   rear wheel drive              2.0   \n",
       "1                MANUAL   rear wheel drive              2.0   \n",
       "2                MANUAL   rear wheel drive              2.0   \n",
       "3                MANUAL   rear wheel drive              2.0   \n",
       "4                MANUAL   rear wheel drive              2.0   \n",
       "...                 ...                ...              ...   \n",
       "11909         AUTOMATIC    all wheel drive              4.0   \n",
       "11910         AUTOMATIC    all wheel drive              4.0   \n",
       "11911         AUTOMATIC    all wheel drive              4.0   \n",
       "11912         AUTOMATIC    all wheel drive              4.0   \n",
       "11913         AUTOMATIC  front wheel drive              4.0   \n",
       "\n",
       "                             Market Category Vehicle Size  Vehicle Style  \\\n",
       "0      Factory Tuner,Luxury,High-Performance      Compact          Coupe   \n",
       "1                         Luxury,Performance      Compact    Convertible   \n",
       "2                    Luxury,High-Performance      Compact          Coupe   \n",
       "3                         Luxury,Performance      Compact          Coupe   \n",
       "4                                     Luxury      Compact    Convertible   \n",
       "...                                      ...          ...            ...   \n",
       "11909             Crossover,Hatchback,Luxury      Midsize  4dr Hatchback   \n",
       "11910             Crossover,Hatchback,Luxury      Midsize  4dr Hatchback   \n",
       "11911             Crossover,Hatchback,Luxury      Midsize  4dr Hatchback   \n",
       "11912             Crossover,Hatchback,Luxury      Midsize  4dr Hatchback   \n",
       "11913                                 Luxury      Midsize          Sedan   \n",
       "\n",
       "       highway MPG  city mpg  Popularity   MSRP  \n",
       "0               26        19        3916  46135  \n",
       "1               28        19        3916  40650  \n",
       "2               28        20        3916  36350  \n",
       "3               28        18        3916  29450  \n",
       "4               28        18        3916  34500  \n",
       "...            ...       ...         ...    ...  \n",
       "11909           23        16         204  46120  \n",
       "11910           23        16         204  56670  \n",
       "11911           23        16         204  50620  \n",
       "11912           23        16         204  50920  \n",
       "11913           26        17          61  28995  \n",
       "\n",
       "[11914 rows x 14 columns]"
      ]
     },
     "execution_count": 60,
     "metadata": {},
     "output_type": "execute_result"
    }
   ],
   "source": [
    "df.fillna(0)   # Fill Empty Cells with 0"
   ]
  },
  {
   "cell_type": "markdown",
   "id": "f0bc518a",
   "metadata": {
    "papermill": {
     "duration": 0.019117,
     "end_time": "2025-10-02T20:45:45.507719",
     "exception": false,
     "start_time": "2025-10-02T20:45:45.488602",
     "status": "completed"
    },
    "tags": []
   },
   "source": [
    "*`Find Duplicates and Remove them`*"
   ]
  },
  {
   "cell_type": "markdown",
   "id": "7960455b",
   "metadata": {
    "papermill": {
     "duration": 0.020595,
     "end_time": "2025-10-02T20:45:45.547837",
     "exception": false,
     "start_time": "2025-10-02T20:45:45.527242",
     "status": "completed"
    },
    "tags": []
   },
   "source": [
    "<img src='/kaggle/input/attachments/dup.png'>"
   ]
  },
  {
   "cell_type": "code",
   "execution_count": 61,
   "id": "ff412e98",
   "metadata": {
    "execution": {
     "iopub.execute_input": "2025-10-02T20:45:45.589373Z",
     "iopub.status.busy": "2025-10-02T20:45:45.589115Z",
     "iopub.status.idle": "2025-10-02T20:45:45.603146Z",
     "shell.execute_reply": "2025-10-02T20:45:45.602252Z"
    },
    "papermill": {
     "duration": 0.035889,
     "end_time": "2025-10-02T20:45:45.604577",
     "exception": false,
     "start_time": "2025-10-02T20:45:45.568688",
     "status": "completed"
    },
    "tags": []
   },
   "outputs": [
    {
     "data": {
      "text/plain": [
       "724"
      ]
     },
     "execution_count": 61,
     "metadata": {},
     "output_type": "execute_result"
    }
   ],
   "source": [
    "# How many Duplicated Rows ?\n",
    "df.duplicated().sum()"
   ]
  },
  {
   "cell_type": "markdown",
   "id": "0f67a076",
   "metadata": {
    "papermill": {
     "duration": 0.019434,
     "end_time": "2025-10-02T20:45:45.643850",
     "exception": false,
     "start_time": "2025-10-02T20:45:45.624416",
     "status": "completed"
    },
    "tags": []
   },
   "source": [
    "*`Set & Reset Index`*"
   ]
  },
  {
   "cell_type": "code",
   "execution_count": null,
   "id": "89b3a1d0",
   "metadata": {
    "papermill": {
     "duration": 0.019195,
     "end_time": "2025-10-02T20:45:45.682366",
     "exception": false,
     "start_time": "2025-10-02T20:45:45.663171",
     "status": "completed"
    },
    "tags": []
   },
   "outputs": [],
   "source": []
  },
  {
   "cell_type": "code",
   "execution_count": null,
   "id": "39f8a6c8",
   "metadata": {
    "papermill": {
     "duration": 0.019219,
     "end_time": "2025-10-02T20:45:45.720948",
     "exception": false,
     "start_time": "2025-10-02T20:45:45.701729",
     "status": "completed"
    },
    "tags": []
   },
   "outputs": [],
   "source": []
  },
  {
   "cell_type": "code",
   "execution_count": null,
   "id": "bfbae7c8",
   "metadata": {
    "papermill": {
     "duration": 0.019292,
     "end_time": "2025-10-02T20:45:45.760267",
     "exception": false,
     "start_time": "2025-10-02T20:45:45.740975",
     "status": "completed"
    },
    "tags": []
   },
   "outputs": [],
   "source": []
  },
  {
   "cell_type": "code",
   "execution_count": null,
   "id": "73d245d3",
   "metadata": {
    "papermill": {
     "duration": 0.019347,
     "end_time": "2025-10-02T20:45:45.799203",
     "exception": false,
     "start_time": "2025-10-02T20:45:45.779856",
     "status": "completed"
    },
    "tags": []
   },
   "outputs": [],
   "source": []
  },
  {
   "cell_type": "markdown",
   "id": "8199711d",
   "metadata": {
    "papermill": {
     "duration": 0.01926,
     "end_time": "2025-10-02T20:45:45.837923",
     "exception": false,
     "start_time": "2025-10-02T20:45:45.818663",
     "status": "completed"
    },
    "tags": []
   },
   "source": [
    "*`Group By & Aggegation Methods`*"
   ]
  },
  {
   "cell_type": "code",
   "execution_count": null,
   "id": "263eeb87",
   "metadata": {
    "papermill": {
     "duration": 0.019627,
     "end_time": "2025-10-02T20:45:45.877721",
     "exception": false,
     "start_time": "2025-10-02T20:45:45.858094",
     "status": "completed"
    },
    "tags": []
   },
   "outputs": [],
   "source": []
  },
  {
   "cell_type": "code",
   "execution_count": null,
   "id": "d7e1094b",
   "metadata": {
    "papermill": {
     "duration": 0.019661,
     "end_time": "2025-10-02T20:45:45.917133",
     "exception": false,
     "start_time": "2025-10-02T20:45:45.897472",
     "status": "completed"
    },
    "tags": []
   },
   "outputs": [],
   "source": []
  },
  {
   "cell_type": "markdown",
   "id": "70bb9de8",
   "metadata": {
    "papermill": {
     "duration": 0.01954,
     "end_time": "2025-10-02T20:45:45.956619",
     "exception": false,
     "start_time": "2025-10-02T20:45:45.937079",
     "status": "completed"
    },
    "tags": []
   },
   "source": [
    "*`Sorting`*"
   ]
  },
  {
   "cell_type": "markdown",
   "id": "f09c2d79",
   "metadata": {
    "papermill": {
     "duration": 0.019647,
     "end_time": "2025-10-02T20:45:45.996132",
     "exception": false,
     "start_time": "2025-10-02T20:45:45.976485",
     "status": "completed"
    },
    "tags": []
   },
   "source": []
  },
  {
   "cell_type": "code",
   "execution_count": null,
   "id": "817b6e28",
   "metadata": {
    "papermill": {
     "duration": 0.019658,
     "end_time": "2025-10-02T20:45:46.035584",
     "exception": false,
     "start_time": "2025-10-02T20:45:46.015926",
     "status": "completed"
    },
    "tags": []
   },
   "outputs": [],
   "source": []
  },
  {
   "cell_type": "code",
   "execution_count": null,
   "id": "4b0bdbcc",
   "metadata": {
    "papermill": {
     "duration": 0.021735,
     "end_time": "2025-10-02T20:45:46.077168",
     "exception": false,
     "start_time": "2025-10-02T20:45:46.055433",
     "status": "completed"
    },
    "tags": []
   },
   "outputs": [],
   "source": []
  },
  {
   "cell_type": "code",
   "execution_count": null,
   "id": "f16a6792",
   "metadata": {
    "papermill": {
     "duration": 0.019344,
     "end_time": "2025-10-02T20:45:46.116298",
     "exception": false,
     "start_time": "2025-10-02T20:45:46.096954",
     "status": "completed"
    },
    "tags": []
   },
   "outputs": [],
   "source": []
  },
  {
   "cell_type": "code",
   "execution_count": null,
   "id": "19a35b68",
   "metadata": {
    "papermill": {
     "duration": 0.019312,
     "end_time": "2025-10-02T20:45:46.155357",
     "exception": false,
     "start_time": "2025-10-02T20:45:46.136045",
     "status": "completed"
    },
    "tags": []
   },
   "outputs": [],
   "source": []
  },
  {
   "cell_type": "markdown",
   "id": "f7b10f87",
   "metadata": {
    "papermill": {
     "duration": 0.01929,
     "end_time": "2025-10-02T20:45:46.194072",
     "exception": false,
     "start_time": "2025-10-02T20:45:46.174782",
     "status": "completed"
    },
    "tags": []
   },
   "source": [
    "*`Data Integration`*\n",
    "- Append\n",
    "- Concatenate\n",
    "- Merge\n",
    "- Join"
   ]
  },
  {
   "cell_type": "code",
   "execution_count": null,
   "id": "9781688d",
   "metadata": {
    "papermill": {
     "duration": 0.019127,
     "end_time": "2025-10-02T20:45:46.232754",
     "exception": false,
     "start_time": "2025-10-02T20:45:46.213627",
     "status": "completed"
    },
    "tags": []
   },
   "outputs": [],
   "source": []
  },
  {
   "cell_type": "code",
   "execution_count": null,
   "id": "2f62115d",
   "metadata": {
    "papermill": {
     "duration": 0.019292,
     "end_time": "2025-10-02T20:45:46.271741",
     "exception": false,
     "start_time": "2025-10-02T20:45:46.252449",
     "status": "completed"
    },
    "tags": []
   },
   "outputs": [],
   "source": []
  },
  {
   "cell_type": "code",
   "execution_count": null,
   "id": "f17a3a6e",
   "metadata": {
    "papermill": {
     "duration": 0.019389,
     "end_time": "2025-10-02T20:45:46.310561",
     "exception": false,
     "start_time": "2025-10-02T20:45:46.291172",
     "status": "completed"
    },
    "tags": []
   },
   "outputs": [],
   "source": []
  },
  {
   "cell_type": "code",
   "execution_count": null,
   "id": "ae8ba9ac",
   "metadata": {
    "papermill": {
     "duration": 0.019491,
     "end_time": "2025-10-02T20:45:46.349538",
     "exception": false,
     "start_time": "2025-10-02T20:45:46.330047",
     "status": "completed"
    },
    "tags": []
   },
   "outputs": [],
   "source": []
  },
  {
   "cell_type": "code",
   "execution_count": null,
   "id": "947f6195",
   "metadata": {
    "papermill": {
     "duration": 0.019206,
     "end_time": "2025-10-02T20:45:46.388278",
     "exception": false,
     "start_time": "2025-10-02T20:45:46.369072",
     "status": "completed"
    },
    "tags": []
   },
   "outputs": [],
   "source": []
  },
  {
   "cell_type": "markdown",
   "id": "411a0221",
   "metadata": {
    "papermill": {
     "duration": 0.019246,
     "end_time": "2025-10-02T20:45:46.427044",
     "exception": false,
     "start_time": "2025-10-02T20:45:46.407798",
     "status": "completed"
    },
    "tags": []
   },
   "source": [
    "*`Export DataFrames To CSV File`*"
   ]
  },
  {
   "cell_type": "markdown",
   "id": "d2e61170",
   "metadata": {
    "papermill": {
     "duration": 0.019274,
     "end_time": "2025-10-02T20:45:46.465912",
     "exception": false,
     "start_time": "2025-10-02T20:45:46.446638",
     "status": "completed"
    },
    "tags": []
   },
   "source": []
  }
 ],
 "metadata": {
  "kaggle": {
   "accelerator": "none",
   "dataSources": [
    {
     "datasetId": 8392763,
     "sourceId": 13245357,
     "sourceType": "datasetVersion"
    }
   ],
   "dockerImageVersionId": 31089,
   "isGpuEnabled": false,
   "isInternetEnabled": true,
   "language": "python",
   "sourceType": "notebook"
  },
  "kernelspec": {
   "display_name": "Python 3",
   "language": "python",
   "name": "python3"
  },
  "language_info": {
   "codemirror_mode": {
    "name": "ipython",
    "version": 3
   },
   "file_extension": ".py",
   "mimetype": "text/x-python",
   "name": "python",
   "nbconvert_exporter": "python",
   "pygments_lexer": "ipython3",
   "version": "3.11.13"
  },
  "papermill": {
   "default_parameters": {},
   "duration": 11.309475,
   "end_time": "2025-10-02T20:45:46.903923",
   "environment_variables": {},
   "exception": null,
   "input_path": "__notebook__.ipynb",
   "output_path": "__notebook__.ipynb",
   "parameters": {},
   "start_time": "2025-10-02T20:45:35.594448",
   "version": "2.6.0"
  }
 },
 "nbformat": 4,
 "nbformat_minor": 5
}
